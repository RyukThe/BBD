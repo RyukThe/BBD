{
  "nbformat": 4,
  "nbformat_minor": 0,
  "metadata": {
    "colab": {
      "provenance": [],
      "authorship_tag": "ABX9TyOVUcKKzvZwaeEq1wXQD/JY",
      "include_colab_link": true
    },
    "kernelspec": {
      "name": "python3",
      "display_name": "Python 3"
    },
    "language_info": {
      "name": "python"
    }
  },
  "cells": [
    {
      "cell_type": "markdown",
      "metadata": {
        "id": "view-in-github",
        "colab_type": "text"
      },
      "source": [
        "<a href=\"https://colab.research.google.com/github/RyukThe/BBD-python-selenium-notebook/blob/master/Python.ipynb\" target=\"_parent\"><img src=\"https://colab.research.google.com/assets/colab-badge.svg\" alt=\"Open In Colab\"/></a>"
      ]
    },
    {
      "cell_type": "markdown",
      "source": [
        "Introduction to python\n",
        "What exactly is programming?\n",
        "Solving problem through code and turning idea into actionable instructions.\n",
        ""
      ],
      "metadata": {
        "id": "ZiKELesTdq8q"
      }
    },
    {
      "cell_type": "code",
      "source": [
        "print(\"Hello World!!\")"
      ],
      "metadata": {
        "colab": {
          "base_uri": "https://localhost:8080/"
        },
        "id": "I7_r_jGnlSN-",
        "outputId": "5aad1327-b2ac-419c-cd69-ae03345ac3bc"
      },
      "execution_count": 1,
      "outputs": [
        {
          "output_type": "stream",
          "name": "stdout",
          "text": [
            "Hello World!!\n"
          ]
        }
      ]
    },
    {
      "cell_type": "markdown",
      "source": [
        "**Understanding the syntax of python**\n",
        "print is function is python to print argument on console we have to pass the argument in parenthesis (). so it will appear on the consle.\n",
        "shortcut to open terminal in VS code is ctrl + ~\n",
        "to run the python file we have to use python filename.py"
      ],
      "metadata": {
        "id": "EhNPZfG2mGF3"
      }
    },
    {
      "cell_type": "code",
      "source": [
        "print(\"Hey I am Tom\")\n",
        "print(\"I am good\")\n",
        "print(\"How are you?\")"
      ],
      "metadata": {
        "colab": {
          "base_uri": "https://localhost:8080/"
        },
        "id": "hsfdKVGenibj",
        "outputId": "02a2b721-3863-4a71-8cc6-80ba1085643d"
      },
      "execution_count": 2,
      "outputs": [
        {
          "output_type": "stream",
          "name": "stdout",
          "text": [
            "Hey I am Tom\n",
            "I am good\n",
            "How are you?\n"
          ]
        }
      ]
    },
    {
      "cell_type": "markdown",
      "source": [
        "###How python read the file?\n",
        "Python read the file top to bottom line by line and scan for any erro if it found it will show the line where error is occur execute the code.\n",
        "When syntax error occur then it won't execute any code it directly throw line number where syntax error is occour. show the error name. i.e. syntax error.\n",
        "\n",
        "**By default print() function create the new line after printing something on console**\n",
        "\n",
        "In python, indentation is very important because it way to know that programmer is in the block of code or not. So in python : represent the starting point of block and indentation show the point it is part of block.\n",
        "\n",
        "# **Comment in Python**\n",
        "* Comment are used to explain code and ignore by the python interpreter.\n",
        "comment is way for programmers which instruct the Python interpreter that hey, ignore this line.\n",
        "* single line comment with #\n",
        "* Multiline comment are enclosed in ''' or \"\"\"\n"
      ],
      "metadata": {
        "id": "l_TWFycqpVUD"
      }
    },
    {
      "cell_type": "code",
      "source": [
        "#Single line comment\n",
        "\"\"\"Multiline comment\"\"\"\n",
        "'''Multiline comment'''"
      ],
      "metadata": {
        "id": "iRHkFAwusNRh"
      },
      "execution_count": null,
      "outputs": []
    },
    {
      "cell_type": "markdown",
      "source": [
        "#**Variable and Datatype in Python**\n",
        "Variable is nothing but are container where data is store in memory location. So, by using the variable we can manipulate the data in program multiple time. Variable used fro information reusebility.\n",
        "variable is created when we assgin the value to that variable. then this value is store in memory location.\n",
        "\n",
        "variable_name=value_of_variable\n",
        "One variable can store one information at a time.\n",
        "in Variable we can store the integere, string, float types of values."
      ],
      "metadata": {
        "id": "53tMFagitwb-"
      }
    },
    {
      "cell_type": "code",
      "source": [
        "age=13 #integer\n",
        "name =\"Tom\" #string\n",
        "cgpa= 4.55 #float"
      ],
      "metadata": {
        "id": "mOFVS-gWvDDz"
      },
      "execution_count": 4,
      "outputs": []
    },
    {
      "cell_type": "markdown",
      "source": [
        "In python there are some rule which type of character variable can contain.\n",
        "**Python is dynamically typed language** which means we don't have to specify which data type a perticular variable contains.\n",
        "Python automatically looks at the value and figures out that type of value. like string, float or int.\n",
        "\n",
        "### **Rules of defining a variable in python / naming a variable**\n",
        "1. Variable name must start with a letter (a-z, A-Z) or an underscore(_)\n",
        "2. They can contain letters, numbers, and underscores.\n",
        "3. Variable names are case-sensitive (age and Age are different).\n",
        "4. Avoid using python keywords.(e.g. if, for, while) as variable names.\n",
        "\n",
        "23age=2 #this is invalid because variable cannont start with a number.\n",
        "\n",
        "age=32 # is valid variable.\n",
        "age$e=45# is invalid variable because variable can not contain the special symbol other than the _ (underscore)."
      ],
      "metadata": {
        "id": "iXQ0dtX9v8Wv"
      }
    },
    {
      "cell_type": "code",
      "source": [
        "_age=45 #valid variable\n",
        "__age__=45#valid variable\n",
        "a_b_c=45#Valid variable"
      ],
      "metadata": {
        "id": "euXUNCvGvEze"
      },
      "execution_count": null,
      "outputs": []
    },
    {
      "cell_type": "markdown",
      "source": [
        "python supports several built-in data types:\n",
        "**Inbuild Datatypes in python**\n",
        "1. integers (int): whole numbers (e.g. 10,-5)\n",
        "2. Floats (float): Decimal numbers (e.g. 3.14, -9.34)\n",
        "3. Strings (str): Text data enclosed in quotes. (e.g. 'hello', \"Hello\")\n",
        "4. Booleans (bool): Represents True or False.\n",
        "5. Lists: Order mutable collections (e.g. [1,2,'str',0.43])\n",
        "6. Tuples: Order immutable collections. (e.g. (1,34,\"str\",034.34)\n",
        "7. Sets: Unorder collections of unique element (e.g. {1,2,3})\n",
        "8. Dictionaries: key-value pairs (e.g. {{\"key\":\"value\", \"name\"=\"Alice\", \"age\"=34}).\n",
        "\n",
        "**type()** by using type function we can get to know what is type of variable is.\n",
        "\n"
      ],
      "metadata": {
        "id": "FtYqsQqxzAqg"
      }
    },
    {
      "cell_type": "code",
      "source": [
        "age=18\n",
        "print(f\"age = {age} & type of age = ({type(age)})\")\n",
        "name=\"Tom\"\n",
        "print(f\"name = {name} & type of name = {type(name)}\")\n",
        "cgpa=4.55\n",
        "print(f\"cgpa = {cgpa} & type of cgpa = {type(cgpa)}\")\n",
        "is_completed=True\n",
        "print(f\"is_completed = {is_completed} & type of is_completed = {type(is_completed)}\")\n"
      ],
      "metadata": {
        "colab": {
          "base_uri": "https://localhost:8080/"
        },
        "id": "M3UPQ-Nc1Zyt",
        "outputId": "64d9f002-d69a-41d3-e91f-742e7114dbd7"
      },
      "execution_count": 10,
      "outputs": [
        {
          "output_type": "stream",
          "name": "stdout",
          "text": [
            "age = 18 & type of age = (<class 'int'>)\n",
            "name = Tom & type of name = <class 'str'>\n",
            "cgpa = 4.55 & type of cgpa = <class 'float'>\n",
            "is_completed = True & type of is_completed = <class 'bool'>\n"
          ]
        }
      ]
    },
    {
      "cell_type": "markdown",
      "source": [
        "**Type Casting**\n",
        "Typecasting is the process of converting one data type to another.\n",
        "* python provides built-in functions for type casting.\n",
        "1. int(): converts to integer.\n",
        "2. float(): Converts to float.\n",
        "3. str(): converts to string.\n",
        "5. bool(): converts to bool.\n",
        "Changing one data type information to another.\n",
        "Some time we have to convert the string to integer. Like if we condition like if age>18 but if we got age in str like \"18\" the we have to convert it to int first."
      ],
      "metadata": {
        "id": "AZYOprVt3J8E"
      }
    },
    {
      "cell_type": "code",
      "source": [
        "a=34\n",
        "b=\"34\"\n",
        "d=457\n",
        "print(a)\n",
        "print(type(a))\n",
        "print(b)\n",
        "print(type(b))\n",
        "c=int(b) #this will convert the str b to the integer and store in c. Here we dont\n",
        "#change the type of be directly we change type of its and store in another vairalbe.\n",
        "print(type(c))\n",
        "e=str(d) #e is the string version of integer d.\n",
        "print(type(e))"
      ],
      "metadata": {
        "colab": {
          "base_uri": "https://localhost:8080/"
        },
        "id": "y8a-bymu1nu1",
        "outputId": "617c1a35-5251-46da-d1cc-8836ae0f96ad"
      },
      "execution_count": 14,
      "outputs": [
        {
          "output_type": "stream",
          "name": "stdout",
          "text": [
            "34\n",
            "<class 'int'>\n",
            "34\n",
            "<class 'str'>\n",
            "<class 'int'>\n",
            "<class 'str'>\n"
          ]
        }
      ]
    },
    {
      "cell_type": "markdown",
      "source": [
        "**Taking User Inputs**\n",
        "* To take input from user we have to use built-in fuction called input().\n",
        "*note: when we use this input() it will take input in form of string by default.  \n",
        "*Note: while using input function we have to pass promt messege it's optional parameter but we must have to use it. So, user can get idea which data have to pass.\n"
      ],
      "metadata": {
        "id": "ClYm7FSa69HL"
      }
    },
    {
      "cell_type": "code",
      "source": [
        "a = input(\"Enter a Number\") # this will show message(prompt) on console and take input from user\n",
        "#store it in variable a.\n",
        "print(a)\n",
        "print(type(a))"
      ],
      "metadata": {
        "colab": {
          "base_uri": "https://localhost:8080/"
        },
        "id": "kK9-RBom7f2g",
        "outputId": "6b5e4337-6e4c-4dd6-a65a-cd008b1ec02c"
      },
      "execution_count": 17,
      "outputs": [
        {
          "output_type": "stream",
          "name": "stdout",
          "text": [
            "Enter a Number57\n",
            "57\n",
            "<class 'str'>\n"
          ]
        }
      ]
    },
    {
      "cell_type": "code",
      "source": [
        "# #addition of two number\n",
        "# a = input(\"Enter first Number\")\n",
        "# a=int(a) #convert a to int version of a\n",
        "# print(a+3)\n",
        "\n",
        "a=int(input(\"Enter first Number : \"))\n",
        "b=int(input(\"Enter second Number : \"))\n",
        "print(a+b)\n"
      ],
      "metadata": {
        "colab": {
          "base_uri": "https://localhost:8080/"
        },
        "id": "b5dUNlAR9dfT",
        "outputId": "8a066ce7-9489-4f81-99e0-016a91375e4b"
      },
      "execution_count": 20,
      "outputs": [
        {
          "output_type": "stream",
          "name": "stdout",
          "text": [
            "Enter first Number : 5\n",
            "Enter second Number : 10\n",
            "15\n"
          ]
        }
      ]
    },
    {
      "cell_type": "markdown",
      "source": [
        "# **Escape Sequences**\n"
      ],
      "metadata": {
        "id": "ZKbH8OtlAlrs"
      }
    },
    {
      "cell_type": "code",
      "source": [],
      "metadata": {
        "id": "5kABIU9PAlXW"
      },
      "execution_count": null,
      "outputs": []
    }
  ]
}