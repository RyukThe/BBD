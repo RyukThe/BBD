{
  "nbformat": 4,
  "nbformat_minor": 0,
  "metadata": {
    "colab": {
      "provenance": [],
      "authorship_tag": "ABX9TyOLDQXQZdMopLAfAqYa/PeA",
      "include_colab_link": true
    },
    "kernelspec": {
      "name": "python3",
      "display_name": "Python 3"
    },
    "language_info": {
      "name": "python"
    }
  },
  "cells": [
    {
      "cell_type": "markdown",
      "metadata": {
        "id": "view-in-github",
        "colab_type": "text"
      },
      "source": [
        "<a href=\"https://colab.research.google.com/github/RyukThe/BBD-python-selenium-notebook/blob/master/Python.ipynb\" target=\"_parent\"><img src=\"https://colab.research.google.com/assets/colab-badge.svg\" alt=\"Open In Colab\"/></a>"
      ]
    },
    {
      "cell_type": "markdown",
      "source": [
        "Introduction to python\n",
        "What exactly is programming?\n",
        "Solving problem through code and turning idea into actionable instructions.\n"
      ],
      "metadata": {
        "id": "ZiKELesTdq8q"
      }
    },
    {
      "cell_type": "code",
      "source": [
        "print(\"Hello World!!\")"
      ],
      "metadata": {
        "colab": {
          "base_uri": "https://localhost:8080/"
        },
        "id": "I7_r_jGnlSN-",
        "outputId": "5aad1327-b2ac-419c-cd69-ae03345ac3bc"
      },
      "execution_count": null,
      "outputs": [
        {
          "output_type": "stream",
          "name": "stdout",
          "text": [
            "Hello World!!\n"
          ]
        }
      ]
    },
    {
      "cell_type": "markdown",
      "source": [
        "**Understanding the syntax of python**\n",
        "##print() statement\n",
        "* The print() function is used to display output.\n",
        "print is function is python to print argument on console we have to pass the argument in parenthesis (). so it will appear on the consle.\n",
        "* In a print statement if we use , to give multiple string argument it automatically add space.\n",
        "i.e. print('hello','str')\n",
        "\n",
        "* **By default print() function create the new line after printing something on console**\n",
        "* we can change this default behavior of print statement for multiple string arguments in single print statment space to comma by using sep argument\\parameter i.e. sep=\",\"\n",
        "\n",
        "print(\"str1\", \"str2\", sep=\",\")\n",
        "\n",
        "* similary, we can change the behavior of print() function after printing somthing on consle it move cursor to new line. Because by defautl it have end value is \\n. we change this behavior using end parameter\\argument like\n",
        "print(\"hello\", end='')\n",
        "\n",
        "* shortcut to open terminal in VS code is ctrl + ~\n",
        "to run the python file we have to use python filename.py"
      ],
      "metadata": {
        "id": "EhNPZfG2mGF3"
      }
    },
    {
      "cell_type": "code",
      "source": [
        "print(\"Hey I am Tom\")\n",
        "print('Hellow world',\"Tom\",\"Shelby\")\n",
        "print(\"I am good\")\n",
        "print(\"How are you?\")\n",
        "\n",
        "# sep argument\n",
        "print(\"I am good\", \"How are you?\", sep=\",\")\n",
        "'''by default value of sep parameter is space'''\n",
        "# now it's add commam instade of\n",
        "#space i.e. default to comma we can pass any seprator like / or any\n",
        "# end argument\n",
        "print(\"hello\", end='')\n",
        "'''by default value of end parameter is \\n'''\n",
        "# it won't move cursor to newline\n",
        "print(\"world\")"
      ],
      "metadata": {
        "colab": {
          "base_uri": "https://localhost:8080/"
        },
        "id": "hsfdKVGenibj",
        "outputId": "66b002f8-c123-422b-9994-5bf3044e9efc"
      },
      "execution_count": null,
      "outputs": [
        {
          "output_type": "stream",
          "name": "stdout",
          "text": [
            "Hey I am Tom\n",
            "Hellow world Tom Shelby\n",
            "I am good\n",
            "How are you?\n",
            "I am good,How are you?\n",
            "helloworld\n"
          ]
        }
      ]
    },
    {
      "cell_type": "markdown",
      "source": [
        "###How python read the file?\n",
        "Python read the file top to bottom line by line and scan for any erro if it found it will show the line where error is occur execute the code.\n",
        "When syntax error occur then it won't execute any code it directly throw line number where syntax error is occour. show the error name. i.e. syntax error.\n",
        "\n",
        "\n",
        "In python, indentation is very important because it way to know that programmer is in the block of code or not. So in python : represent the starting point of block and indentation show the point it is part of block.\n",
        "\n",
        "# **Comment in Python**\n",
        "* Comment are used to explain code and ignore by the python interpreter.\n",
        "comment is way for programmers which instruct the Python interpreter that hey, ignore this line.\n",
        "* single line comment with #\n",
        "* Multiline comment are enclosed in ''' or \"\"\"\n"
      ],
      "metadata": {
        "id": "l_TWFycqpVUD"
      }
    },
    {
      "cell_type": "code",
      "source": [
        "#Single line comment\n",
        "\"\"\"Multiline comment\"\"\"\n",
        "'''Multiline comment'''"
      ],
      "metadata": {
        "id": "iRHkFAwusNRh"
      },
      "execution_count": null,
      "outputs": []
    },
    {
      "cell_type": "markdown",
      "source": [
        "#**Variable and Datatype in Python**\n",
        "Variable is nothing but are container where data is store in memory location. So, by using the variable we can manipulate the data in program multiple time. Variable used fro information reusebility.\n",
        "variable is created when we assgin the value to that variable. then this value is store in memory location.\n",
        "\n",
        "variable_name=value_of_variable\n",
        "One variable can store one information at a time.\n",
        "in Variable we can store the integere, string, float types of values."
      ],
      "metadata": {
        "id": "53tMFagitwb-"
      }
    },
    {
      "cell_type": "code",
      "source": [
        "age=13 #integer\n",
        "name =\"Tom\" #string\n",
        "cgpa= 4.55 #float"
      ],
      "metadata": {
        "id": "mOFVS-gWvDDz"
      },
      "execution_count": null,
      "outputs": []
    },
    {
      "cell_type": "markdown",
      "source": [
        "In python there are some rule which type of character variable can contain.\n",
        "**Python is dynamically typed language** which means we don't have to specify which data type a perticular variable contains.\n",
        "Python automatically looks at the value and figures out that type of value. like string, float or int.\n",
        "\n",
        "### **Rules of defining a variable in python / naming a variable**\n",
        "1. Variable name must start with a letter (a-z, A-Z) or an underscore(_)\n",
        "2. They can contain letters, numbers, and underscores.\n",
        "3. Variable names are case-sensitive (age and Age are different).\n",
        "4. Avoid using python keywords.(e.g. if, for, while) as variable names.\n",
        "\n",
        "23age=2 #this is invalid because variable cannont start with a number.\n",
        "\n",
        "age=32 # is valid variable.\n",
        "age$e=45# is invalid variable because variable can not contain the special symbol other than the _ (underscore)."
      ],
      "metadata": {
        "id": "iXQ0dtX9v8Wv"
      }
    },
    {
      "cell_type": "code",
      "source": [
        "_age=45 #valid variable\n",
        "__age__=45#valid variable\n",
        "a_b_c=45#Valid variable"
      ],
      "metadata": {
        "id": "euXUNCvGvEze"
      },
      "execution_count": null,
      "outputs": []
    },
    {
      "cell_type": "markdown",
      "source": [
        "python supports several built-in data types:\n",
        "**Inbuild Datatypes in python**\n",
        "1. integers (int): whole numbers (e.g. 10,-5)\n",
        "2. Floats (float): Decimal numbers (e.g. 3.14, -9.34)\n",
        "3. Strings (str): Text data enclosed in quotes. (e.g. 'hello', \"Hello\")\n",
        "4. Booleans (bool): Represents True or False.\n",
        "5. Lists: Order mutable collections (e.g. [1,2,'str',0.43])\n",
        "6. Tuples: Order immutable collections. (e.g. (1,34,\"str\",034.34)\n",
        "7. Sets: Unorder collections of unique element (e.g. {1,2,3})\n",
        "8. Dictionaries: key-value pairs (e.g. {{\"key\":\"value\", \"name\"=\"Alice\", \"age\"=34}).\n",
        "\n",
        "**type()** by using type function we can get to know what is type of variable is.\n",
        "\n"
      ],
      "metadata": {
        "id": "FtYqsQqxzAqg"
      }
    },
    {
      "cell_type": "code",
      "source": [
        "age=18\n",
        "print(f\"age = {age} & type of age = ({type(age)})\")\n",
        "name=\"Tom\"\n",
        "print(f\"name = {name} & type of name = {type(name)}\")\n",
        "cgpa=4.55\n",
        "print(f\"cgpa = {cgpa} & type of cgpa = {type(cgpa)}\")\n",
        "is_completed=True\n",
        "print(f\"is_completed = {is_completed} & type of is_completed = {type(is_completed)}\")\n"
      ],
      "metadata": {
        "colab": {
          "base_uri": "https://localhost:8080/"
        },
        "id": "M3UPQ-Nc1Zyt",
        "outputId": "64d9f002-d69a-41d3-e91f-742e7114dbd7"
      },
      "execution_count": null,
      "outputs": [
        {
          "output_type": "stream",
          "name": "stdout",
          "text": [
            "age = 18 & type of age = (<class 'int'>)\n",
            "name = Tom & type of name = <class 'str'>\n",
            "cgpa = 4.55 & type of cgpa = <class 'float'>\n",
            "is_completed = True & type of is_completed = <class 'bool'>\n"
          ]
        }
      ]
    },
    {
      "cell_type": "markdown",
      "source": [
        "**Type Casting**\n",
        "Typecasting is the process of converting one data type to another.\n",
        "* python provides built-in functions for type casting.\n",
        "1. int(): converts to integer.\n",
        "2. float(): Converts to float.\n",
        "3. str(): converts to string.\n",
        "5. bool(): converts to bool.\n",
        "Changing one data type information to another.\n",
        "Some time we have to convert the string to integer. Like if we condition like if age>18 but if we got age in str like \"18\" the we have to convert it to int first."
      ],
      "metadata": {
        "id": "AZYOprVt3J8E"
      }
    },
    {
      "cell_type": "code",
      "source": [
        "a=34\n",
        "b=\"34\"\n",
        "d=457\n",
        "print(a)\n",
        "print(type(a))\n",
        "print(b)\n",
        "print(type(b))\n",
        "c=int(b) #this will convert the str b to the integer and store in c. Here we dont\n",
        "#change the type of be directly we change type of its and store in another vairalbe.\n",
        "print(type(c))\n",
        "e=str(d) #e is the string version of integer d.\n",
        "print(type(e))"
      ],
      "metadata": {
        "colab": {
          "base_uri": "https://localhost:8080/"
        },
        "id": "y8a-bymu1nu1",
        "outputId": "617c1a35-5251-46da-d1cc-8836ae0f96ad"
      },
      "execution_count": null,
      "outputs": [
        {
          "output_type": "stream",
          "name": "stdout",
          "text": [
            "34\n",
            "<class 'int'>\n",
            "34\n",
            "<class 'str'>\n",
            "<class 'int'>\n",
            "<class 'str'>\n"
          ]
        }
      ]
    },
    {
      "cell_type": "markdown",
      "source": [
        "**Taking User Inputs**\n",
        "* To take input from user we have to use built-in fuction called input() .\n",
        "* this input() function take user input from the keyboard\n",
        "* by Default, input() returns a string. You can convert it to other data types as needed.\n",
        "*note: when we use this input() it will take input in form of string by default.  \n",
        "*Note: while using input function we have to pass promt messege it's optional parameter but we must have to use it. So, user can get idea which data have to pass.\n"
      ],
      "metadata": {
        "id": "ClYm7FSa69HL"
      }
    },
    {
      "cell_type": "code",
      "source": [
        "a = input(\"Enter a Number\") # this will show message(prompt) on console and take input from user\n",
        "#store it in variable a.\n",
        "print(a)\n",
        "print(type(a))"
      ],
      "metadata": {
        "colab": {
          "base_uri": "https://localhost:8080/"
        },
        "id": "kK9-RBom7f2g",
        "outputId": "6b5e4337-6e4c-4dd6-a65a-cd008b1ec02c"
      },
      "execution_count": null,
      "outputs": [
        {
          "output_type": "stream",
          "name": "stdout",
          "text": [
            "Enter a Number57\n",
            "57\n",
            "<class 'str'>\n"
          ]
        }
      ]
    },
    {
      "cell_type": "code",
      "source": [
        "# #addition of two number\n",
        "# a = input(\"Enter first Number\")\n",
        "# a=int(a) #convert a to int version of a\n",
        "# print(a+3)\n",
        "\n",
        "a=int(input(\"Enter first Number : \"))\n",
        "b=int(input(\"Enter second Number : \"))\n",
        "print(a+b)\n"
      ],
      "metadata": {
        "colab": {
          "base_uri": "https://localhost:8080/"
        },
        "id": "b5dUNlAR9dfT",
        "outputId": "8a066ce7-9489-4f81-99e0-016a91375e4b"
      },
      "execution_count": null,
      "outputs": [
        {
          "output_type": "stream",
          "name": "stdout",
          "text": [
            "Enter first Number : 5\n",
            "Enter second Number : 10\n",
            "15\n"
          ]
        }
      ]
    },
    {
      "cell_type": "markdown",
      "source": [
        "# **Escape Sequences (start with (back slash)\\\\)**\n",
        "* Escape sequences are used to include special characters in strings.\n",
        "* common escape sequences.\n",
        "* '\\n' : Newline\n",
        "* '\\t' : tab\n",
        "* '\\ \\' : Backslash\n",
        "* '\\\"' : Double quote\n",
        "* '\\'' : Single quote"
      ],
      "metadata": {
        "id": "ZKbH8OtlAlrs"
      }
    },
    {
      "cell_type": "code",
      "source": [
        "print(\"1. Hey, How are you? \\n I am good \\\\newline\")\n",
        "print(\"2. Hello, \\\"world\\\"\")\n",
        "print('3. hey it\\'s me')"
      ],
      "metadata": {
        "colab": {
          "base_uri": "https://localhost:8080/"
        },
        "id": "5kABIU9PAlXW",
        "outputId": "fcf4e5f2-b0ac-40f4-8d66-7899c16343fe"
      },
      "execution_count": null,
      "outputs": [
        {
          "output_type": "stream",
          "name": "stdout",
          "text": [
            "1. Hey, How are you? \n",
            " I am good \\newline\n",
            "2. Hello, \"world\"\n",
            "3. hey it's me\n"
          ]
        }
      ]
    },
    {
      "cell_type": "markdown",
      "source": [
        "# **Operators**\n",
        "### **1. Arithmatic operators**\n",
        "* Arithmatic operators are  used to perform arithmatic opeartion likes.\n",
        "*  +(Addition), -(Subtraction), *(Multiplication), / (Division), % (Modulus), **(Expoenetiation), //(Floor Divison)\n",
        "* % (modulus) operator give an reminder after division\n",
        "* // (floor) this will perform floor divison opeation,  it retrun number without decimal point if number having.\n",
        "\n"
      ],
      "metadata": {
        "id": "kfU2mndiJ3Ta"
      }
    },
    {
      "cell_type": "code",
      "source": [
        "a = 34\n",
        "b = 2\n",
        "print('a + b = ', a + b)\n",
        "print('a - b =', a - b)\n",
        "print('a * b =', a * b)\n",
        "print('a / b =', a / b)\n",
        "print('a % b =', a % b)\n",
        "print('a ** b =', a ** b)\n",
        "print('a // b =', a // b)"
      ],
      "metadata": {
        "id": "yeQd3jOVJ2-K",
        "colab": {
          "base_uri": "https://localhost:8080/"
        },
        "outputId": "fd0defa5-fea8-4fc1-8a13-364198cbe503"
      },
      "execution_count": null,
      "outputs": [
        {
          "output_type": "stream",
          "name": "stdout",
          "text": [
            "a + b =  36\n",
            "a - b = 32\n",
            "a * b = 68\n",
            "a / b = 17.0\n",
            "a % b = 0\n",
            "a ** b = 1156\n",
            "a // b = 17\n"
          ]
        }
      ]
    },
    {
      "cell_type": "markdown",
      "source": [
        "##2 Comparision Operator\n",
        "* comparision Operator always return boolan values i.e. True or False.\n",
        "* comparision operators are used to perform comparision between two values.\n",
        "* == (Equal), !=(Not Equal), >(Greater Than), <(Less Than), >=(Greater Than or Equal), <=(Less Than or Equal)\n",
        "* by using comaprision operators's / conditional operators we are ask question is it equal / or not? etc."
      ],
      "metadata": {
        "id": "RbbQglmonZOH"
      }
    },
    {
      "cell_type": "code",
      "source": [
        "print(\"a>b =\", {a>b})\n",
        "print(\"a<b =\", {a<b})\n",
        "print(\"a==b =\", {a==b})#is a equal to b\n",
        "print(\"a!=b =\", {a!=b})#is a is not equal to b\n",
        "print(\"a>=b =\", {a>=b})\n",
        "print(\"a<=b =\", {a<=b})"
      ],
      "metadata": {
        "id": "pPj8SbLhJv91",
        "colab": {
          "base_uri": "https://localhost:8080/"
        },
        "outputId": "27b1e9b1-430e-47e4-fa81-96dec93f129c"
      },
      "execution_count": null,
      "outputs": [
        {
          "output_type": "stream",
          "name": "stdout",
          "text": [
            "a>b = {True}\n",
            "a<b = {False}\n",
            "a==b = {False}\n",
            "a!=b = {True}\n",
            "a>=b = {True}\n",
            "a<=b = {False}\n"
          ]
        }
      ]
    },
    {
      "cell_type": "markdown",
      "source": [
        "## 3. Logical Operators\n",
        "* Logical Operators are used to perform operation on boolean values, Logical operators basically helps us operate two booleans\n",
        "ex. if True and True is True etc.\n",
        "* **and** **or** **not** are the logical operators\n",
        "* In a case of **and** if both value is True then only it return True otherwise False.\n",
        "* In a Case of **or** if Both Values are Flase then only it return Flase otherwies it return True\n",
        "* In a case of **not** It retrun the opposite values If value is True then return False. If values if False then return True."
      ],
      "metadata": {
        "id": "0Ij5KETlp6Rg"
      }
    },
    {
      "cell_type": "code",
      "source": [
        "#and\n",
        "print('For and condition')\n",
        "print(True and True)\n",
        "print(True and False)\n",
        "print(False and True)\n",
        "print(False and False)\n",
        "#or\n",
        "print('For or Condition')\n",
        "print(True or True)\n",
        "print(True or False)\n",
        "print(False or True)\n",
        "print(False or False)\n",
        "#not\n",
        "print('For not Condition')\n",
        "print(not True)\n",
        "print(not False)\n",
        "\n"
      ],
      "metadata": {
        "colab": {
          "base_uri": "https://localhost:8080/"
        },
        "id": "-CKFdACgqsWZ",
        "outputId": "c3ce3581-a31a-4e10-c424-9d003dfab02d"
      },
      "execution_count": null,
      "outputs": [
        {
          "output_type": "stream",
          "name": "stdout",
          "text": [
            "For and condition\n",
            "True\n",
            "False\n",
            "False\n",
            "False\n",
            "For or Condition\n",
            "True\n",
            "True\n",
            "True\n",
            "False\n",
            "For not Condition\n",
            "False\n",
            "True\n"
          ]
        }
      ]
    },
    {
      "cell_type": "markdown",
      "source": [
        "## 4. Assignment Operators:\n",
        "* Assignment Operators are used to assign value to variable.\n",
        "* **=**, **+=**, **-=**, **/=**, **%=**, ****=**, **//=**\n",
        "* += equal will add value to variable, similary, -= will subtract from variable, etc."
      ],
      "metadata": {
        "id": "F1KBsfSNs7EX"
      }
    },
    {
      "cell_type": "code",
      "source": [
        "a = 5\n",
        "print(a)\n",
        "a +=3\n",
        "print(a)\n",
        "a -=3\n",
        "print(a)\n",
        "a *=5\n",
        "print(a)\n",
        "a /=5\n",
        "print(a)\n",
        "a = 5\n",
        "a %=5\n",
        "print(a)\n",
        "a = 5\n",
        "a //=5\n",
        "print(a)\n"
      ],
      "metadata": {
        "colab": {
          "base_uri": "https://localhost:8080/"
        },
        "id": "uFCdCMLVuAKV",
        "outputId": "a5983cc7-fa45-41d5-bc06-36d9325b0cce"
      },
      "execution_count": null,
      "outputs": [
        {
          "output_type": "stream",
          "name": "stdout",
          "text": [
            "5\n",
            "8\n",
            "5\n",
            "25\n",
            "5.0\n",
            "0\n",
            "1\n"
          ]
        }
      ]
    },
    {
      "cell_type": "markdown",
      "source": [
        "## 5. Membership Operators\n",
        "* **in**, **not in**"
      ],
      "metadata": {
        "id": "eoxN_dAaviaJ"
      }
    },
    {
      "cell_type": "markdown",
      "source": [
        "#6 Identity Operators\n",
        "* **is**, **is not**\n"
      ],
      "metadata": {
        "id": "aV71PQkwv52F"
      }
    },
    {
      "cell_type": "markdown",
      "source": [
        "# Conditional/ Control Flow and Loops\n",
        "* **What are Conditional Statement?**\n",
        "* conditional statements allow you to execute code based on certain conditions.\n",
        "* Python uses if, elif, and else for decision-making\n",
        "## if Conditional Statements\n",
        "* **if** conditional statement is used when we have to execute the some block of code if only condition is True.\n",
        "*Sytnatx\n"
      ],
      "metadata": {
        "id": "TMVQng0IwWfQ"
      }
    },
    {
      "cell_type": "code",
      "source": [
        "age =5\n",
        "if age >= 18:\n",
        "  print(\"You Can Drive\")\n",
        "  print(\"Thank You\")\n",
        "print(\"End of Program\")"
      ],
      "metadata": {
        "colab": {
          "base_uri": "https://localhost:8080/"
        },
        "id": "k5_KMJjqwWHQ",
        "outputId": "416a7821-2d90-4564-c1d3-bd9af4f175a8"
      },
      "execution_count": null,
      "outputs": [
        {
          "output_type": "stream",
          "name": "stdout",
          "text": [
            "End of Program\n"
          ]
        }
      ]
    },
    {
      "cell_type": "markdown",
      "source": [
        "### if-else statement\n",
        "* if-else statement is used when we have to check the two condtion at same time then we can use if-else, if condtion is True then if block will get execute otherwise else block will get exectue\n",
        "\n",
        "**Syntax**\n"
      ],
      "metadata": {
        "id": "_qhUovH4y_Mm"
      }
    },
    {
      "cell_type": "code",
      "source": [
        "age =int(input(\"Enter Age: \"))\n",
        "if age>=18:\n",
        "  print(\"You can Drive\")\n",
        "else:\n",
        "  print(f\"You can't Drive\")\n",
        "print(\"Program End here\")"
      ],
      "metadata": {
        "colab": {
          "base_uri": "https://localhost:8080/"
        },
        "id": "ie5G77qPzvMg",
        "outputId": "a94bf83a-3e0f-4a5a-8f44-a8905f92f4a6"
      },
      "execution_count": null,
      "outputs": [
        {
          "output_type": "stream",
          "name": "stdout",
          "text": [
            "Enter Age: 78\n",
            "You can Drive\n",
            "Program End here\n"
          ]
        }
      ]
    },
    {
      "cell_type": "markdown",
      "source": [
        "## if-elif-else ladder\n",
        "* when we have more than two condition to check at same time then we can use if-elif-else lader, this lader work in  conjunction and in collaboration with each other.\n",
        "In this python iterpreter will check condition line by line if 1st condition is false then it will check 2nd then then third line by line if all the condition not meet then at the end we can use else then else block will get exectued.\n",
        "*syntax"
      ],
      "metadata": {
        "id": "a_6QXJQD1JLN"
      }
    },
    {
      "cell_type": "code",
      "source": [
        "age =(int(input(\"Enter Your age: \")))\n",
        "if (age>18):\n",
        "  print(\"You can Drive\")\n",
        "elif (age==18):\n",
        "  print(\"Lets schedule an Interview \")\n",
        "elif (age==0):\n",
        "  print(\"Your are just Born\")\n",
        "elif (age<0):\n",
        "  print(\"Please enter valid age\")\n",
        "else:\n",
        "  print(\"Sorry you cannot drive\")"
      ],
      "metadata": {
        "colab": {
          "base_uri": "https://localhost:8080/"
        },
        "id": "m4hzd7ph1iq3",
        "outputId": "ce00498f-f78b-4ea3-da90-5bd623d062a0"
      },
      "execution_count": null,
      "outputs": [
        {
          "output_type": "stream",
          "name": "stdout",
          "text": [
            "Enter Your age: 18\n",
            "Lets schedule an Interview \n"
          ]
        }
      ]
    },
    {
      "cell_type": "markdown",
      "source": [
        "##Match case in python (Python 3.10+)\n",
        "**What is Match-Case?**\n",
        "* Match-case is a new feature introduced in Python 3.10 for pattern matching.\n",
        "* it simplifies complex conditional logic.\n",
        "* this is like the switch statement in java.\n",
        "* we can use default case as case _\n",
        "* we can pass the case in () if it complex statement.\n",
        "\n"
      ],
      "metadata": {
        "id": "pT4tvs0v399-"
      }
    },
    {
      "cell_type": "code",
      "source": [
        "'''\n",
        "Syntax\n",
        "match value:\n",
        "  case pattern1:\n",
        "    # Code to execute if value matches pattern 1\n",
        "  case pattern2:\n",
        "      # Code to execute if value matches pattern 2\n",
        "  case _:\n",
        "    # Default case (if no pattern match)\n",
        "\n",
        "'''\n",
        "\n",
        "a = int(input(\"Enter a number between 1 to 10: \"))\n",
        "match a:\n",
        "  case 1:\n",
        "    print(\"You won a Mobile\")\n",
        "  case 7:\n",
        "    print(\"You won the Camera\")\n",
        "  case 5:\n",
        "    print(\"You won the Cash prize of $100\")\n",
        "  case _:\n",
        "    print(\"Better Luck Next Time\")"
      ],
      "metadata": {
        "colab": {
          "base_uri": "https://localhost:8080/"
        },
        "id": "jj35T2UH4076",
        "outputId": "88af7eea-bf33-4527-b991-a58acfec246b"
      },
      "execution_count": null,
      "outputs": [
        {
          "output_type": "stream",
          "name": "stdout",
          "text": [
            "Enter a number between 1 to 10: 25\n",
            "Better Luck Next Time\n"
          ]
        }
      ]
    },
    {
      "cell_type": "markdown",
      "source": [
        "##LOOPs in Python\n",
        "* Loops are used to execute code repeated time.\n",
        "* **What are for loops?**\n",
        "* For loops are used to iterate over sequence(e.g. list, string, range).\n",
        "* They execute a block of code repeatedly for each item in the sequence.\n",
        "* when we know the exact number of itration then we can use for loop\n",
        "* range() function goes from n to end-1."
      ],
      "metadata": {
        "id": "5sd2lTO-669m"
      }
    },
    {
      "cell_type": "code",
      "source": [
        "'''\n",
        "Syntax:\n",
        "for item in sequence:\n",
        "  # Code to execute for each item\n",
        "\n",
        "'''\n",
        "for i in range(1, 6): # range function goes from 1 to (6-1) ie. 5 in this\n",
        "  print(i)"
      ],
      "metadata": {
        "colab": {
          "base_uri": "https://localhost:8080/"
        },
        "id": "anOKMmCO8bcI",
        "outputId": "27e2626c-863a-4858-d99d-57544885183d"
      },
      "execution_count": null,
      "outputs": [
        {
          "output_type": "stream",
          "name": "stdout",
          "text": [
            "1\n",
            "2\n",
            "3\n",
            "4\n",
            "5\n"
          ]
        }
      ]
    },
    {
      "cell_type": "markdown",
      "source": [
        "## While loop in python\n",
        "* While loops exectue a block of code as long as a condition is True.\n",
        "* They are useful when the number of iteration is not known in advance.\n",
        "* Working of while loop\n",
        "* first it will check the condition if it true then it enter in body execute the block of code until the condition is true."
      ],
      "metadata": {
        "id": "3X7bQd99BQLE"
      }
    },
    {
      "cell_type": "code",
      "source": [
        "\"\"\"\n",
        "Syntax:\n",
        "while condition:\n",
        "  # Code to execute while condition is True\n",
        "\n",
        "\"\"\"\n"
      ],
      "metadata": {
        "id": "Q40zUZHhBvcw"
      },
      "execution_count": null,
      "outputs": []
    },
    {
      "cell_type": "markdown",
      "source": [
        "* **Infinite Loops:**\n",
        "* Be careful to avoid infinite loops by ensuring the condition eventually become false."
      ],
      "metadata": {
        "id": "Uc2dGImRCB7o"
      }
    },
    {
      "cell_type": "code",
      "source": [
        "num = int(input(\"Enter a number: \"))\n",
        "while num>0:\n",
        "  print(num)\n",
        "  num=num-1\n",
        "\n",
        "print(\"While loop is executed \")"
      ],
      "metadata": {
        "colab": {
          "base_uri": "https://localhost:8080/"
        },
        "id": "ePzegWrfCZGI",
        "outputId": "6a504245-73ab-4191-dbf5-64dc3985e671"
      },
      "execution_count": null,
      "outputs": [
        {
          "output_type": "stream",
          "name": "stdout",
          "text": [
            "Enter a number: 3\n",
            "3\n",
            "2\n",
            "1\n",
            "While loop is executed \n"
          ]
        }
      ]
    },
    {
      "cell_type": "markdown",
      "source": [
        "# Break, Continue, and Pass Statement\n",
        "* **Break**\n",
        "* The break statement is used to exit a loop prematurely.\n",
        "* The break statement is used when we want to stop the execution of loop when certain condition meets. As soon as condition is meets it stop the execution of loop. loop will die at the moment."
      ],
      "metadata": {
        "id": "Vk7TldM-FAxQ"
      }
    },
    {
      "cell_type": "code",
      "source": [
        "for i in range(1, 5):\n",
        "  if(i==3):\n",
        "    break # cancel the execution of this loop now.\n",
        "  print(i)"
      ],
      "metadata": {
        "colab": {
          "base_uri": "https://localhost:8080/"
        },
        "id": "l4T_O6g6FPhd",
        "outputId": "c2175dcc-3c2a-403f-f8d5-86a81e53a816"
      },
      "execution_count": null,
      "outputs": [
        {
          "output_type": "stream",
          "name": "stdout",
          "text": [
            "1\n",
            "2\n"
          ]
        }
      ]
    },
    {
      "cell_type": "markdown",
      "source": [
        "* **Continue**\n",
        "* **The continue statement skips the rest of the code in the current iteration and moves to the next iteration.**\n",
        "* it won't allow to execute a code which is below the continue statement, for the current iteration it simple skip it and move controller to start to perform next iteration."
      ],
      "metadata": {
        "id": "bWeNGExPIMez"
      }
    },
    {
      "cell_type": "code",
      "source": [
        "for i in range(5):\n",
        "  if i == 2:\n",
        "    continue # continue the loop for the next iteration here itself\n",
        "  print(i)"
      ],
      "metadata": {
        "colab": {
          "base_uri": "https://localhost:8080/"
        },
        "id": "NYfDZjKDJYug",
        "outputId": "101e2653-217a-4599-f774-142a06b96f16"
      },
      "execution_count": null,
      "outputs": [
        {
          "output_type": "stream",
          "name": "stdout",
          "text": [
            "0\n",
            "1\n",
            "3\n",
            "4\n"
          ]
        }
      ]
    },
    {
      "cell_type": "markdown",
      "source": [
        "* **Pass Statement**\n",
        "* The pass statement is a placeholder that does nothing. It is used to when syntax requires statement but no action is needed.\n",
        "* if we have nothing to write for now but wan't to update / write something there then  we can  use pass. which do nothing.\n",
        "* like Some time we declare the method but we don't complete them for now then we can use pass. so after some time we can update this method."
      ],
      "metadata": {
        "id": "U7D7WXKNK1KP"
      }
    },
    {
      "cell_type": "code",
      "source": [
        "for i in range(1, 5):\n",
        "  if i==2:\n",
        "    pass\n",
        "  print(i)"
      ],
      "metadata": {
        "colab": {
          "base_uri": "https://localhost:8080/"
        },
        "id": "IpttipNNMJKL",
        "outputId": "d79d590e-bc8c-4d5f-bb07-9cad0e6ee5f6"
      },
      "execution_count": null,
      "outputs": [
        {
          "output_type": "stream",
          "name": "stdout",
          "text": [
            "1\n",
            "2\n",
            "3\n",
            "4\n"
          ]
        }
      ]
    },
    {
      "cell_type": "markdown",
      "source": [
        "* Control loop execution with break, continue, and pass."
      ],
      "metadata": {
        "id": "_uZbENNwNE_J"
      }
    },
    {
      "cell_type": "markdown",
      "source": [
        "#String\n",
        "**Introduction**\n",
        "* strings are one of the most fundamental data types in Python. A string is a sequence of characters enclosed withing either singl quotes('), dubole quotes(\"), for triple quotes (''' or \"\"\").\n",
        "* **Creating String**\n",
        "You can create strings in python using different type of quotes\n",
        "\n"
      ],
      "metadata": {
        "id": "bY-4Qeooy8D9"
      }
    },
    {
      "cell_type": "markdown",
      "source": [
        "## Single-quoted string\n",
        "\n"
      ],
      "metadata": {
        "id": "LqEVrCMzzgvp"
      }
    },
    {
      "cell_type": "code",
      "source": [
        "a ='Hello, Python!'"
      ],
      "metadata": {
        "id": "hNJjyYBYzqqp"
      },
      "execution_count": null,
      "outputs": []
    },
    {
      "cell_type": "markdown",
      "source": [
        "### Double-quoted String\n"
      ],
      "metadata": {
        "id": "tBfU7uC3z8MB"
      }
    },
    {
      "cell_type": "code",
      "source": [
        "b =\"Hello, World!\""
      ],
      "metadata": {
        "id": "rNR9qN6o0CI0"
      },
      "execution_count": null,
      "outputs": []
    },
    {
      "cell_type": "markdown",
      "source": [
        "* **Note:** By using single quotes or double quotes if we try to create multiline string then it's not allowed in python."
      ],
      "metadata": {
        "id": "Rj7H7Lm-0mea"
      }
    },
    {
      "cell_type": "markdown",
      "source": [
        "## Triple-quoted string (useful for multi-line strings)\n",
        "By using triple quotes we can write formated string also.\n"
      ],
      "metadata": {
        "id": "ZHeznaOe0F2H"
      }
    },
    {
      "cell_type": "code",
      "source": [
        "c = '''This\n",
        " is multiline  String'''\n",
        "\n",
        "d = \"\"\"This is\n",
        "multiline\n",
        " String\"\n"
      ],
      "metadata": {
        "id": "wKS44jI10Ohl"
      },
      "execution_count": null,
      "outputs": []
    },
    {
      "cell_type": "markdown",
      "source": [
        "## String Indexing in python\n",
        "* Each character in a string has an index. And string indexes are starts with 0.\n",
        "* In pythn we can fetch the characters using negative indexes also so we can get character for end / last like -1 means last character.\n",
        "* to handel with negative index /  we can get positive index by using negative_index + length_of_string\n",
        "I.e. name[-1+2]"
      ],
      "metadata": {
        "id": "8CygU9St0coA"
      }
    },
    {
      "cell_type": "code",
      "source": [
        "\"\"\"\n",
        "T     o   m\n",
        "0     1   2\n",
        "-3    -2  -1\n",
        "\"\"\"\n",
        "name = \"Tom\"\n",
        "print(name[0])\n",
        "print(name[-1])\n"
      ],
      "metadata": {
        "colab": {
          "base_uri": "https://localhost:8080/"
        },
        "id": "tx0AlEFG1QC5",
        "outputId": "a76b39cc-2e36-403d-b7cd-e622f3c5bd39"
      },
      "execution_count": null,
      "outputs": [
        {
          "output_type": "stream",
          "name": "stdout",
          "text": [
            "T\n",
            "m\n"
          ]
        }
      ]
    },
    {
      "cell_type": "markdown",
      "source": [
        "**Note:** If we try to get value which is greater than it's index then it throw error\n"
      ],
      "metadata": {
        "id": "UiJM0PRk3lrQ"
      }
    },
    {
      "cell_type": "code",
      "source": [
        "name = 'Tom'\n",
        "print(name[4])\n"
      ],
      "metadata": {
        "colab": {
          "base_uri": "https://localhost:8080/",
          "height": 159
        },
        "id": "xrzJEZtg3m9V",
        "outputId": "4e26905f-fe20-4008-8cd6-44f68136328f"
      },
      "execution_count": null,
      "outputs": [
        {
          "output_type": "error",
          "ename": "IndexError",
          "evalue": "string index out of range",
          "traceback": [
            "\u001b[0;31m---------------------------------------------------------------------------\u001b[0m",
            "\u001b[0;31mIndexError\u001b[0m                                Traceback (most recent call last)",
            "\u001b[0;32m<ipython-input-2-e3f1055b70ad>\u001b[0m in \u001b[0;36m<cell line: 0>\u001b[0;34m()\u001b[0m\n\u001b[1;32m      1\u001b[0m \u001b[0mname\u001b[0m \u001b[0;34m=\u001b[0m \u001b[0;34m'Tom'\u001b[0m\u001b[0;34m\u001b[0m\u001b[0;34m\u001b[0m\u001b[0m\n\u001b[0;32m----> 2\u001b[0;31m \u001b[0mprint\u001b[0m\u001b[0;34m(\u001b[0m\u001b[0mname\u001b[0m\u001b[0;34m[\u001b[0m\u001b[0;36m4\u001b[0m\u001b[0;34m]\u001b[0m\u001b[0;34m)\u001b[0m\u001b[0;34m\u001b[0m\u001b[0;34m\u001b[0m\u001b[0m\n\u001b[0m",
            "\u001b[0;31mIndexError\u001b[0m: string index out of range"
          ]
        }
      ]
    },
    {
      "cell_type": "markdown",
      "source": [
        "## String Slicing\n",
        "* You can extract parts of a string using slicing. we can get sub string\n",
        "by using string_obj[start_index + end_index+1]\n"
      ],
      "metadata": {
        "id": "I4GH_bhO6pQZ"
      }
    },
    {
      "cell_type": "code",
      "source": [
        "text = \"hello, Python!\"\n",
        "print(text[0:5]) #Hello\n",
        "print(text[7:13]) #Python\n",
        "print(text[7:]) #Replace the second empty number with length i.e. still end\n",
        "print(text[:4]) # Replace the first empty number with 0. from start to 3 which\n",
        "print(text[2:-3]) # from 2 to  [-3+13] =10 i.e. [2 : 10]\n"
      ],
      "metadata": {
        "colab": {
          "base_uri": "https://localhost:8080/"
        },
        "id": "NWwok46I6o3-",
        "outputId": "2d4e1a0c-94a8-4f6a-ef52-ba6bf8587875"
      },
      "execution_count": null,
      "outputs": [
        {
          "output_type": "stream",
          "name": "stdout",
          "text": [
            "hello\n",
            "Python\n",
            "Python!\n",
            "hell\n",
            "llo, Pyth\n"
          ]
        }
      ]
    },
    {
      "cell_type": "markdown",
      "source": [
        "* text = [:4] means Replace the first empty number with 0. which similar to [0:4]. So it will get character from start to 3 index.\n",
        "* text = [1:] means Replace the second empty number with length. so it will get character from 1 to still end."
      ],
      "metadata": {
        "id": "9L1YOuQLAqLv"
      }
    },
    {
      "cell_type": "markdown",
      "source": [
        "* slcing using three [0:10:n] means it will start with 0 and end on 9th index and skip n-1 character."
      ],
      "metadata": {
        "id": "dij9GiaQ8zko"
      }
    },
    {
      "cell_type": "code",
      "source": [
        "name = \"0123456789\"\n",
        "print(name[0:5:2]) # as we use skipping number 2 i.e. 2-1=1 so it will 1 character\n",
        "#from selected string"
      ],
      "metadata": {
        "colab": {
          "base_uri": "https://localhost:8080/"
        },
        "id": "Qw-ZDB-x_ILu",
        "outputId": "2b4c5ebc-e925-42db-f4d0-bec1ae2167b2"
      },
      "execution_count": null,
      "outputs": [
        {
          "output_type": "stream",
          "name": "stdout",
          "text": [
            "024\n"
          ]
        }
      ]
    },
    {
      "cell_type": "markdown",
      "source": [
        "## String Methods and functions\n",
        "* Python provides several built-in mehtods to manipulate string.\n",
        "* **Strings are immutable in nature** means we can't make any changes into original string value in memory. Whenever we try to make any changes then it will made in new object of string and update and make changes in that.\n",
        "* We assign the new value to str_variable, we can use this String to create new string but we can't make changes in actual string after declare once.  \n",
        "* When we use any string method then actual string value is never, this method create new string obj in memory."
      ],
      "metadata": {
        "id": "hqPK3ysaCGVc"
      }
    },
    {
      "cell_type": "code",
      "source": [
        "name = \"Tom\"\n",
        "name[0]=\"R\" #this is not possible in string"
      ],
      "metadata": {
        "colab": {
          "base_uri": "https://localhost:8080/",
          "height": 159
        },
        "id": "LrzhwLznC-eS",
        "outputId": "be947881-d087-488c-9e2c-05916ba7ccc5"
      },
      "execution_count": null,
      "outputs": [
        {
          "output_type": "error",
          "ename": "TypeError",
          "evalue": "'str' object does not support item assignment",
          "traceback": [
            "\u001b[0;31m---------------------------------------------------------------------------\u001b[0m",
            "\u001b[0;31mTypeError\u001b[0m                                 Traceback (most recent call last)",
            "\u001b[0;32m<ipython-input-22-0c1938bcdff8>\u001b[0m in \u001b[0;36m<cell line: 0>\u001b[0;34m()\u001b[0m\n\u001b[1;32m      1\u001b[0m \u001b[0mname\u001b[0m \u001b[0;34m=\u001b[0m \u001b[0;34m\"Tom\"\u001b[0m\u001b[0;34m\u001b[0m\u001b[0;34m\u001b[0m\u001b[0m\n\u001b[0;32m----> 2\u001b[0;31m \u001b[0mname\u001b[0m\u001b[0;34m[\u001b[0m\u001b[0;36m0\u001b[0m\u001b[0;34m]\u001b[0m\u001b[0;34m=\u001b[0m\u001b[0;34m\"R\"\u001b[0m\u001b[0;34m\u001b[0m\u001b[0;34m\u001b[0m\u001b[0m\n\u001b[0m",
            "\u001b[0;31mTypeError\u001b[0m: 'str' object does not support item assignment"
          ]
        }
      ]
    },
    {
      "cell_type": "markdown",
      "source": [
        "1. **leng(obj)**\n",
        "* this method return the number of character in string i.e. length of string"
      ],
      "metadata": {
        "id": "vp15oB_oEaQF"
      }
    },
    {
      "cell_type": "code",
      "source": [
        "name = \"Tom\"\n",
        "a = len(name)\n",
        "print(\"Type of a is \", type(a))\n",
        "print(a)"
      ],
      "metadata": {
        "colab": {
          "base_uri": "https://localhost:8080/"
        },
        "id": "yeD4MmcdEvW1",
        "outputId": "e9d99947-e827-4f20-a97d-a30420848105"
      },
      "execution_count": null,
      "outputs": [
        {
          "output_type": "stream",
          "name": "stdout",
          "text": [
            "Type of a is  <class 'int'>\n",
            "3\n"
          ]
        }
      ]
    },
    {
      "cell_type": "markdown",
      "source": [
        "2. upper()\n",
        "* This method will return the given string into upper string.\n",
        "* **Note:** does not make any changes in atcual string it will create new string."
      ],
      "metadata": {
        "id": "UScSV6YDFvvU"
      }
    },
    {
      "cell_type": "code",
      "source": [
        "print(name.upper())\n",
        "print(name)"
      ],
      "metadata": {
        "colab": {
          "base_uri": "https://localhost:8080/"
        },
        "id": "8wO22UdfGJK1",
        "outputId": "b84e2b1c-345b-477b-950e-551991e655f7"
      },
      "execution_count": null,
      "outputs": [
        {
          "output_type": "stream",
          "name": "stdout",
          "text": [
            "TOM\n",
            "Tom\n"
          ]
        }
      ]
    },
    {
      "cell_type": "markdown",
      "source": [
        "3. lower()\n",
        "* This method will return the given string into lower case character.\n"
      ],
      "metadata": {
        "id": "fDGyIEqOGtcs"
      }
    },
    {
      "cell_type": "code",
      "source": [
        "name = \"TOM\"\n",
        "print(name.lower())"
      ],
      "metadata": {
        "colab": {
          "base_uri": "https://localhost:8080/"
        },
        "id": "OzC3hETlG7ZC",
        "outputId": "736d5099-089e-4311-fe41-160ac995ec50"
      },
      "execution_count": null,
      "outputs": [
        {
          "output_type": "stream",
          "name": "stdout",
          "text": [
            "tom\n"
          ]
        }
      ]
    },
    {
      "cell_type": "markdown",
      "source": [
        "4. capitalize()\n",
        "* This method will convert only first letter of string into Upper case."
      ],
      "metadata": {
        "id": "sV7PODqeHEyu"
      }
    },
    {
      "cell_type": "code",
      "source": [
        "name='''hello\n",
        "kumar\n",
        "don'''\n",
        "print(name.capitalize())"
      ],
      "metadata": {
        "colab": {
          "base_uri": "https://localhost:8080/"
        },
        "id": "-QDgJi9CHD9k",
        "outputId": "04204c6a-9ecb-42d5-fee5-0a7a50b2343c"
      },
      "execution_count": null,
      "outputs": [
        {
          "output_type": "stream",
          "name": "stdout",
          "text": [
            "Hello \n",
            "kumar\n",
            "don\n"
          ]
        }
      ]
    },
    {
      "cell_type": "markdown",
      "source": [
        "5. title()\n",
        "* this method will convert the first letter of each word to the upper case.\n"
      ],
      "metadata": {
        "id": "sJV2U0ZBHraw"
      }
    },
    {
      "cell_type": "code",
      "source": [
        "name=\"bunny money home, honey\"\n",
        "print(name.title())"
      ],
      "metadata": {
        "colab": {
          "base_uri": "https://localhost:8080/"
        },
        "id": "qHAvU-fUHyWN",
        "outputId": "7b4d34c8-badc-4140-b2a4-12009ba48174"
      },
      "execution_count": null,
      "outputs": [
        {
          "output_type": "stream",
          "name": "stdout",
          "text": [
            "Bunny Money Home, Honey\n"
          ]
        }
      ]
    },
    {
      "cell_type": "markdown",
      "source": [
        "6. strip()\n",
        "* this method will remove white spaces and new line from start and end i.e left and right."
      ],
      "metadata": {
        "id": "1w7c-QR5IErc"
      }
    },
    {
      "cell_type": "code",
      "source": [
        "name= \"\\n   Hello kumar   \\n\"\n",
        "print(name.strip())"
      ],
      "metadata": {
        "colab": {
          "base_uri": "https://localhost:8080/"
        },
        "id": "fUbeuGlrIOSa",
        "outputId": "8b7c346b-b900-4afa-8600-7f94f9e55956"
      },
      "execution_count": null,
      "outputs": [
        {
          "output_type": "stream",
          "name": "stdout",
          "text": [
            "Hello kumar\n"
          ]
        }
      ]
    },
    {
      "cell_type": "markdown",
      "source": [],
      "metadata": {
        "id": "p1aIwUyRJVcI"
      }
    },
    {
      "cell_type": "markdown",
      "source": [
        "7. lstrip()\n",
        "* This method will remove the white spaces and new line from left only."
      ],
      "metadata": {
        "id": "MZfkY9w0Imme"
      }
    },
    {
      "cell_type": "code",
      "source": [
        "name=\"\\n   Hello world     \\n\"\n",
        "print(name.lstrip())"
      ],
      "metadata": {
        "colab": {
          "base_uri": "https://localhost:8080/"
        },
        "id": "2IyqvbaDIx9j",
        "outputId": "3a4e6efd-cdce-465c-958c-4f7806c8ac21"
      },
      "execution_count": null,
      "outputs": [
        {
          "output_type": "stream",
          "name": "stdout",
          "text": [
            "Hello world     \n",
            "\n"
          ]
        }
      ]
    },
    {
      "cell_type": "code",
      "source": [],
      "metadata": {
        "id": "5mkms0PGJ0ix"
      },
      "execution_count": null,
      "outputs": []
    },
    {
      "cell_type": "markdown",
      "source": [
        "8. rstrip()\n",
        "* This method will remove the withe spaces and new line from only right.\n"
      ],
      "metadata": {
        "id": "j8vlJi9ZI8Rt"
      }
    },
    {
      "cell_type": "code",
      "source": [
        "name=\"\\n    Hello World      \\n\"\n",
        "print(name.rstrip())"
      ],
      "metadata": {
        "colab": {
          "base_uri": "https://localhost:8080/"
        },
        "id": "3sDtGTQdJD3U",
        "outputId": "d5d84747-fa01-4e20-e616-c62bbae52b4e"
      },
      "execution_count": null,
      "outputs": [
        {
          "output_type": "stream",
          "name": "stdout",
          "text": [
            "\n",
            "    Hello World\n"
          ]
        }
      ]
    },
    {
      "cell_type": "markdown",
      "source": [
        "9. find()\n",
        "* This method will index number of character where character is occurs first.\n"
      ],
      "metadata": {
        "id": "Ee0uaGEIJ8LC"
      }
    },
    {
      "cell_type": "code",
      "source": [
        "text = \"Python is fun\"\n",
        "print(text.find('is'))"
      ],
      "metadata": {
        "colab": {
          "base_uri": "https://localhost:8080/"
        },
        "id": "OmzHugyQKLXG",
        "outputId": "7d5dbbaf-e50e-4471-e6e3-e9083d4ad01e"
      },
      "execution_count": null,
      "outputs": [
        {
          "output_type": "stream",
          "name": "stdout",
          "text": [
            "7\n"
          ]
        }
      ]
    },
    {
      "cell_type": "markdown",
      "source": [
        "10. replace(value_to_replce, new_value)\n",
        "* This method will replace the particular characters in given string with new character on all the occurences.\n"
      ],
      "metadata": {
        "id": "bD0oRE3NKhiE"
      }
    },
    {
      "cell_type": "code",
      "source": [
        "text = \"Python is fun, Java is fun\"\n",
        "print(text.replace('fun', 'awesome'))"
      ],
      "metadata": {
        "colab": {
          "base_uri": "https://localhost:8080/"
        },
        "id": "PKptvbLSK56N",
        "outputId": "3f71ab13-6d90-479e-db60-cc56330f3756"
      },
      "execution_count": null,
      "outputs": [
        {
          "output_type": "stream",
          "name": "stdout",
          "text": [
            "Python is awesome, Java is awesome\n"
          ]
        }
      ]
    },
    {
      "cell_type": "markdown",
      "source": [
        "11. split(charcter)\n",
        "* This method will split the given string into list of string just we have to specify from which character we have to split. We have to pass the delimiter."
      ],
      "metadata": {
        "id": "tlQLk9SQLuqy"
      }
    },
    {
      "cell_type": "code",
      "source": [
        "text= \"Apple, Mango, Banana\"\n",
        "print(text.split(','))"
      ],
      "metadata": {
        "colab": {
          "base_uri": "https://localhost:8080/"
        },
        "id": "bqH4wV01MN0w",
        "outputId": "b732f32f-dcd0-46e4-a883-fccb28022716"
      },
      "execution_count": null,
      "outputs": [
        {
          "output_type": "stream",
          "name": "stdout",
          "text": [
            "['Apple', ' Mango', ' Banana']\n"
          ]
        }
      ]
    },
    {
      "cell_type": "markdown",
      "source": [
        "12. join(iterable)\n",
        "* By using join we can convert/join the iterable like list into string."
      ],
      "metadata": {
        "id": "KSLGVWoiOdS8"
      }
    },
    {
      "cell_type": "code",
      "source": [
        "'''\n",
        "Syntax\n",
        "string.join(iterable)\n",
        "\n",
        "'''\n",
        "print(\",\".join(['Apple', 'Mango', 'Banana']))\n"
      ],
      "metadata": {
        "colab": {
          "base_uri": "https://localhost:8080/"
        },
        "id": "Y7zjGG6iOc_y",
        "outputId": "96af3d6a-c2a0-4928-e2ac-e166ab674f3e"
      },
      "execution_count": null,
      "outputs": [
        {
          "output_type": "stream",
          "name": "stdout",
          "text": [
            "Apple,Mango,Banana\n"
          ]
        }
      ]
    },
    {
      "cell_type": "markdown",
      "source": [
        "## Checking String property\n",
        "13. isalpha()\n",
        "* This method will check that all the characters in givin string is alphabest or not. return bool values.\n",
        "* If string containing any number or space of special character then it return false."
      ],
      "metadata": {
        "id": "9zsmE8AePdX5"
      }
    },
    {
      "cell_type": "code",
      "source": [
        "text = \"Hello\"\n",
        "print(text.isalpha())\n",
        "text = \"Hello123\"\n",
        "print(text.isalpha())"
      ],
      "metadata": {
        "colab": {
          "base_uri": "https://localhost:8080/"
        },
        "id": "-TmJ9W4mP3g1",
        "outputId": "3c0d7faa-ebe3-420e-f92a-1493e4077c2f"
      },
      "execution_count": null,
      "outputs": [
        {
          "output_type": "stream",
          "name": "stdout",
          "text": [
            "True\n",
            "False\n"
          ]
        }
      ]
    },
    {
      "cell_type": "markdown",
      "source": [
        "14. isdigi()\n",
        "* This method will check that givn string is having only digit or not. return the bool values."
      ],
      "metadata": {
        "id": "ToixSxZBQSxI"
      }
    },
    {
      "cell_type": "code",
      "source": [
        "text='12345'\n",
        "print(text.isdigit())\n",
        "text='12345abc'\n",
        "print(text.isdigit())"
      ],
      "metadata": {
        "colab": {
          "base_uri": "https://localhost:8080/"
        },
        "id": "D8ZdI-DXQeVv",
        "outputId": "7ffae4dd-537a-4b70-90c4-1ab752cd5ecb"
      },
      "execution_count": null,
      "outputs": [
        {
          "output_type": "stream",
          "name": "stdout",
          "text": [
            "True\n",
            "False\n"
          ]
        }
      ]
    },
    {
      "cell_type": "markdown",
      "source": [
        "15. isalnum()\n",
        "* This method will check that given string contain  alphanumberic(alphabets, number and combination of both) values or not.\n",
        "* This method will return false if given string contain value other than alphanumeric like space or any special character."
      ],
      "metadata": {
        "id": "ebNQutxUQt4P"
      }
    },
    {
      "cell_type": "code",
      "source": [
        "text=\"abc\"\n",
        "print(text.isalnum())\n",
        "text= \"1245\"\n",
        "print(text.isalnum())\n",
        "text= \"1245abc\"\n",
        "print(text.isalnum())"
      ],
      "metadata": {
        "colab": {
          "base_uri": "https://localhost:8080/"
        },
        "id": "yFPU9eDHQteY",
        "outputId": "67be95d4-e870-49bf-fc1e-9b36919f6e24"
      },
      "execution_count": null,
      "outputs": [
        {
          "output_type": "stream",
          "name": "stdout",
          "text": [
            "False\n",
            "True\n",
            "True\n"
          ]
        }
      ]
    },
    {
      "cell_type": "markdown",
      "source": [
        "16. isspace()\n",
        "* This method will check that given string having only space character's  or not."
      ],
      "metadata": {
        "id": "HFZDNZmkRt5H"
      }
    },
    {
      "cell_type": "code",
      "source": [
        "text = \"   \"\n",
        "print(text.isspace())\n",
        "text = \" Hello \"\n",
        "print(text.isspace())"
      ],
      "metadata": {
        "colab": {
          "base_uri": "https://localhost:8080/"
        },
        "id": "8L4Bndt4R2_6",
        "outputId": "35758189-68e2-4c27-cc9a-7752710cee1b"
      },
      "execution_count": null,
      "outputs": [
        {
          "output_type": "stream",
          "name": "stdout",
          "text": [
            "True\n",
            "False\n"
          ]
        }
      ]
    },
    {
      "cell_type": "markdown",
      "source": [
        "## f-string / string formatting\n",
        "* String formatting is a powerful feature in Python that allows you to insert variable and expression into strings in a structured way. Python provides multiple ways to format strings, including the older .format() method and the modern f-string.\n",
        "\n",
        "1. Using .format() method\n",
        "* The .format() method allows inserting values into placeholders {}. this is use before the 3.6 version of python"
      ],
      "metadata": {
        "id": "nmeQ4_-rSfi7"
      }
    },
    {
      "cell_type": "code",
      "source": [
        "print(\"{1} is learning {0}\".format(\"Python\", \"Tom\"))\n",
        "print(\"{name} is  {age} years old\".format(name=\"Tom\", age=25))"
      ],
      "metadata": {
        "colab": {
          "base_uri": "https://localhost:8080/"
        },
        "id": "hp0LZm3ITmLJ",
        "outputId": "d1e0bdd7-3141-44c6-b5af-dbaf13c072ec"
      },
      "execution_count": null,
      "outputs": [
        {
          "output_type": "stream",
          "name": "stdout",
          "text": [
            "Tom is learning Python\n",
            "Tom is  25 years old\n"
          ]
        }
      ]
    },
    {
      "cell_type": "markdown",
      "source": [
        "2. **f-string**\n",
        "* Introduced in Python 3.6, f-strings are the most concise and readble way to format strings.\n",
        "* we can, directly put variable in f-string.\n"
      ],
      "metadata": {
        "id": "VgCyVq9FUZAr"
      }
    },
    {
      "cell_type": "code",
      "source": [
        "name= \"Tom\"\n",
        "age= 25\n",
        "print(f\"{name} is {age} years old\")"
      ],
      "metadata": {
        "colab": {
          "base_uri": "https://localhost:8080/"
        },
        "id": "pKUzhF5sUzfE",
        "outputId": "d61934c0-a837-4670-88de-e2f5aaef4b0f"
      },
      "execution_count": null,
      "outputs": [
        {
          "output_type": "stream",
          "name": "stdout",
          "text": [
            "Tom is 25 years old\n"
          ]
        }
      ]
    },
    {
      "cell_type": "markdown",
      "source": [
        "* Using Expressions in f-String\n",
        "you can perform calulations directly inside f-string:\n"
      ],
      "metadata": {
        "id": "Fs_wU6PYYw2f"
      }
    },
    {
      "cell_type": "code",
      "source": [
        "x = 10\n",
        "y = 20\n",
        "print(f\"The sum of {x} and {y} is {x + y}\")"
      ],
      "metadata": {
        "colab": {
          "base_uri": "https://localhost:8080/"
        },
        "id": "Y66EsSe6Y8_j",
        "outputId": "c6c1e792-8cbe-4e7f-d4ae-0d24dd997cf7"
      },
      "execution_count": null,
      "outputs": [
        {
          "output_type": "stream",
          "name": "stdout",
          "text": [
            "The sum of 10 and 20 is 30\n"
          ]
        }
      ]
    },
    {
      "cell_type": "markdown",
      "source": [
        "Formatting Numbers"
      ],
      "metadata": {
        "id": "sXWfNcwuZH1u"
      }
    },
    {
      "cell_type": "code",
      "source": [
        "pi = 3.14159265\n",
        "print(f\"Pi rounded to 2 decimal places : {pi:.2f}\")"
      ],
      "metadata": {
        "colab": {
          "base_uri": "https://localhost:8080/"
        },
        "id": "p_K5NyrVZJ6K",
        "outputId": "64436bb8-0076-42be-ba25-2c9ab24a36bf"
      },
      "execution_count": null,
      "outputs": [
        {
          "output_type": "stream",
          "name": "stdout",
          "text": [
            "Pi rounded to 2 decimal places : 3.14\n"
          ]
        }
      ]
    },
    {
      "cell_type": "markdown",
      "source": [
        "Padding and Alignment\n"
      ],
      "metadata": {
        "id": "X-qKDPZtZcDL"
      }
    },
    {
      "cell_type": "code",
      "source": [
        "text = \"Python\"\n",
        "print(f\"{text:>10}\")  # Right-aligned with 10 spaces\n",
        "print(f\"{text:<10}\")  # Left-aligned with 10 spaces\n",
        "print(f\"{text:^10}\")  # Center-aligned with 10 spaces"
      ],
      "metadata": {
        "colab": {
          "base_uri": "https://localhost:8080/"
        },
        "id": "Kdl2WvxbZkoV",
        "outputId": "0595cee2-ea05-47ff-942a-d79be85e7126"
      },
      "execution_count": null,
      "outputs": [
        {
          "output_type": "stream",
          "name": "stdout",
          "text": [
            "    Python\n",
            "Python    \n",
            "  Python  \n"
          ]
        }
      ]
    },
    {
      "cell_type": "markdown",
      "source": [
        "17. ord()\n",
        "* This method which return the ASCII value of character. We have to pass the character. this method will return the ASCII value in number."
      ],
      "metadata": {
        "id": "VSwiqlKkWp3j"
      }
    },
    {
      "cell_type": "code",
      "source": [
        "print(ord('A'))"
      ],
      "metadata": {
        "colab": {
          "base_uri": "https://localhost:8080/"
        },
        "id": "qptZsNg9Wz-p",
        "outputId": "c7318d32-7b61-4124-c569-b3f194db5bd6"
      },
      "execution_count": null,
      "outputs": [
        {
          "output_type": "stream",
          "name": "stdout",
          "text": [
            "65\n"
          ]
        }
      ]
    },
    {
      "cell_type": "markdown",
      "source": [
        "18. chr()\n",
        "* The method will return the character present on that perticular ASCII value. We have to pass the number then this method will return the character present on that number.  "
      ],
      "metadata": {
        "id": "KolKMwLsW5G5"
      }
    },
    {
      "cell_type": "code",
      "source": [
        "print(chr(65))"
      ],
      "metadata": {
        "colab": {
          "base_uri": "https://localhost:8080/"
        },
        "id": "OAp6RWJ0XBv-",
        "outputId": "b8e4a9f9-fbd6-46c6-dab0-32dbb15c6e19"
      },
      "execution_count": null,
      "outputs": [
        {
          "output_type": "stream",
          "name": "stdout",
          "text": [
            "A\n"
          ]
        }
      ]
    },
    {
      "cell_type": "markdown",
      "source": [
        "## **Important Note**\n",
        "* **Escape Sequences:** Use \\n, \\t, \\', and \\\\ to handle special characters in strings.\n",
        "* Raw Strings : Use r\"string\" to prevent sequence in interpretation.\n",
        "* String Encoding & Decoding: Use .encode() and .decode() to work with different text encodings.\n",
        "* String immutability: Strings in Python are immutable, meaning they cannot be change after creation.\n",
        "* Performance Consideration: Using ''.join('list_of_strings) is more efficient than concatenation in loop.\n",
        "## Summry\n",
        "* .format() allows inserting values into placeholders.\n",
        "* f-strings provide an intuitive and readable way to format strings.\n",
        "* f-string support expression, calculations, and formatting options.\n",
        "* Python provides various string methods for modification and analysis.\n",
        "* Case conversion, trimming, finding, replacing, splitting and joinning are commonly used.\n",
        "* Functions like len(), ord(), and chr() are useful for working with string properties."
      ],
      "metadata": {
        "id": "Vbr-xuGIYZNA"
      }
    },
    {
      "cell_type": "markdown",
      "source": [
        "#Functions and Modules\n",
        "Functions helps to perform certain operation, it make code reusable and readable, maintainable.\n",
        "1. Defining functions in Python\n",
        "* functions help in resuability and modularity in python.\n",
        "\n",
        "**Key Points:**\n",
        "* Define using def keyword\n",
        "* function name should be be meaningful and follow the same rules of naming variable.\n",
        "* Use return to send a value back."
      ],
      "metadata": {
        "id": "Wws2uUa35klr"
      }
    },
    {
      "cell_type": "code",
      "source": [
        "def greet(name):\n",
        "  return f\"Hello, {name}!\"\n",
        "print(greet(\"Alice\"))"
      ],
      "metadata": {
        "colab": {
          "base_uri": "https://localhost:8080/"
        },
        "id": "UFV8PgJH6Vaf",
        "outputId": "bff8ea62-0e89-487d-ce66-c006764c89fa"
      },
      "execution_count": null,
      "outputs": [
        {
          "output_type": "stream",
          "name": "stdout",
          "text": [
            "Hello, Alice!\n"
          ]
        }
      ]
    },
    {
      "cell_type": "markdown",
      "source": [
        "2. Function Arguments & Return Values\n",
        "* Functions can take parameters and return values.\n",
        "\n",
        "**Note**: If method is not returning anything then we get none.\n",
        "\n",
        "**Types of Arguments:**\n",
        "  1. Positional Arguments\n"
      ],
      "metadata": {
        "id": "3ok8TGy77Bv8"
      }
    },
    {
      "cell_type": "code",
      "source": [
        "def add(a,b): #a,b are paramters\n",
        "  return a + b\n",
        "result=add(5,3) #5,3 are the arguments.\n",
        "print(result)\n",
        "\n",
        "def sub(a,b):\n",
        "  print(a-b)\n",
        "\n",
        "result=sub(5,3)\n",
        "print(result)"
      ],
      "metadata": {
        "colab": {
          "base_uri": "https://localhost:8080/"
        },
        "id": "qSX-ipZC7Qh9",
        "outputId": "4a1fb00c-b6e5-4cdc-8e2f-7b6a6959c811"
      },
      "execution_count": 8,
      "outputs": [
        {
          "output_type": "stream",
          "name": "stdout",
          "text": [
            "8\n",
            "2\n",
            "None\n"
          ]
        }
      ]
    },
    {
      "cell_type": "markdown",
      "source": [
        " 2. Default Arguments\n",
        " * This are optional arguments and it's optional.\n",
        " * if we Assgin the value as n default argument, while calling a method if we pass the value for this default argument then then the default or previous value will get overide when we are calling otherwise it remain same.\n",
        " * we have to palce the default Arguments after the positional argumeent."
      ],
      "metadata": {
        "id": "t0jcS3x_8odA"
      }
    },
    {
      "cell_type": "code",
      "source": [
        "def greet(name=\"Guest\"):\n",
        "  return f\"Hello, {name}!\"\n",
        "print(greet())\n",
        "\n",
        "def add(a,b=5):\n",
        "  return a+b\n",
        "print(add(5))\n",
        "print(add(5,10)) #here value of b is overide to 5 to 10\n",
        "print(add(4))"
      ],
      "metadata": {
        "colab": {
          "base_uri": "https://localhost:8080/"
        },
        "id": "a0deet-M8zqH",
        "outputId": "f52833e7-25fc-4144-f17b-1bfbdd6bda3e"
      },
      "execution_count": 11,
      "outputs": [
        {
          "output_type": "stream",
          "name": "stdout",
          "text": [
            "Hello, Guest!\n",
            "10\n",
            "15\n",
            "9\n"
          ]
        }
      ]
    },
    {
      "cell_type": "markdown",
      "source": [
        " 3. Keyword Arguments\n",
        " * When we have to change the occurance / order then we have to use this keyword arguments, but arguments must match with parameter."
      ],
      "metadata": {
        "id": "okMP5bRw9IhY"
      }
    },
    {
      "cell_type": "code",
      "source": [
        "def student(name, age):\n",
        "  print(f\"Name: {name}, Age: {age}\")\n",
        "student(age=20, name=\"Alice\") #keyword assgin the value to argument"
      ],
      "metadata": {
        "colab": {
          "base_uri": "https://localhost:8080/"
        },
        "id": "I9LIA4bI9LcS",
        "outputId": "09c5e4ac-c531-4e92-bee8-01284ee775d0"
      },
      "execution_count": 7,
      "outputs": [
        {
          "output_type": "stream",
          "name": "stdout",
          "text": [
            "Name: Alice, Age: 20\n"
          ]
        }
      ]
    },
    {
      "cell_type": "markdown",
      "source": [
        "3. Lambda Functions\n",
        "* Lambda functions are anonymous, inline(one line) functions.\n",
        "* lambda function is declare using the lambda keyword.\n",
        "\n",
        "**Syntax**\n",
        "method_name= lambda paramter: code\n",
        "* this method return the value\n",
        "\n",
        "* lambda function is used to create one liner function. Or When we have to pass function to function the we can use lambda function."
      ],
      "metadata": {
        "id": "PqZG8EQBF3ll"
      }
    },
    {
      "cell_type": "code",
      "source": [
        "square=lambda x: x*x\n",
        "#methodname=lambda paramter: code\n",
        "print(square(5))\n",
        "sq=square(4)\n",
        "print(sq)\n",
        "\n",
        "#lambda function with two argument\n",
        "add=lambda x,y: x+y\n",
        "print(add(5,3))\n"
      ],
      "metadata": {
        "colab": {
          "base_uri": "https://localhost:8080/"
        },
        "id": "TU_0K34xGNWx",
        "outputId": "83947f07-59d7-4fa3-ff71-79357e4ecd1d"
      },
      "execution_count": 19,
      "outputs": [
        {
          "output_type": "stream",
          "name": "stdout",
          "text": [
            "25\n",
            "16\n",
            "8\n"
          ]
        }
      ]
    },
    {
      "cell_type": "markdown",
      "source": [
        "4. Recursion in Python\n",
        "A recursion is occur when a function calling itself to solve a problem.\n",
        "* Whenver we have a formula of a function in the form of itself, we use resursion.\n",
        "\n",
        "**Note:** While using the recursion\n",
        "1. **Must have a base case to avoid infinte resurion.** If we don't use base case then loop will go into infinite loop.\n",
        "* Used in alorithms like Fibonacci, Tree traversals."
      ],
      "metadata": {
        "id": "esFwP4eXKWUj"
      }
    },
    {
      "cell_type": "code",
      "source": [
        "#Factorial\n",
        "def factorial(n):\n",
        "  if n==1:\n",
        "    return 1\n",
        "  return n*factorial(n-1)\n",
        "print(factorial(5))"
      ],
      "metadata": {
        "colab": {
          "base_uri": "https://localhost:8080/"
        },
        "id": "ZdL8eOvEc7d0",
        "outputId": "e82f9404-5e81-4c04-9d8f-73236e06a69e"
      },
      "execution_count": 24,
      "outputs": [
        {
          "output_type": "stream",
          "name": "stdout",
          "text": [
            "120\n"
          ]
        }
      ]
    },
    {
      "cell_type": "markdown",
      "source": [
        "Fibonacii series mean addition of previous two value we get the new number. i.e. new number is the addition of previous two number."
      ],
      "metadata": {
        "id": "WI2GSuz3LWze"
      }
    },
    {
      "cell_type": "code",
      "source": [
        "'''\n",
        "fibonacii\n",
        "0 1 1 2 3 5 8 13\n",
        "fib (0)=0\n",
        "fib(1)=1\n",
        "fib(2)=fib(0)+fib(1)\n",
        "fib(n) = fib(n-2) + fib(n-1)\n",
        "'''\n",
        "def fib(n):\n",
        "  #Base case of recursion\n",
        "  if(n==0 or n==1):\n",
        "    return n\n",
        "  return fib(n-2)+fib(n-1)\n",
        "print(fib(5))\n",
        "\n",
        "'''\n",
        "When we pass 6 to the function then 1st it will check codition ie. n=6 i.e. condtion is false so it will\n",
        "execute the formula we get fib(4)+fib(5). fib 4 is pass to the function and + fib(5)\n",
        "remain same which resolve later. for now fib 4 it will check condition which flase again 4 is put in to\n",
        "formula we get fib(2)+fib(3)\n",
        "for fib (0) it will return 0 and for fib(1) it return 1.\n",
        "\n",
        "fib (4) + fib (5)\n",
        "fib (2) + fib (3) + fib(5) # fib(4) is break down to fib(2) + fib(3)\n",
        "fib (0) + fib (1) + fib(3) + fib(5)\n",
        "0 + 1 + fib(1) + fib(2) + fib(3) + fib(4)\n",
        "0 + 1 + 1 + fib(0) + fib(1) + fib(1) + fib(2) + fib(4)\n",
        "0 + 1 + 1 + 0 + 1 + 1 + fib (0) + fib(1) + fib(2) + fib(3)\n",
        "0 + 1 + 1 + 0 + 1 + 1 + 0 + 1 + fib(0) + fib(1) + fib(3)\n",
        "0 + 1 + 1 + 0 + 1 + 1 + 0 + 1 + 0 + 1 + fib(1) + fib(2)\n",
        "0 + 1 + 1 + 0 + 1 + 1 + 0 + 1 + 0 + 1 + 1 + fib(0) + fib(1)\n",
        "0 + 1 + 1 + 0 + 1 + 1 + 0 + 1 + 0 + 1 + 1 + 0 + 1\n",
        "'''\n",
        ""
      ],
      "metadata": {
        "colab": {
          "base_uri": "https://localhost:8080/"
        },
        "id": "XRsy3RwQLxys",
        "outputId": "d9c0c033-0cff-4959-8f3c-1d87b161de28"
      },
      "execution_count": 23,
      "outputs": [
        {
          "output_type": "stream",
          "name": "stdout",
          "text": [
            "5\n"
          ]
        }
      ]
    },
    {
      "cell_type": "markdown",
      "source": [
        "5. Modules and Pip - Using External Libraries\n",
        "**Importing Modules**\n",
        "* Python provides bulit-in and third-party modules.\n",
        "\n",
        "* Python have some inbuilt and third party libraries which help us to solve our problem by using code which is written by others. Just we have to import that modules and we can use in our program.\n",
        "* By using **import** keyword we can improt code form module."
      ],
      "metadata": {
        "id": "EEQvEinvf7Xj"
      }
    },
    {
      "cell_type": "code",
      "source": [
        "import math #math is built-in module in python which have many methods to solve meathematic problem\n",
        "print(math.sqrt(16)) #math is name of module and sqrt() is method of that module."
      ],
      "metadata": {
        "colab": {
          "base_uri": "https://localhost:8080/"
        },
        "id": "RlxoIHlph9hz",
        "outputId": "8725d2e1-6753-4de5-a590-fa19a82ada58"
      },
      "execution_count": 25,
      "outputs": [
        {
          "output_type": "stream",
          "name": "stdout",
          "text": [
            "4.0\n"
          ]
        }
      ]
    },
    {
      "cell_type": "markdown",
      "source": [
        "## In python there are two types of modules\n",
        "1. built-in modules\n",
        "2. External modules\n",
        "1. Buil-in modules\n",
        "* The modules which is provided by python itself.\n",
        "https://docs.python.org/3/py-modindex.html\n",
        "\n",
        "2. External Modules\n",
        "* External modules can be written by us or we can install external module written by other using pip install command.\n",
        "**syntax**\n",
        "pip install module_name\n",
        "\n",
        "**Note:** if we import module then we have to use this module other python show the warning msg.\n",
        "* we can create our own module. Just we have to create python file with .py extension. now we can import data member present inside this module whenever we needed.\n"
      ],
      "metadata": {
        "id": "-ELVIvKSi8wH"
      }
    },
    {
      "cell_type": "code",
      "source": [
        "pip install request\n",
        "# by using\n",
        "r=request.get('https://www.google.com') #this get method will get html code of any webiste\n",
        "print(r.text) # text is not method is a property.\n"
      ],
      "metadata": {
        "collapsed": true,
        "id": "VakSWXDKm4FX"
      },
      "execution_count": null,
      "outputs": []
    },
    {
      "cell_type": "markdown",
      "source": [
        "* When we install module and if that module is depending on other module then all this depending modules are get install."
      ],
      "metadata": {
        "id": "YkUR2G3zn-UR"
      }
    },
    {
      "cell_type": "markdown",
      "source": [
        "6. Function Scope and Lifetime\n",
        "* In python, variable have scope (where they can be accessed) and lifetime(how long they exist). Vriables are created when a function is called and destroyed when it returns (method stop/ return by method.). Understanding scope helps avoid unitened errors and improves code organization.\n",
        "\n",
        "* function keeps variable until it's return as soon it's return by method variable inside method will be clear or deleted from memory.\n",
        "**Types Of Scope in Python**\n",
        "1. Local Scope(inside a function) - Variables declared inside a function are accessible only within that function.\n",
        "2. Global Scope (accessible everywhere) - variable declare outside any function can be used throughout the program."
      ],
      "metadata": {
        "id": "NXTahFZPzQiL"
      }
    },
    {
      "cell_type": "code",
      "source": [
        "def sum(a,b):\n",
        "  c = a + b\n",
        "  z=1 # this is local variabl inside the method this var will destroy when this\n",
        "  # function returns\n",
        "  return c # a, b and c are the locala variables\n",
        "\n",
        "print(sum(4,5))\n",
        "\n",
        "z= 8\n",
        "print(z)\n",
        "print(sum(5,z))"
      ],
      "metadata": {
        "colab": {
          "base_uri": "https://localhost:8080/"
        },
        "id": "VMXBPwhg4GMn",
        "outputId": "f8824c58-c8f0-4293-cbd9-e68efa7bd347"
      },
      "execution_count": 30,
      "outputs": [
        {
          "output_type": "stream",
          "name": "stdout",
          "text": [
            "9\n",
            "8\n",
            "13\n"
          ]
        }
      ]
    },
    {
      "cell_type": "markdown",
      "source": [
        "**Using the global keyword**\n",
        "* To modify a global variable inside a function, use the global keyword and we can declear the gloabl variable inside non-globla scope.\n",
        "1. we have to call gloabal keyword and global variable inside method then we\n",
        "2. we can assign values\n",
        "\n",
        "* like\n"
      ],
      "metadata": {
        "id": "oqqxEyGu5WHw"
      }
    },
    {
      "cell_type": "code",
      "source": [
        "def sum(a,b):\n",
        "  global c\n",
        "  c = a + b\n",
        "  z=1\n",
        "  return c\n",
        "print(sum(4,5))\n",
        "print(c)\n",
        "\n",
        "def greet(n):\n",
        "  global name\n",
        "  name = n # this will refere to global name, not creat local variable\n",
        "  return f\"Hello, {name}!\"\n",
        "\n",
        "\n",
        "name=\"ram\"\n",
        "print(name)\n",
        "print(greet(\"Alice\"))\n",
        "print(name)"
      ],
      "metadata": {
        "colab": {
          "base_uri": "https://localhost:8080/"
        },
        "id": "sUn4zeel52J6",
        "outputId": "7e683f74-a0c2-4bee-f168-0f18d35468e1"
      },
      "execution_count": 36,
      "outputs": [
        {
          "output_type": "stream",
          "name": "stdout",
          "text": [
            "9\n",
            "9\n",
            "ram\n",
            "Hello, Alice!\n",
            "Alice\n"
          ]
        }
      ]
    },
    {
      "cell_type": "markdown",
      "source": [
        "**This allows functions to change global variables, but excessive use of gloabl is discourage as it can make dubugging harder.**"
      ],
      "metadata": {
        "id": "LSy-Vrzv8XUQ"
      }
    },
    {
      "cell_type": "markdown",
      "source": [
        "7. Docstrings - Writing Function Documentation\n",
        "* Docstrings are used to document functions, classes, and modules. In python, they are written in triple qoutes. They are accessible using __doc__ attribute. Here's an example\n",
        "* Docstring is writte just after declaring function i.e. just after the : i.e. starting\n",
        "* Docstring added in python because some time we have to add information along with function like which parameter its accepting, type of variable is returning. When we hover over function this docstirng information will be seen. We can write multiline docstring."
      ],
      "metadata": {
        "id": "hIXH88vD8tIp"
      }
    },
    {
      "cell_type": "code",
      "source": [
        "def sum(a,b):\n",
        "  '''This function return the sum of two numbers'''\n",
        "  return a+b\n",
        "print(sum.__doc__) #syntax to get doc string methodname.__doc__"
      ],
      "metadata": {
        "colab": {
          "base_uri": "https://localhost:8080/"
        },
        "id": "0GUAT3fz9sKk",
        "outputId": "1551dcef-d8db-429f-e6a5-917eab2911c2"
      },
      "execution_count": 37,
      "outputs": [
        {
          "output_type": "stream",
          "name": "stdout",
          "text": [
            "This function return the sum of two numbers\n"
          ]
        }
      ]
    },
    {
      "cell_type": "code",
      "source": [
        "def add(a,b):\n",
        "  '''\n",
        "  Returns the sum of two numbers.\n",
        "  Parameters:\n",
        "  a (int): The first number.\n",
        "  b (int): The second number.\n",
        "  Returns:\n",
        "  int: The sum of the two numbers.\n",
        "  '''\n",
        "  return a+b\n",
        "print(add.__doc__)\n"
      ],
      "metadata": {
        "colab": {
          "base_uri": "https://localhost:8080/"
        },
        "id": "7bHNbz4k_UAu",
        "outputId": "7239e25a-6877-46c7-ce85-effa2a6051db"
      },
      "execution_count": 39,
      "outputs": [
        {
          "output_type": "stream",
          "name": "stdout",
          "text": [
            "\n",
            "  Returns the sum of two numbers.\n",
            "  Parameters:\n",
            "  a (int): The first number.\n",
            "  b (int): The second number.\n",
            "  Returns:\n",
            "  int: The sum of the two numbers.\n",
            "  \n"
          ]
        }
      ]
    },
    {
      "cell_type": "markdown",
      "source": [
        "**Summary**\n",
        "* Functions help in reusability and modularity\n",
        "* Functions can take arguments and return values.\n",
        "* Lambda functions are short, inline functions.\n",
        "* Recursion is a techinque where a fucntion calls itself.\n",
        "* Modules help in organizing code usingg external libraries.\n",
        "* Scope of lifetime of variable decide their accessibility.\n",
        "* Docstring are used to document functions, classes and modules."
      ],
      "metadata": {
        "id": "zihI_2kxAAo5"
      }
    }
  ]
}