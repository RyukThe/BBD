{
  "nbformat": 4,
  "nbformat_minor": 0,
  "metadata": {
    "colab": {
      "provenance": [],
      "authorship_tag": "ABX9TyNuQyVzM18whbViEuV3hMmZ",
      "include_colab_link": true
    },
    "kernelspec": {
      "name": "python3",
      "display_name": "Python 3"
    },
    "language_info": {
      "name": "python"
    }
  },
  "cells": [
    {
      "cell_type": "markdown",
      "metadata": {
        "id": "view-in-github",
        "colab_type": "text"
      },
      "source": [
        "<a href=\"https://colab.research.google.com/github/RyukThe/BBD-python-selenium-notebook/blob/master/Python.ipynb\" target=\"_parent\"><img src=\"https://colab.research.google.com/assets/colab-badge.svg\" alt=\"Open In Colab\"/></a>"
      ]
    },
    {
      "cell_type": "markdown",
      "source": [
        "Introduction to python\n",
        "What exactly is programming?\n",
        "Solving problem through code and turning idea into actionable instructions.\n"
      ],
      "metadata": {
        "id": "ZiKELesTdq8q"
      }
    },
    {
      "cell_type": "code",
      "source": [
        "print(\"Hello World!!\")"
      ],
      "metadata": {
        "colab": {
          "base_uri": "https://localhost:8080/"
        },
        "id": "I7_r_jGnlSN-",
        "outputId": "5aad1327-b2ac-419c-cd69-ae03345ac3bc"
      },
      "execution_count": null,
      "outputs": [
        {
          "output_type": "stream",
          "name": "stdout",
          "text": [
            "Hello World!!\n"
          ]
        }
      ]
    },
    {
      "cell_type": "markdown",
      "source": [
        "**Understanding the syntax of python**\n",
        "## * print() statement\n",
        "* The print() function is used to display output.\n",
        "print is function is python to print argument on console we have to pass the argument in parenthesis (). so it will appear on the consle.\n",
        "* In a print statement if we use , to give multiple string argument it automatically add space.\n",
        "i.e. print('hello','str')\n",
        "\n",
        "* **By default print() function create the new line after printing something on console**\n",
        "* we can change this default behavior of print statement for multiple string arguments in single print statment space to comma by using sep argument\\parameter i.e. sep=\",\"\n",
        "\n",
        "print(\"str1\", \"str2\", sep=\",\")\n",
        "\n",
        "* similary, we can change the behavior of print() function after printing somthing on consle it move cursor to new line. Because by defautl it have end value is \\n. we change this behavior using end parameter\\argument like\n",
        "print(\"hello\", end='')\n",
        "\n",
        "* shortcut to open terminal in VS code is ctrl + ~\n",
        "to run the python file we have to use python filename.py"
      ],
      "metadata": {
        "id": "EhNPZfG2mGF3"
      }
    },
    {
      "cell_type": "code",
      "source": [
        "print(\"Hey I am Tom\")\n",
        "print('Hellow world',\"Tom\",\"Shelby\")\n",
        "print(\"I am good\")\n",
        "print(\"How are you?\")\n",
        "\n",
        "# sep argument\n",
        "print(\"I am good\", \"How are you?\", sep=\",\")\n",
        "'''by default value of sep parameter is space'''\n",
        "# now it's add commam instade of\n",
        "#space i.e. default to comma we can pass any seprator like / or any\n",
        "# end argument\n",
        "print(\"hello\", end='')\n",
        "'''by default value of end parameter is \\n'''\n",
        "# it won't move cursor to newline\n",
        "print(\"world\")"
      ],
      "metadata": {
        "colab": {
          "base_uri": "https://localhost:8080/"
        },
        "id": "hsfdKVGenibj",
        "outputId": "66b002f8-c123-422b-9994-5bf3044e9efc"
      },
      "execution_count": null,
      "outputs": [
        {
          "output_type": "stream",
          "name": "stdout",
          "text": [
            "Hey I am Tom\n",
            "Hellow world Tom Shelby\n",
            "I am good\n",
            "How are you?\n",
            "I am good,How are you?\n",
            "helloworld\n"
          ]
        }
      ]
    },
    {
      "cell_type": "markdown",
      "source": [
        "###How python read the file?\n",
        "Python read the file top to bottom line by line and scan for any erro if it found it will show the line where error is occur execute the code.\n",
        "When syntax error occur then it won't execute any code it directly throw line number where syntax error is occour. show the error name. i.e. syntax error.\n",
        "\n",
        "\n",
        "In python, indentation is very important because it way to know that programmer is in the block of code or not. So in python : represent the starting point of block and indentation show the point it is part of block.\n",
        "\n",
        "# **Comment in Python**\n",
        "* Comment are used to explain code and ignore by the python interpreter.\n",
        "comment is way for programmers which instruct the Python interpreter that hey, ignore this line.\n",
        "* single line comment with #\n",
        "* Multiline comment are enclosed in ''' or \"\"\"\n"
      ],
      "metadata": {
        "id": "l_TWFycqpVUD"
      }
    },
    {
      "cell_type": "code",
      "source": [
        "#Single line comment\n",
        "\"\"\"Multiline comment\"\"\"\n",
        "'''Multiline comment'''"
      ],
      "metadata": {
        "id": "iRHkFAwusNRh"
      },
      "execution_count": null,
      "outputs": []
    },
    {
      "cell_type": "markdown",
      "source": [
        "#**Variable and Datatype in Python**\n",
        "Variable is nothing but are container where data is store in memory location. So, by using the variable we can manipulate the data in program multiple time. Variable used fro information reusebility.\n",
        "variable is created when we assgin the value to that variable. then this value is store in memory location.\n",
        "\n",
        "variable_name=value_of_variable\n",
        "One variable can store one information at a time.\n",
        "in Variable we can store the integere, string, float types of values."
      ],
      "metadata": {
        "id": "53tMFagitwb-"
      }
    },
    {
      "cell_type": "code",
      "source": [
        "age=13 #integer\n",
        "name =\"Tom\" #string\n",
        "cgpa= 4.55 #float"
      ],
      "metadata": {
        "id": "mOFVS-gWvDDz"
      },
      "execution_count": null,
      "outputs": []
    },
    {
      "cell_type": "markdown",
      "source": [
        "In python there are some rule which type of character variable can contain.\n",
        "**Python is dynamically typed language** which means we don't have to specify which data type a perticular variable contains.\n",
        "Python automatically looks at the value and figures out that type of value. like string, float or int.\n",
        "\n",
        "### **Rules of defining a variable in python / naming a variable**\n",
        "1. Variable name must start with a letter (a-z, A-Z) or an underscore(_)\n",
        "2. They can contain letters, numbers, and underscores.\n",
        "3. Variable names are case-sensitive (age and Age are different).\n",
        "4. Avoid using python keywords.(e.g. if, for, while) as variable names.\n",
        "\n",
        "23age=2 #this is invalid because variable cannont start with a number.\n",
        "\n",
        "age=32 # is valid variable.\n",
        "age$e=45# is invalid variable because variable can not contain the special symbol other than the _ (underscore)."
      ],
      "metadata": {
        "id": "iXQ0dtX9v8Wv"
      }
    },
    {
      "cell_type": "code",
      "source": [
        "_age=45 #valid variable\n",
        "__age__=45#valid variable\n",
        "a_b_c=45#Valid variable"
      ],
      "metadata": {
        "id": "euXUNCvGvEze"
      },
      "execution_count": null,
      "outputs": []
    },
    {
      "cell_type": "markdown",
      "source": [
        "python supports several built-in data types:\n",
        "**Inbuild Datatypes in python**\n",
        "1. integers (int): whole numbers (e.g. 10,-5)\n",
        "2. Floats (float): Decimal numbers (e.g. 3.14, -9.34)\n",
        "3. Strings (str): Text data enclosed in quotes. (e.g. 'hello', \"Hello\")\n",
        "4. Booleans (bool): Represents True or False.\n",
        "5. Lists: Order mutable collections (e.g. [1,2,'str',0.43])\n",
        "6. Tuples: Order immutable collections. (e.g. (1,34,\"str\",034.34)\n",
        "7. Sets: Unorder collections of unique element (e.g. {1,2,3})\n",
        "8. Dictionaries: key-value pairs (e.g. {{\"key\":\"value\", \"name\"=\"Alice\", \"age\"=34}).\n",
        "\n",
        "**type()** by using type function we can get to know what is type of variable is.\n",
        "\n"
      ],
      "metadata": {
        "id": "FtYqsQqxzAqg"
      }
    },
    {
      "cell_type": "code",
      "source": [
        "age=18\n",
        "print(f\"age = {age} & type of age = ({type(age)})\")\n",
        "name=\"Tom\"\n",
        "print(f\"name = {name} & type of name = {type(name)}\")\n",
        "cgpa=4.55\n",
        "print(f\"cgpa = {cgpa} & type of cgpa = {type(cgpa)}\")\n",
        "is_completed=True\n",
        "print(f\"is_completed = {is_completed} & type of is_completed = {type(is_completed)}\")\n"
      ],
      "metadata": {
        "colab": {
          "base_uri": "https://localhost:8080/"
        },
        "id": "M3UPQ-Nc1Zyt",
        "outputId": "64d9f002-d69a-41d3-e91f-742e7114dbd7"
      },
      "execution_count": null,
      "outputs": [
        {
          "output_type": "stream",
          "name": "stdout",
          "text": [
            "age = 18 & type of age = (<class 'int'>)\n",
            "name = Tom & type of name = <class 'str'>\n",
            "cgpa = 4.55 & type of cgpa = <class 'float'>\n",
            "is_completed = True & type of is_completed = <class 'bool'>\n"
          ]
        }
      ]
    },
    {
      "cell_type": "markdown",
      "source": [
        "**Type Casting**\n",
        "Typecasting is the process of converting one data type to another.\n",
        "* python provides built-in functions for type casting.\n",
        "1. int(): converts to integer.\n",
        "2. float(): Converts to float.\n",
        "3. str(): converts to string.\n",
        "5. bool(): converts to bool.\n",
        "Changing one data type information to another.\n",
        "Some time we have to convert the string to integer. Like if we condition like if age>18 but if we got age in str like \"18\" the we have to convert it to int first."
      ],
      "metadata": {
        "id": "AZYOprVt3J8E"
      }
    },
    {
      "cell_type": "code",
      "source": [
        "a=34\n",
        "b=\"34\"\n",
        "d=457\n",
        "print(a)\n",
        "print(type(a))\n",
        "print(b)\n",
        "print(type(b))\n",
        "c=int(b) #this will convert the str b to the integer and store in c. Here we dont\n",
        "#change the type of be directly we change type of its and store in another vairalbe.\n",
        "print(type(c))\n",
        "e=str(d) #e is the string version of integer d.\n",
        "print(type(e))"
      ],
      "metadata": {
        "colab": {
          "base_uri": "https://localhost:8080/"
        },
        "id": "y8a-bymu1nu1",
        "outputId": "617c1a35-5251-46da-d1cc-8836ae0f96ad"
      },
      "execution_count": null,
      "outputs": [
        {
          "output_type": "stream",
          "name": "stdout",
          "text": [
            "34\n",
            "<class 'int'>\n",
            "34\n",
            "<class 'str'>\n",
            "<class 'int'>\n",
            "<class 'str'>\n"
          ]
        }
      ]
    },
    {
      "cell_type": "markdown",
      "source": [
        "**Taking User Inputs**\n",
        "* To take input from user we have to use built-in fuction called input() .\n",
        "* this input() function take user input from the keyboard\n",
        "* by Default, input() returns a string. You can convert it to other data types as needed.\n",
        "*note: when we use this input() it will take input in form of string by default.  \n",
        "*Note: while using input function we have to pass promt messege it's optional parameter but we must have to use it. So, user can get idea which data have to pass.\n"
      ],
      "metadata": {
        "id": "ClYm7FSa69HL"
      }
    },
    {
      "cell_type": "code",
      "source": [
        "a = input(\"Enter a Number\") # this will show message(prompt) on console and take input from user\n",
        "#store it in variable a.\n",
        "print(a)\n",
        "print(type(a))"
      ],
      "metadata": {
        "colab": {
          "base_uri": "https://localhost:8080/"
        },
        "id": "kK9-RBom7f2g",
        "outputId": "6b5e4337-6e4c-4dd6-a65a-cd008b1ec02c"
      },
      "execution_count": null,
      "outputs": [
        {
          "output_type": "stream",
          "name": "stdout",
          "text": [
            "Enter a Number57\n",
            "57\n",
            "<class 'str'>\n"
          ]
        }
      ]
    },
    {
      "cell_type": "code",
      "source": [
        "# #addition of two number\n",
        "# a = input(\"Enter first Number\")\n",
        "# a=int(a) #convert a to int version of a\n",
        "# print(a+3)\n",
        "\n",
        "a=int(input(\"Enter first Number : \"))\n",
        "b=int(input(\"Enter second Number : \"))\n",
        "print(a+b)\n"
      ],
      "metadata": {
        "colab": {
          "base_uri": "https://localhost:8080/"
        },
        "id": "b5dUNlAR9dfT",
        "outputId": "8a066ce7-9489-4f81-99e0-016a91375e4b"
      },
      "execution_count": null,
      "outputs": [
        {
          "output_type": "stream",
          "name": "stdout",
          "text": [
            "Enter first Number : 5\n",
            "Enter second Number : 10\n",
            "15\n"
          ]
        }
      ]
    },
    {
      "cell_type": "markdown",
      "source": [
        "# **Escape Sequences (start with (back slash)\\\\)**\n",
        "* Escape sequences are used to include special characters in strings.\n",
        "* common escape sequences.\n",
        "* '\\n' : Newline\n",
        "* '\\t' : tab\n",
        "* '\\ \\' : Backslash\n",
        "* '\\\"' : Double quote\n",
        "* '\\'' : Single quote"
      ],
      "metadata": {
        "id": "ZKbH8OtlAlrs"
      }
    },
    {
      "cell_type": "code",
      "source": [
        "print(\"1. Hey, How are you? \\n I am good \\\\newline\")\n",
        "print(\"2. Hello, \\\"world\\\"\")\n",
        "print('3. hey it\\'s me')"
      ],
      "metadata": {
        "colab": {
          "base_uri": "https://localhost:8080/"
        },
        "id": "5kABIU9PAlXW",
        "outputId": "fcf4e5f2-b0ac-40f4-8d66-7899c16343fe"
      },
      "execution_count": null,
      "outputs": [
        {
          "output_type": "stream",
          "name": "stdout",
          "text": [
            "1. Hey, How are you? \n",
            " I am good \\newline\n",
            "2. Hello, \"world\"\n",
            "3. hey it's me\n"
          ]
        }
      ]
    },
    {
      "cell_type": "markdown",
      "source": [
        "# ** Operators\n",
        "### **1. Arithmatic operators**\n",
        "* Arithmatic operators are  used to perform arithmatic opeartion likes.\n",
        "*  +(Addition), -(Subtraction), *(Multiplication), / (Division), % (Modulus), **(Expoenetiation), //(Floor Divison)\n",
        "* % (modulus) operator give an reminder after division\n",
        "* // (floor) this will perform floor divison opeation,  it retrun number without decimal point if number having.\n",
        "\n"
      ],
      "metadata": {
        "id": "kfU2mndiJ3Ta"
      }
    },
    {
      "cell_type": "code",
      "source": [
        "a = 34\n",
        "b = 2\n",
        "print('a + b = ', a + b)\n",
        "print('a - b =', a - b)\n",
        "print('a * b =', a * b)\n",
        "print('a / b =', a / b)\n",
        "print('a % b =', a % b)\n",
        "print('a ** b =', a ** b)\n",
        "print('a // b =', a // b)"
      ],
      "metadata": {
        "id": "yeQd3jOVJ2-K",
        "colab": {
          "base_uri": "https://localhost:8080/"
        },
        "outputId": "fd0defa5-fea8-4fc1-8a13-364198cbe503"
      },
      "execution_count": 1,
      "outputs": [
        {
          "output_type": "stream",
          "name": "stdout",
          "text": [
            "a + b =  36\n",
            "a - b = 32\n",
            "a * b = 68\n",
            "a / b = 17.0\n",
            "a % b = 0\n",
            "a ** b = 1156\n",
            "a // b = 17\n"
          ]
        }
      ]
    },
    {
      "cell_type": "markdown",
      "source": [
        "##2 Comparision Operator\n",
        "* comparision Operator always return boolan values i.e. True or False.\n",
        "* comparision operators are used to perform comparision between two values.\n",
        "* == (Equal), !=(Not Equal), >(Greater Than), <(Less Than), >=(Greater Than or Equal), <=(Less Than or Equal)\n",
        "* by using comaprision operators's / conditional operators we are ask question is it equal / or not? etc."
      ],
      "metadata": {
        "id": "RbbQglmonZOH"
      }
    },
    {
      "cell_type": "code",
      "source": [
        "print(\"a>b =\", {a>b})\n",
        "print(\"a<b =\", {a<b})\n",
        "print(\"a==b =\", {a==b})#is a equal to b\n",
        "print(\"a!=b =\", {a!=b})#is a is not equal to b\n",
        "print(\"a>=b =\", {a>=b})\n",
        "print(\"a<=b =\", {a<=b})"
      ],
      "metadata": {
        "id": "pPj8SbLhJv91",
        "colab": {
          "base_uri": "https://localhost:8080/"
        },
        "outputId": "27b1e9b1-430e-47e4-fa81-96dec93f129c"
      },
      "execution_count": 5,
      "outputs": [
        {
          "output_type": "stream",
          "name": "stdout",
          "text": [
            "a>b = {True}\n",
            "a<b = {False}\n",
            "a==b = {False}\n",
            "a!=b = {True}\n",
            "a>=b = {True}\n",
            "a<=b = {False}\n"
          ]
        }
      ]
    },
    {
      "cell_type": "markdown",
      "source": [
        "## 3. Logical Operators\n",
        "* Logical Operators are used to perform operation on boolean values, Logical operators basically helps us operate two booleans\n",
        "ex. if True and True is True etc.\n",
        "* **and** **or** **not** are the logical operators\n",
        "* In a case of **and** if both value is True then only it return True otherwise False.\n",
        "* In a Case of **or** if Both Values are Flase then only it return Flase otherwies it return True\n",
        "* In a case of **not** It retrun the opposite values If value is True then return False. If values if False then return True."
      ],
      "metadata": {
        "id": "0Ij5KETlp6Rg"
      }
    },
    {
      "cell_type": "code",
      "source": [
        "#and\n",
        "print('For and condition')\n",
        "print(True and True)\n",
        "print(True and False)\n",
        "print(False and True)\n",
        "print(False and False)\n",
        "#or\n",
        "print('For or Condition')\n",
        "print(True or True)\n",
        "print(True or False)\n",
        "print(False or True)\n",
        "print(False or False)\n",
        "#not\n",
        "print('For not Condition')\n",
        "print(not True)\n",
        "print(not False)\n",
        "\n"
      ],
      "metadata": {
        "colab": {
          "base_uri": "https://localhost:8080/"
        },
        "id": "-CKFdACgqsWZ",
        "outputId": "c3ce3581-a31a-4e10-c424-9d003dfab02d"
      },
      "execution_count": 9,
      "outputs": [
        {
          "output_type": "stream",
          "name": "stdout",
          "text": [
            "For and condition\n",
            "True\n",
            "False\n",
            "False\n",
            "False\n",
            "For or Condition\n",
            "True\n",
            "True\n",
            "True\n",
            "False\n",
            "For not Condition\n",
            "False\n",
            "True\n"
          ]
        }
      ]
    },
    {
      "cell_type": "markdown",
      "source": [
        "## 4. Assignment Operators:\n",
        "* Assignment Operators are used to assign value to variable.\n",
        "* **=**, **+=**, **-=**, **/=**, **%=**, ****=**, **//=**\n",
        "* += equal will add value to variable, similary, -= will subtract from variable, etc."
      ],
      "metadata": {
        "id": "F1KBsfSNs7EX"
      }
    },
    {
      "cell_type": "code",
      "source": [
        "a = 5\n",
        "print(a)\n",
        "a +=3\n",
        "print(a)\n",
        "a -=3\n",
        "print(a)\n",
        "a *=5\n",
        "print(a)\n",
        "a /=5\n",
        "print(a)\n",
        "a = 5\n",
        "a %=5\n",
        "print(a)\n",
        "a = 5\n",
        "a //=5\n",
        "print(a)\n"
      ],
      "metadata": {
        "colab": {
          "base_uri": "https://localhost:8080/"
        },
        "id": "uFCdCMLVuAKV",
        "outputId": "a5983cc7-fa45-41d5-bc06-36d9325b0cce"
      },
      "execution_count": 19,
      "outputs": [
        {
          "output_type": "stream",
          "name": "stdout",
          "text": [
            "5\n",
            "8\n",
            "5\n",
            "25\n",
            "5.0\n",
            "0\n",
            "1\n"
          ]
        }
      ]
    },
    {
      "cell_type": "markdown",
      "source": [
        "## 5. Membership Operators\n",
        "* **in**, **not in**"
      ],
      "metadata": {
        "id": "eoxN_dAaviaJ"
      }
    },
    {
      "cell_type": "markdown",
      "source": [
        "## 6. Membership Operators\n",
        "* **in**, **not in**\n"
      ],
      "metadata": {
        "id": "lqno0WtrvqvD"
      }
    },
    {
      "cell_type": "markdown",
      "source": [
        "# Identity Operators\n",
        "* **is**, **is not**\n"
      ],
      "metadata": {
        "id": "aV71PQkwv52F"
      }
    },
    {
      "cell_type": "markdown",
      "source": [
        "# Conditional/ Control Flow and Loops\n",
        "* **What are Conditional Statement?**\n",
        "* conditional statements allow you to execute code based on certain conditions.\n",
        "* Python uses if, elif, and else for decision-making\n",
        "## if Conditional Statements\n",
        "* **if** conditional statement is used when we have to execute the some block of code if only condition is True.\n",
        "*Sytnatx\n"
      ],
      "metadata": {
        "id": "TMVQng0IwWfQ"
      }
    },
    {
      "cell_type": "code",
      "source": [
        "age =5\n",
        "if age >= 18:\n",
        "  print(\"You Can Drive\")\n",
        "  print(\"Thank You\")\n",
        "print(\"End of Program\")"
      ],
      "metadata": {
        "colab": {
          "base_uri": "https://localhost:8080/"
        },
        "id": "k5_KMJjqwWHQ",
        "outputId": "416a7821-2d90-4564-c1d3-bd9af4f175a8"
      },
      "execution_count": 22,
      "outputs": [
        {
          "output_type": "stream",
          "name": "stdout",
          "text": [
            "End of Program\n"
          ]
        }
      ]
    },
    {
      "cell_type": "markdown",
      "source": [
        "### if-else statement\n",
        "* if-else statement is used when we have to check the two condtion at same time then we can use if-else, if condtion is True then if block will get execute otherwise else block will get exectue\n",
        "\n",
        "**Syntax**\n"
      ],
      "metadata": {
        "id": "_qhUovH4y_Mm"
      }
    },
    {
      "cell_type": "code",
      "source": [
        "age =int(input(\"Enter Age: \"))\n",
        "if age>=18:\n",
        "  print(\"You can Drive\")\n",
        "else:\n",
        "  print(f\"You can't Drive\")\n",
        "print(\"Program End here\")"
      ],
      "metadata": {
        "colab": {
          "base_uri": "https://localhost:8080/"
        },
        "id": "ie5G77qPzvMg",
        "outputId": "a94bf83a-3e0f-4a5a-8f44-a8905f92f4a6"
      },
      "execution_count": 27,
      "outputs": [
        {
          "output_type": "stream",
          "name": "stdout",
          "text": [
            "Enter Age: 78\n",
            "You can Drive\n",
            "Program End here\n"
          ]
        }
      ]
    },
    {
      "cell_type": "markdown",
      "source": [
        "## if-elif-else ladder\n",
        "* when we have more than two condition to check at same time then we can use if-elif-else lader, this lader work in  conjunction and in collaboration with each other.\n",
        "In this python iterpreter will check condition line by line if 1st condition is false then it will check 2nd then then third line by line if all the condition not meet then at the end we can use else then else block will get exectued.\n",
        "*syntax"
      ],
      "metadata": {
        "id": "a_6QXJQD1JLN"
      }
    },
    {
      "cell_type": "code",
      "source": [
        "age =(int(input(\"Enter Your age: \")))\n",
        "if (age>18):\n",
        "  print(\"You can Drive\")\n",
        "elif (age==18):\n",
        "  print(\"Lets schedule an Interview \")\n",
        "elif (age==0):\n",
        "  print(\"Your are just Born\")\n",
        "elif (age<0):\n",
        "  print(\"Please enter valid age\")\n",
        "else:\n",
        "  print(\"Sorry you cannot drive\")"
      ],
      "metadata": {
        "colab": {
          "base_uri": "https://localhost:8080/"
        },
        "id": "m4hzd7ph1iq3",
        "outputId": "ce00498f-f78b-4ea3-da90-5bd623d062a0"
      },
      "execution_count": 34,
      "outputs": [
        {
          "output_type": "stream",
          "name": "stdout",
          "text": [
            "Enter Your age: 18\n",
            "Lets schedule an Interview \n"
          ]
        }
      ]
    },
    {
      "cell_type": "markdown",
      "source": [
        "##Match case in python (Python 3.10+)\n",
        "**What is Match-Case?**\n",
        "* Match-case is a new feature introduced in Python 3.10 for pattern matching.\n",
        "* it simplifies complex conditional logic.\n",
        "* this is like the switch statement in java.\n",
        "* we can use default case as case _\n",
        "* we can pass the case in () if it complex statement.\n",
        "\n"
      ],
      "metadata": {
        "id": "pT4tvs0v399-"
      }
    },
    {
      "cell_type": "code",
      "source": [
        "'''\n",
        "Syntax\n",
        "match value:\n",
        "  case pattern1:\n",
        "    # Code to execute if value matches pattern 1\n",
        "  case pattern2:\n",
        "      # Code to execute if value matches pattern 2\n",
        "  case _:\n",
        "    # Default case (if no pattern match)\n",
        "\n",
        "'''\n",
        "\n",
        "a = int(input(\"Enter a number between 1 to 10: \"))\n",
        "match a:\n",
        "  case 1:\n",
        "    print(\"You won a Mobile\")\n",
        "  case 7:\n",
        "    print(\"You won the Camera\")\n",
        "  case 5:\n",
        "    print(\"You won the Cash prize of $100\")\n",
        "  case _:\n",
        "    print(\"Better Luck Next Time\")"
      ],
      "metadata": {
        "colab": {
          "base_uri": "https://localhost:8080/"
        },
        "id": "jj35T2UH4076",
        "outputId": "88af7eea-bf33-4527-b991-a58acfec246b"
      },
      "execution_count": 41,
      "outputs": [
        {
          "output_type": "stream",
          "name": "stdout",
          "text": [
            "Enter a number between 1 to 10: 25\n",
            "Better Luck Next Time\n"
          ]
        }
      ]
    },
    {
      "cell_type": "markdown",
      "source": [
        "##LOOPs in Python\n",
        "* Loops are used to execute code repeated time.\n",
        "* **What are for loops?**\n",
        "* For loops are used to iterate over sequence(e.g. list, string, range).\n",
        "* They execute a block of code repeatedly for each item in the sequence.\n",
        "* when we know the exact number of itration then we can use for loop\n",
        "* range() function goes from n to end-1."
      ],
      "metadata": {
        "id": "5sd2lTO-669m"
      }
    },
    {
      "cell_type": "code",
      "source": [
        "'''\n",
        "Syntax:\n",
        "for item in sequence:\n",
        "  # Code to execute for each item\n",
        "\n",
        "'''\n",
        "for i in range(1, 6): # range function goes from 1 to (6-1) ie. 5 in this\n",
        "  print(i)"
      ],
      "metadata": {
        "colab": {
          "base_uri": "https://localhost:8080/"
        },
        "id": "anOKMmCO8bcI",
        "outputId": "27e2626c-863a-4858-d99d-57544885183d"
      },
      "execution_count": 43,
      "outputs": [
        {
          "output_type": "stream",
          "name": "stdout",
          "text": [
            "1\n",
            "2\n",
            "3\n",
            "4\n",
            "5\n"
          ]
        }
      ]
    },
    {
      "cell_type": "markdown",
      "source": [
        "## While loop in python\n",
        "* While loops exectue a block of code as long as a condition is True.\n",
        "* They are useful when the number of iteration is not known in advance.\n",
        "* Working of while loop\n",
        "* first it will check the condition if it true then it enter in body execute the block of code until the condition is true."
      ],
      "metadata": {
        "id": "3X7bQd99BQLE"
      }
    },
    {
      "cell_type": "code",
      "source": [
        "\"\"\"\n",
        "Syntax:\n",
        "while condition:\n",
        "  # Code to execute while condition is True\n",
        "\n",
        "\"\"\"\n"
      ],
      "metadata": {
        "id": "Q40zUZHhBvcw"
      },
      "execution_count": null,
      "outputs": []
    },
    {
      "cell_type": "markdown",
      "source": [
        "* **Infinite Loops:**\n",
        "* Be careful to avoid infinite loops by ensuring the condition eventually become false."
      ],
      "metadata": {
        "id": "Uc2dGImRCB7o"
      }
    },
    {
      "cell_type": "code",
      "source": [
        "num = int(input(\"Enter a number: \"))\n",
        "while num>0:\n",
        "  print(num)\n",
        "  num=num-1\n",
        "\n",
        "print(\"While loop is executed \")"
      ],
      "metadata": {
        "colab": {
          "base_uri": "https://localhost:8080/"
        },
        "id": "ePzegWrfCZGI",
        "outputId": "6a504245-73ab-4191-dbf5-64dc3985e671"
      },
      "execution_count": 48,
      "outputs": [
        {
          "output_type": "stream",
          "name": "stdout",
          "text": [
            "Enter a number: 3\n",
            "3\n",
            "2\n",
            "1\n",
            "While loop is executed \n"
          ]
        }
      ]
    },
    {
      "cell_type": "markdown",
      "source": [
        "# Break, Continue, and Pass Statement\n",
        "* **Break**\n",
        "* The break statement is used to exit a loop prematurely.\n",
        "* The break statement is used when we want to stop the execution of loop when certain condition meets. As soon as condition is meets it stop the execution of loop. loop will die at the moment."
      ],
      "metadata": {
        "id": "Vk7TldM-FAxQ"
      }
    },
    {
      "cell_type": "code",
      "source": [
        "for i in range(1, 5):\n",
        "  if(i==3):\n",
        "    break # cancel the execution of this loop now.\n",
        "  print(i)"
      ],
      "metadata": {
        "colab": {
          "base_uri": "https://localhost:8080/"
        },
        "id": "l4T_O6g6FPhd",
        "outputId": "c2175dcc-3c2a-403f-f8d5-86a81e53a816"
      },
      "execution_count": 49,
      "outputs": [
        {
          "output_type": "stream",
          "name": "stdout",
          "text": [
            "1\n",
            "2\n"
          ]
        }
      ]
    },
    {
      "cell_type": "markdown",
      "source": [
        "* **Continue**\n",
        "* **The continue statement skips the rest of the code in the current iteration and moves to the next iteration.**\n",
        "* it won't allow to execute a code which is below the continue statement, for the current iteration it simple skip it and move controller to start to perform next iteration."
      ],
      "metadata": {
        "id": "bWeNGExPIMez"
      }
    },
    {
      "cell_type": "code",
      "source": [
        "for i in range(5):\n",
        "  if i == 2:\n",
        "    continue # continue the loop for the next iteration here itself\n",
        "  print(i)"
      ],
      "metadata": {
        "colab": {
          "base_uri": "https://localhost:8080/"
        },
        "id": "NYfDZjKDJYug",
        "outputId": "101e2653-217a-4599-f774-142a06b96f16"
      },
      "execution_count": 50,
      "outputs": [
        {
          "output_type": "stream",
          "name": "stdout",
          "text": [
            "0\n",
            "1\n",
            "3\n",
            "4\n"
          ]
        }
      ]
    },
    {
      "cell_type": "markdown",
      "source": [
        "* **Pass Statement**\n",
        "* The pass statement is a placeholder that does nothing. It is used to when syntax requires statement but no action is needed.\n",
        "* if we have nothing to write for now but wan't to update / write something there then  we can  use pass. which do nothing.\n",
        "* like Some time we declare the method but we don't complete them for now then we can use pass. so after some time we can update this method."
      ],
      "metadata": {
        "id": "U7D7WXKNK1KP"
      }
    },
    {
      "cell_type": "code",
      "source": [
        "for i in range(1, 5):\n",
        "  if i==2:\n",
        "    pass\n",
        "  print(i)"
      ],
      "metadata": {
        "colab": {
          "base_uri": "https://localhost:8080/"
        },
        "id": "IpttipNNMJKL",
        "outputId": "d79d590e-bc8c-4d5f-bb07-9cad0e6ee5f6"
      },
      "execution_count": 52,
      "outputs": [
        {
          "output_type": "stream",
          "name": "stdout",
          "text": [
            "1\n",
            "2\n",
            "3\n",
            "4\n"
          ]
        }
      ]
    },
    {
      "cell_type": "markdown",
      "source": [
        "* Control loop execution with break, continue, and pass."
      ],
      "metadata": {
        "id": "_uZbENNwNE_J"
      }
    }
  ]
}