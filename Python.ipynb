{
  "nbformat": 4,
  "nbformat_minor": 0,
  "metadata": {
    "colab": {
      "provenance": [],
      "authorship_tag": "ABX9TyNQC7dxLbC+5mYbIgNgrQW0",
      "include_colab_link": true
    },
    "kernelspec": {
      "name": "python3",
      "display_name": "Python 3"
    },
    "language_info": {
      "name": "python"
    }
  },
  "cells": [
    {
      "cell_type": "markdown",
      "metadata": {
        "id": "view-in-github",
        "colab_type": "text"
      },
      "source": [
        "<a href=\"https://colab.research.google.com/github/RyukThe/BBD-python-selenium-notebook/blob/master/Python.ipynb\" target=\"_parent\"><img src=\"https://colab.research.google.com/assets/colab-badge.svg\" alt=\"Open In Colab\"/></a>"
      ]
    },
    {
      "cell_type": "markdown",
      "source": [
        "Introduction to python\n",
        "What exactly is programming?\n",
        "Solving problem through code and turning idea into actionable instructions.\n",
        ""
      ],
      "metadata": {
        "id": "ZiKELesTdq8q"
      }
    },
    {
      "cell_type": "code",
      "source": [
        "print(\"Hello World!!\")"
      ],
      "metadata": {
        "colab": {
          "base_uri": "https://localhost:8080/"
        },
        "id": "I7_r_jGnlSN-",
        "outputId": "5aad1327-b2ac-419c-cd69-ae03345ac3bc"
      },
      "execution_count": 1,
      "outputs": [
        {
          "output_type": "stream",
          "name": "stdout",
          "text": [
            "Hello World!!\n"
          ]
        }
      ]
    },
    {
      "cell_type": "markdown",
      "source": [
        "**Understanding the syntax of python**\n",
        "print is function is python to print argument on console we have to pass the argument in parenthesis (). so it will appear on the consle.\n",
        "shortcut to open terminal in VS code is ctrl + ~\n",
        "to run the python file we have to use python filename.py"
      ],
      "metadata": {
        "id": "EhNPZfG2mGF3"
      }
    },
    {
      "cell_type": "code",
      "source": [
        "print(\"Hey I am Tom\")\n",
        "print(\"I am good\")\n",
        "print(\"How are you?\")"
      ],
      "metadata": {
        "colab": {
          "base_uri": "https://localhost:8080/"
        },
        "id": "hsfdKVGenibj",
        "outputId": "02a2b721-3863-4a71-8cc6-80ba1085643d"
      },
      "execution_count": 2,
      "outputs": [
        {
          "output_type": "stream",
          "name": "stdout",
          "text": [
            "Hey I am Tom\n",
            "I am good\n",
            "How are you?\n"
          ]
        }
      ]
    },
    {
      "cell_type": "markdown",
      "source": [
        "How python read the file?\n",
        "Python read the file top to bottom line by line and scan for any erro if it found it will show the line where error is occur execute the code.\n",
        "When syntax error occur then it won't execute any code it directly throw line number where syntax error is occour. show the error name. i.e. syntax error.\n",
        "\n",
        "**By default print() function create the new line after printing something on console**\n",
        "\n",
        "In python, indentation is very important because it way to know that programmer is in the block of code or not. So in python : represent the starting point of block and indentation show the point it is part of block.\n",
        "\n",
        "**Comment in Python**\n",
        "comment is way for programmers which instruct the Python interpreter that hey, ignore this line. # is use to add single line comment. If we want to create multiline comment in we have make use of three quotation mark either single or double."
      ],
      "metadata": {
        "id": "l_TWFycqpVUD"
      }
    },
    {
      "cell_type": "code",
      "source": [
        "#Single line comment\n",
        "\"\"\"Multiline comment\"\"\"\n",
        "'''Multiline comment'''"
      ],
      "metadata": {
        "id": "iRHkFAwusNRh"
      },
      "execution_count": null,
      "outputs": []
    },
    {
      "cell_type": "markdown",
      "source": [
        "**Variable and Datatype in Python**\n",
        "Variable is nothing but are container where data is store in memory location. So, by using the variable we can manipulate the data in program multiple time. Variable used fro information reusebility.\n",
        "variable is created when we assgin the value to that variable. then this value is store in memory location.\n",
        "\n",
        "variable_name=value_of_variable\n",
        "One variable can store one information at a time.\n",
        "in Variable we can store the integere, string, float types of values."
      ],
      "metadata": {
        "id": "53tMFagitwb-"
      }
    },
    {
      "cell_type": "code",
      "source": [
        "age=13 #integer\n",
        "name =\"Tom\" #string\n",
        "cgpa= 4.55 #float"
      ],
      "metadata": {
        "id": "mOFVS-gWvDDz"
      },
      "execution_count": 4,
      "outputs": []
    },
    {
      "cell_type": "markdown",
      "source": [
        "In python there are some rule which type of character variable can contain.\n",
        "**Python is dynamically typed language** which means we don't have to specify which data type a perticular variable contains.\n",
        "Python automatically looks at the value and figures out that type of value. like string, float or int.\n",
        "\n",
        "**Rules of defining a variable in python / naming a variable**\n",
        "1. Variable name must start with a letter (a-z, A-Z) or an underscore(_)\n",
        "2. They can contain letters, numbers, and underscores.\n",
        "3. Variable names are case-sensitive (age and Age are different).\n",
        "4. Avoid using python keywords.(e.g. if, for, while) as variable names.\n",
        "\n",
        "23age=2 #this is invalid because variable cannont start with a number.\n",
        "age=32 # is valid variable."
      ],
      "metadata": {
        "id": "iXQ0dtX9v8Wv"
      }
    },
    {
      "cell_type": "code",
      "source": [],
      "metadata": {
        "id": "euXUNCvGvEze"
      },
      "execution_count": null,
      "outputs": []
    }
  ]
}