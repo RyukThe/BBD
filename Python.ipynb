{
  "nbformat": 4,
  "nbformat_minor": 0,
  "metadata": {
    "colab": {
      "provenance": [],
      "authorship_tag": "ABX9TyOZDTdGHprUQ4n6tAMdu+er",
      "include_colab_link": true
    },
    "kernelspec": {
      "name": "python3",
      "display_name": "Python 3"
    },
    "language_info": {
      "name": "python"
    }
  },
  "cells": [
    {
      "cell_type": "markdown",
      "metadata": {
        "id": "view-in-github",
        "colab_type": "text"
      },
      "source": [
        "<a href=\"https://colab.research.google.com/github/RyukThe/BBD-python-selenium-notebook/blob/master/Python.ipynb\" target=\"_parent\"><img src=\"https://colab.research.google.com/assets/colab-badge.svg\" alt=\"Open In Colab\"/></a>"
      ]
    },
    {
      "cell_type": "markdown",
      "source": [
        "Introduction to python\n",
        "What exactly is programming?\n",
        "Solving problem through code and turning idea into actionable instructions.\n"
      ],
      "metadata": {
        "id": "ZiKELesTdq8q"
      }
    },
    {
      "cell_type": "code",
      "source": [
        "print(\"Hello World!!\")"
      ],
      "metadata": {
        "colab": {
          "base_uri": "https://localhost:8080/"
        },
        "id": "I7_r_jGnlSN-",
        "outputId": "5aad1327-b2ac-419c-cd69-ae03345ac3bc"
      },
      "execution_count": null,
      "outputs": [
        {
          "output_type": "stream",
          "name": "stdout",
          "text": [
            "Hello World!!\n"
          ]
        }
      ]
    },
    {
      "cell_type": "markdown",
      "source": [
        "**Understanding the syntax of python**\n",
        "##print() statement\n",
        "* The print() function is used to display output.\n",
        "print is function is python to print argument on console we have to pass the argument in parenthesis (). so it will appear on the consle.\n",
        "* In a print statement if we use , to give multiple string argument it automatically add space.\n",
        "i.e. print('hello','str')\n",
        "\n",
        "* **By default print() function create the new line after printing something on console**\n",
        "* we can change this default behavior of print statement for multiple string arguments in single print statment space to comma by using sep argument\\parameter i.e. sep=\",\"\n",
        "\n",
        "print(\"str1\", \"str2\", sep=\",\")\n",
        "\n",
        "* similary, we can change the behavior of print() function after printing somthing on consle it move cursor to new line. Because by defautl it have end value is \\n. we change this behavior using end parameter\\argument like\n",
        "print(\"hello\", end='')\n",
        "\n",
        "* shortcut to open terminal in VS code is ctrl + ~\n",
        "to run the python file we have to use python filename.py"
      ],
      "metadata": {
        "id": "EhNPZfG2mGF3"
      }
    },
    {
      "cell_type": "code",
      "source": [
        "print(\"Hey I am Tom\")\n",
        "print('Hellow world',\"Tom\",\"Shelby\")\n",
        "print(\"I am good\")\n",
        "print(\"How are you?\")\n",
        "\n",
        "# sep argument\n",
        "print(\"I am good\", \"How are you?\", sep=\",\")\n",
        "'''by default value of sep parameter is space'''\n",
        "# now it's add commam instade of\n",
        "#space i.e. default to comma we can pass any seprator like / or any\n",
        "# end argument\n",
        "print(\"hello\", end='')\n",
        "'''by default value of end parameter is \\n'''\n",
        "# it won't move cursor to newline\n",
        "print(\"world\")"
      ],
      "metadata": {
        "colab": {
          "base_uri": "https://localhost:8080/"
        },
        "id": "hsfdKVGenibj",
        "outputId": "66b002f8-c123-422b-9994-5bf3044e9efc"
      },
      "execution_count": null,
      "outputs": [
        {
          "output_type": "stream",
          "name": "stdout",
          "text": [
            "Hey I am Tom\n",
            "Hellow world Tom Shelby\n",
            "I am good\n",
            "How are you?\n",
            "I am good,How are you?\n",
            "helloworld\n"
          ]
        }
      ]
    },
    {
      "cell_type": "markdown",
      "source": [
        "###How python read the file?\n",
        "Python read the file top to bottom line by line and scan for any erro if it found it will show the line where error is occur execute the code.\n",
        "When syntax error occur then it won't execute any code it directly throw line number where syntax error is occour. show the error name. i.e. syntax error.\n",
        "\n",
        "\n",
        "In python, indentation is very important because it way to know that programmer is in the block of code or not. So in python : represent the starting point of block and indentation show the point it is part of block.\n",
        "\n",
        "# **Comment in Python**\n",
        "* Comment are used to explain code and ignore by the python interpreter.\n",
        "comment is way for programmers which instruct the Python interpreter that hey, ignore this line.\n",
        "* single line comment with #\n",
        "* Multiline comment are enclosed in ''' or \"\"\"\n"
      ],
      "metadata": {
        "id": "l_TWFycqpVUD"
      }
    },
    {
      "cell_type": "code",
      "source": [
        "#Single line comment\n",
        "\"\"\"Multiline comment\"\"\"\n",
        "'''Multiline comment'''"
      ],
      "metadata": {
        "id": "iRHkFAwusNRh"
      },
      "execution_count": null,
      "outputs": []
    },
    {
      "cell_type": "markdown",
      "source": [
        "#**Variable and Datatype in Python**\n",
        "Variable is nothing but are container where data is store in memory location. So, by using the variable we can manipulate the data in program multiple time. Variable used fro information reusebility.\n",
        "variable is created when we assgin the value to that variable. then this value is store in memory location.\n",
        "\n",
        "variable_name=value_of_variable\n",
        "One variable can store one information at a time.\n",
        "in Variable we can store the integere, string, float types of values."
      ],
      "metadata": {
        "id": "53tMFagitwb-"
      }
    },
    {
      "cell_type": "code",
      "source": [
        "age=13 #integer\n",
        "name =\"Tom\" #string\n",
        "cgpa= 4.55 #float"
      ],
      "metadata": {
        "id": "mOFVS-gWvDDz"
      },
      "execution_count": null,
      "outputs": []
    },
    {
      "cell_type": "markdown",
      "source": [
        "In python there are some rule which type of character variable can contain.\n",
        "**Python is dynamically typed language** which means we don't have to specify which data type a perticular variable contains.\n",
        "Python automatically looks at the value and figures out that type of value. like string, float or int.\n",
        "\n",
        "### **Rules of defining a variable in python / naming a variable**\n",
        "1. Variable name must start with a letter (a-z, A-Z) or an underscore(_)\n",
        "2. They can contain letters, numbers, and underscores.\n",
        "3. Variable names are case-sensitive (age and Age are different).\n",
        "4. Avoid using python keywords.(e.g. if, for, while) as variable names.\n",
        "\n",
        "23age=2 #this is invalid because variable cannont start with a number.\n",
        "\n",
        "age=32 # is valid variable.\n",
        "age$e=45# is invalid variable because variable can not contain the special symbol other than the _ (underscore)."
      ],
      "metadata": {
        "id": "iXQ0dtX9v8Wv"
      }
    },
    {
      "cell_type": "code",
      "source": [
        "_age=45 #valid variable\n",
        "__age__=45#valid variable\n",
        "a_b_c=45#Valid variable"
      ],
      "metadata": {
        "id": "euXUNCvGvEze"
      },
      "execution_count": null,
      "outputs": []
    },
    {
      "cell_type": "markdown",
      "source": [
        "python supports several built-in data types:\n",
        "**Inbuild Datatypes in python**\n",
        "1. integers (int): whole numbers (e.g. 10,-5)\n",
        "2. Floats (float): Decimal numbers (e.g. 3.14, -9.34)\n",
        "3. Strings (str): Text data enclosed in quotes. (e.g. 'hello', \"Hello\")\n",
        "4. Booleans (bool): Represents True or False.\n",
        "5. Lists: Order mutable collections (e.g. [1,2,'str',0.43])\n",
        "6. Tuples: Order immutable collections. (e.g. (1,34,\"str\",034.34)\n",
        "7. Sets: Unorder collections of unique element (e.g. {1,2,3})\n",
        "8. Dictionaries: key-value pairs (e.g. {{\"key\":\"value\", \"name\"=\"Alice\", \"age\"=34}).\n",
        "\n",
        "**type()** by using type function we can get to know what is type of variable is.\n",
        "\n"
      ],
      "metadata": {
        "id": "FtYqsQqxzAqg"
      }
    },
    {
      "cell_type": "code",
      "source": [
        "age=18\n",
        "print(f\"age = {age} & type of age = ({type(age)})\")\n",
        "name=\"Tom\"\n",
        "print(f\"name = {name} & type of name = {type(name)}\")\n",
        "cgpa=4.55\n",
        "print(f\"cgpa = {cgpa} & type of cgpa = {type(cgpa)}\")\n",
        "is_completed=True\n",
        "print(f\"is_completed = {is_completed} & type of is_completed = {type(is_completed)}\")\n"
      ],
      "metadata": {
        "colab": {
          "base_uri": "https://localhost:8080/"
        },
        "id": "M3UPQ-Nc1Zyt",
        "outputId": "64d9f002-d69a-41d3-e91f-742e7114dbd7"
      },
      "execution_count": null,
      "outputs": [
        {
          "output_type": "stream",
          "name": "stdout",
          "text": [
            "age = 18 & type of age = (<class 'int'>)\n",
            "name = Tom & type of name = <class 'str'>\n",
            "cgpa = 4.55 & type of cgpa = <class 'float'>\n",
            "is_completed = True & type of is_completed = <class 'bool'>\n"
          ]
        }
      ]
    },
    {
      "cell_type": "markdown",
      "source": [
        "**Type Casting**\n",
        "Typecasting is the process of converting one data type to another.\n",
        "* python provides built-in functions for type casting.\n",
        "1. int(): converts to integer.\n",
        "2. float(): Converts to float.\n",
        "3. str(): converts to string.\n",
        "5. bool(): converts to bool.\n",
        "Changing one data type information to another.\n",
        "Some time we have to convert the string to integer. Like if we condition like if age>18 but if we got age in str like \"18\" the we have to convert it to int first."
      ],
      "metadata": {
        "id": "AZYOprVt3J8E"
      }
    },
    {
      "cell_type": "code",
      "source": [
        "a=34\n",
        "b=\"34\"\n",
        "d=457\n",
        "print(a)\n",
        "print(type(a))\n",
        "print(b)\n",
        "print(type(b))\n",
        "c=int(b) #this will convert the str b to the integer and store in c. Here we dont\n",
        "#change the type of be directly we change type of its and store in another vairalbe.\n",
        "print(type(c))\n",
        "e=str(d) #e is the string version of integer d.\n",
        "print(type(e))"
      ],
      "metadata": {
        "colab": {
          "base_uri": "https://localhost:8080/"
        },
        "id": "y8a-bymu1nu1",
        "outputId": "617c1a35-5251-46da-d1cc-8836ae0f96ad"
      },
      "execution_count": null,
      "outputs": [
        {
          "output_type": "stream",
          "name": "stdout",
          "text": [
            "34\n",
            "<class 'int'>\n",
            "34\n",
            "<class 'str'>\n",
            "<class 'int'>\n",
            "<class 'str'>\n"
          ]
        }
      ]
    },
    {
      "cell_type": "markdown",
      "source": [
        "**Taking User Inputs**\n",
        "* To take input from user we have to use built-in fuction called input() .\n",
        "* this input() function take user input from the keyboard\n",
        "* by Default, input() returns a string. You can convert it to other data types as needed.\n",
        "*note: when we use this input() it will take input in form of string by default.  \n",
        "*Note: while using input function we have to pass promt messege it's optional parameter but we must have to use it. So, user can get idea which data have to pass.\n"
      ],
      "metadata": {
        "id": "ClYm7FSa69HL"
      }
    },
    {
      "cell_type": "code",
      "source": [
        "a = input(\"Enter a Number\") # this will show message(prompt) on console and take input from user\n",
        "#store it in variable a.\n",
        "print(a)\n",
        "print(type(a))"
      ],
      "metadata": {
        "colab": {
          "base_uri": "https://localhost:8080/"
        },
        "id": "kK9-RBom7f2g",
        "outputId": "6b5e4337-6e4c-4dd6-a65a-cd008b1ec02c"
      },
      "execution_count": null,
      "outputs": [
        {
          "output_type": "stream",
          "name": "stdout",
          "text": [
            "Enter a Number57\n",
            "57\n",
            "<class 'str'>\n"
          ]
        }
      ]
    },
    {
      "cell_type": "code",
      "source": [
        "# #addition of two number\n",
        "# a = input(\"Enter first Number\")\n",
        "# a=int(a) #convert a to int version of a\n",
        "# print(a+3)\n",
        "\n",
        "a=int(input(\"Enter first Number : \"))\n",
        "b=int(input(\"Enter second Number : \"))\n",
        "print(a+b)\n"
      ],
      "metadata": {
        "colab": {
          "base_uri": "https://localhost:8080/"
        },
        "id": "b5dUNlAR9dfT",
        "outputId": "8a066ce7-9489-4f81-99e0-016a91375e4b"
      },
      "execution_count": null,
      "outputs": [
        {
          "output_type": "stream",
          "name": "stdout",
          "text": [
            "Enter first Number : 5\n",
            "Enter second Number : 10\n",
            "15\n"
          ]
        }
      ]
    },
    {
      "cell_type": "markdown",
      "source": [
        "# **Escape Sequences (start with (back slash)\\\\)**\n",
        "* Escape sequences are used to include special characters in strings.\n",
        "* common escape sequences.\n",
        "* '\\n' : Newline\n",
        "* '\\t' : tab\n",
        "* '\\ \\' : Backslash\n",
        "* '\\\"' : Double quote\n",
        "* '\\'' : Single quote"
      ],
      "metadata": {
        "id": "ZKbH8OtlAlrs"
      }
    },
    {
      "cell_type": "code",
      "source": [
        "print(\"1. Hey, How are you? \\n I am good \\\\newline\")\n",
        "print(\"2. Hello, \\\"world\\\"\")\n",
        "print('3. hey it\\'s me')"
      ],
      "metadata": {
        "colab": {
          "base_uri": "https://localhost:8080/"
        },
        "id": "5kABIU9PAlXW",
        "outputId": "fcf4e5f2-b0ac-40f4-8d66-7899c16343fe"
      },
      "execution_count": null,
      "outputs": [
        {
          "output_type": "stream",
          "name": "stdout",
          "text": [
            "1. Hey, How are you? \n",
            " I am good \\newline\n",
            "2. Hello, \"world\"\n",
            "3. hey it's me\n"
          ]
        }
      ]
    },
    {
      "cell_type": "markdown",
      "source": [
        "# **Operators**\n",
        "### **1. Arithmatic operators**\n",
        "* Arithmatic operators are  used to perform arithmatic opeartion likes.\n",
        "*  +(Addition), -(Subtraction), *(Multiplication), / (Division), % (Modulus), **(Expoenetiation), //(Floor Divison)\n",
        "* % (modulus) operator give an reminder after division\n",
        "* // (floor) this will perform floor divison opeation,  it retrun number without decimal point if number having.\n",
        "\n"
      ],
      "metadata": {
        "id": "kfU2mndiJ3Ta"
      }
    },
    {
      "cell_type": "code",
      "source": [
        "a = 34\n",
        "b = 2\n",
        "print('a + b = ', a + b)\n",
        "print('a - b =', a - b)\n",
        "print('a * b =', a * b)\n",
        "print('a / b =', a / b)\n",
        "print('a % b =', a % b)\n",
        "print('a ** b =', a ** b)\n",
        "print('a // b =', a // b)"
      ],
      "metadata": {
        "id": "yeQd3jOVJ2-K",
        "colab": {
          "base_uri": "https://localhost:8080/"
        },
        "outputId": "fd0defa5-fea8-4fc1-8a13-364198cbe503"
      },
      "execution_count": null,
      "outputs": [
        {
          "output_type": "stream",
          "name": "stdout",
          "text": [
            "a + b =  36\n",
            "a - b = 32\n",
            "a * b = 68\n",
            "a / b = 17.0\n",
            "a % b = 0\n",
            "a ** b = 1156\n",
            "a // b = 17\n"
          ]
        }
      ]
    },
    {
      "cell_type": "markdown",
      "source": [
        "##2 Comparision Operator\n",
        "* comparision Operator always return boolan values i.e. True or False.\n",
        "* comparision operators are used to perform comparision between two values.\n",
        "* == (Equal), !=(Not Equal), >(Greater Than), <(Less Than), >=(Greater Than or Equal), <=(Less Than or Equal)\n",
        "* by using comaprision operators's / conditional operators we are ask question is it equal / or not? etc."
      ],
      "metadata": {
        "id": "RbbQglmonZOH"
      }
    },
    {
      "cell_type": "code",
      "source": [
        "print(\"a>b =\", {a>b})\n",
        "print(\"a<b =\", {a<b})\n",
        "print(\"a==b =\", {a==b})#is a equal to b\n",
        "print(\"a!=b =\", {a!=b})#is a is not equal to b\n",
        "print(\"a>=b =\", {a>=b})\n",
        "print(\"a<=b =\", {a<=b})"
      ],
      "metadata": {
        "id": "pPj8SbLhJv91",
        "colab": {
          "base_uri": "https://localhost:8080/"
        },
        "outputId": "27b1e9b1-430e-47e4-fa81-96dec93f129c"
      },
      "execution_count": null,
      "outputs": [
        {
          "output_type": "stream",
          "name": "stdout",
          "text": [
            "a>b = {True}\n",
            "a<b = {False}\n",
            "a==b = {False}\n",
            "a!=b = {True}\n",
            "a>=b = {True}\n",
            "a<=b = {False}\n"
          ]
        }
      ]
    },
    {
      "cell_type": "markdown",
      "source": [
        "## 3. Logical Operators\n",
        "* Logical Operators are used to perform operation on boolean values, Logical operators basically helps us operate two booleans\n",
        "ex. if True and True is True etc.\n",
        "* **and** **or** **not** are the logical operators\n",
        "* In a case of **and** if both value is True then only it return True otherwise False.\n",
        "* In a Case of **or** if Both Values are Flase then only it return Flase otherwies it return True\n",
        "* In a case of **not** It retrun the opposite values If value is True then return False. If values if False then return True."
      ],
      "metadata": {
        "id": "0Ij5KETlp6Rg"
      }
    },
    {
      "cell_type": "code",
      "source": [
        "#and\n",
        "print('For and condition')\n",
        "print(True and True)\n",
        "print(True and False)\n",
        "print(False and True)\n",
        "print(False and False)\n",
        "#or\n",
        "print('For or Condition')\n",
        "print(True or True)\n",
        "print(True or False)\n",
        "print(False or True)\n",
        "print(False or False)\n",
        "#not\n",
        "print('For not Condition')\n",
        "print(not True)\n",
        "print(not False)\n",
        "\n"
      ],
      "metadata": {
        "colab": {
          "base_uri": "https://localhost:8080/"
        },
        "id": "-CKFdACgqsWZ",
        "outputId": "c3ce3581-a31a-4e10-c424-9d003dfab02d"
      },
      "execution_count": null,
      "outputs": [
        {
          "output_type": "stream",
          "name": "stdout",
          "text": [
            "For and condition\n",
            "True\n",
            "False\n",
            "False\n",
            "False\n",
            "For or Condition\n",
            "True\n",
            "True\n",
            "True\n",
            "False\n",
            "For not Condition\n",
            "False\n",
            "True\n"
          ]
        }
      ]
    },
    {
      "cell_type": "markdown",
      "source": [
        "## 4. Assignment Operators:\n",
        "* Assignment Operators are used to assign value to variable.\n",
        "* **=**, **+=**, **-=**, **/=**, **%=**, ****=**, **//=**\n",
        "* += equal will add value to variable, similary, -= will subtract from variable, etc."
      ],
      "metadata": {
        "id": "F1KBsfSNs7EX"
      }
    },
    {
      "cell_type": "code",
      "source": [
        "a = 5\n",
        "print(a)\n",
        "a +=3\n",
        "print(a)\n",
        "a -=3\n",
        "print(a)\n",
        "a *=5\n",
        "print(a)\n",
        "a /=5\n",
        "print(a)\n",
        "a = 5\n",
        "a %=5\n",
        "print(a)\n",
        "a = 5\n",
        "a //=5\n",
        "print(a)\n"
      ],
      "metadata": {
        "colab": {
          "base_uri": "https://localhost:8080/"
        },
        "id": "uFCdCMLVuAKV",
        "outputId": "a5983cc7-fa45-41d5-bc06-36d9325b0cce"
      },
      "execution_count": null,
      "outputs": [
        {
          "output_type": "stream",
          "name": "stdout",
          "text": [
            "5\n",
            "8\n",
            "5\n",
            "25\n",
            "5.0\n",
            "0\n",
            "1\n"
          ]
        }
      ]
    },
    {
      "cell_type": "markdown",
      "source": [
        "## 5. Membership Operators\n",
        "* **in**, **not in**"
      ],
      "metadata": {
        "id": "eoxN_dAaviaJ"
      }
    },
    {
      "cell_type": "markdown",
      "source": [
        "#6 Identity Operators\n",
        "* **is**, **is not**\n"
      ],
      "metadata": {
        "id": "aV71PQkwv52F"
      }
    },
    {
      "cell_type": "markdown",
      "source": [
        "# Conditional/ Control Flow and Loops\n",
        "* **What are Conditional Statement?**\n",
        "* conditional statements allow you to execute code based on certain conditions.\n",
        "* Python uses if, elif, and else for decision-making\n",
        "## if Conditional Statements\n",
        "* **if** conditional statement is used when we have to execute the some block of code if only condition is True.\n",
        "*Sytnatx\n"
      ],
      "metadata": {
        "id": "TMVQng0IwWfQ"
      }
    },
    {
      "cell_type": "code",
      "source": [
        "age =5\n",
        "if age >= 18:\n",
        "  print(\"You Can Drive\")\n",
        "  print(\"Thank You\")\n",
        "print(\"End of Program\")"
      ],
      "metadata": {
        "colab": {
          "base_uri": "https://localhost:8080/"
        },
        "id": "k5_KMJjqwWHQ",
        "outputId": "416a7821-2d90-4564-c1d3-bd9af4f175a8"
      },
      "execution_count": null,
      "outputs": [
        {
          "output_type": "stream",
          "name": "stdout",
          "text": [
            "End of Program\n"
          ]
        }
      ]
    },
    {
      "cell_type": "markdown",
      "source": [
        "### if-else statement\n",
        "* if-else statement is used when we have to check the two condtion at same time then we can use if-else, if condtion is True then if block will get execute otherwise else block will get exectue\n",
        "\n",
        "**Syntax**\n"
      ],
      "metadata": {
        "id": "_qhUovH4y_Mm"
      }
    },
    {
      "cell_type": "code",
      "source": [
        "age =int(input(\"Enter Age: \"))\n",
        "if age>=18:\n",
        "  print(\"You can Drive\")\n",
        "else:\n",
        "  print(f\"You can't Drive\")\n",
        "print(\"Program End here\")"
      ],
      "metadata": {
        "colab": {
          "base_uri": "https://localhost:8080/"
        },
        "id": "ie5G77qPzvMg",
        "outputId": "a94bf83a-3e0f-4a5a-8f44-a8905f92f4a6"
      },
      "execution_count": null,
      "outputs": [
        {
          "output_type": "stream",
          "name": "stdout",
          "text": [
            "Enter Age: 78\n",
            "You can Drive\n",
            "Program End here\n"
          ]
        }
      ]
    },
    {
      "cell_type": "markdown",
      "source": [
        "## if-elif-else ladder\n",
        "* when we have more than two condition to check at same time then we can use if-elif-else lader, this lader work in  conjunction and in collaboration with each other.\n",
        "In this python iterpreter will check condition line by line if 1st condition is false then it will check 2nd then then third line by line if all the condition not meet then at the end we can use else then else block will get exectued.\n",
        "*syntax"
      ],
      "metadata": {
        "id": "a_6QXJQD1JLN"
      }
    },
    {
      "cell_type": "code",
      "source": [
        "age =(int(input(\"Enter Your age: \")))\n",
        "if (age>18):\n",
        "  print(\"You can Drive\")\n",
        "elif (age==18):\n",
        "  print(\"Lets schedule an Interview \")\n",
        "elif (age==0):\n",
        "  print(\"Your are just Born\")\n",
        "elif (age<0):\n",
        "  print(\"Please enter valid age\")\n",
        "else:\n",
        "  print(\"Sorry you cannot drive\")"
      ],
      "metadata": {
        "colab": {
          "base_uri": "https://localhost:8080/"
        },
        "id": "m4hzd7ph1iq3",
        "outputId": "ce00498f-f78b-4ea3-da90-5bd623d062a0"
      },
      "execution_count": null,
      "outputs": [
        {
          "output_type": "stream",
          "name": "stdout",
          "text": [
            "Enter Your age: 18\n",
            "Lets schedule an Interview \n"
          ]
        }
      ]
    },
    {
      "cell_type": "markdown",
      "source": [
        "##Match case in python (Python 3.10+)\n",
        "**What is Match-Case?**\n",
        "* Match-case is a new feature introduced in Python 3.10 for pattern matching.\n",
        "* it simplifies complex conditional logic.\n",
        "* this is like the switch statement in java.\n",
        "* we can use default case as case _\n",
        "* we can pass the case in () if it complex statement.\n",
        "\n"
      ],
      "metadata": {
        "id": "pT4tvs0v399-"
      }
    },
    {
      "cell_type": "code",
      "source": [
        "'''\n",
        "Syntax\n",
        "match value:\n",
        "  case pattern1:\n",
        "    # Code to execute if value matches pattern 1\n",
        "  case pattern2:\n",
        "      # Code to execute if value matches pattern 2\n",
        "  case _:\n",
        "    # Default case (if no pattern match)\n",
        "\n",
        "'''\n",
        "\n",
        "a = int(input(\"Enter a number between 1 to 10: \"))\n",
        "match a:\n",
        "  case 1:\n",
        "    print(\"You won a Mobile\")\n",
        "  case 7:\n",
        "    print(\"You won the Camera\")\n",
        "  case 5:\n",
        "    print(\"You won the Cash prize of $100\")\n",
        "  case _:\n",
        "    print(\"Better Luck Next Time\")"
      ],
      "metadata": {
        "colab": {
          "base_uri": "https://localhost:8080/"
        },
        "id": "jj35T2UH4076",
        "outputId": "88af7eea-bf33-4527-b991-a58acfec246b"
      },
      "execution_count": null,
      "outputs": [
        {
          "output_type": "stream",
          "name": "stdout",
          "text": [
            "Enter a number between 1 to 10: 25\n",
            "Better Luck Next Time\n"
          ]
        }
      ]
    },
    {
      "cell_type": "markdown",
      "source": [
        "##LOOPs in Python\n",
        "* Loops are used to execute code repeated time.\n",
        "* **What are for loops?**\n",
        "* For loops are used to iterate over sequence(e.g. list, string, range).\n",
        "* They execute a block of code repeatedly for each item in the sequence.\n",
        "* when we know the exact number of itration then we can use for loop\n",
        "* range() function goes from n to end-1."
      ],
      "metadata": {
        "id": "5sd2lTO-669m"
      }
    },
    {
      "cell_type": "code",
      "source": [
        "'''\n",
        "Syntax:\n",
        "for item in sequence:\n",
        "  # Code to execute for each item\n",
        "\n",
        "'''\n",
        "for i in range(1, 6): # range function goes from 1 to (6-1) ie. 5 in this\n",
        "  print(i)"
      ],
      "metadata": {
        "colab": {
          "base_uri": "https://localhost:8080/"
        },
        "id": "anOKMmCO8bcI",
        "outputId": "27e2626c-863a-4858-d99d-57544885183d"
      },
      "execution_count": null,
      "outputs": [
        {
          "output_type": "stream",
          "name": "stdout",
          "text": [
            "1\n",
            "2\n",
            "3\n",
            "4\n",
            "5\n"
          ]
        }
      ]
    },
    {
      "cell_type": "markdown",
      "source": [
        "## While loop in python\n",
        "* While loops exectue a block of code as long as a condition is True.\n",
        "* They are useful when the number of iteration is not known in advance.\n",
        "* Working of while loop\n",
        "* first it will check the condition if it true then it enter in body execute the block of code until the condition is true."
      ],
      "metadata": {
        "id": "3X7bQd99BQLE"
      }
    },
    {
      "cell_type": "code",
      "source": [
        "\"\"\"\n",
        "Syntax:\n",
        "while condition:\n",
        "  # Code to execute while condition is True\n",
        "\n",
        "\"\"\"\n"
      ],
      "metadata": {
        "id": "Q40zUZHhBvcw"
      },
      "execution_count": null,
      "outputs": []
    },
    {
      "cell_type": "markdown",
      "source": [
        "* **Infinite Loops:**\n",
        "* Be careful to avoid infinite loops by ensuring the condition eventually become false."
      ],
      "metadata": {
        "id": "Uc2dGImRCB7o"
      }
    },
    {
      "cell_type": "code",
      "source": [
        "num = int(input(\"Enter a number: \"))\n",
        "while num>0:\n",
        "  print(num)\n",
        "  num=num-1\n",
        "\n",
        "print(\"While loop is executed \")"
      ],
      "metadata": {
        "colab": {
          "base_uri": "https://localhost:8080/"
        },
        "id": "ePzegWrfCZGI",
        "outputId": "6a504245-73ab-4191-dbf5-64dc3985e671"
      },
      "execution_count": null,
      "outputs": [
        {
          "output_type": "stream",
          "name": "stdout",
          "text": [
            "Enter a number: 3\n",
            "3\n",
            "2\n",
            "1\n",
            "While loop is executed \n"
          ]
        }
      ]
    },
    {
      "cell_type": "markdown",
      "source": [
        "# Break, Continue, and Pass Statement\n",
        "* **Break**\n",
        "* The break statement is used to exit a loop prematurely.\n",
        "* The break statement is used when we want to stop the execution of loop when certain condition meets. As soon as condition is meets it stop the execution of loop. loop will die at the moment."
      ],
      "metadata": {
        "id": "Vk7TldM-FAxQ"
      }
    },
    {
      "cell_type": "code",
      "source": [
        "for i in range(1, 5):\n",
        "  if(i==3):\n",
        "    break # cancel the execution of this loop now.\n",
        "  print(i)"
      ],
      "metadata": {
        "colab": {
          "base_uri": "https://localhost:8080/"
        },
        "id": "l4T_O6g6FPhd",
        "outputId": "c2175dcc-3c2a-403f-f8d5-86a81e53a816"
      },
      "execution_count": null,
      "outputs": [
        {
          "output_type": "stream",
          "name": "stdout",
          "text": [
            "1\n",
            "2\n"
          ]
        }
      ]
    },
    {
      "cell_type": "markdown",
      "source": [
        "* **Continue**\n",
        "* **The continue statement skips the rest of the code in the current iteration and moves to the next iteration.**\n",
        "* it won't allow to execute a code which is below the continue statement, for the current iteration it simple skip it and move controller to start to perform next iteration."
      ],
      "metadata": {
        "id": "bWeNGExPIMez"
      }
    },
    {
      "cell_type": "code",
      "source": [
        "for i in range(5):\n",
        "  if i == 2:\n",
        "    continue # continue the loop for the next iteration here itself\n",
        "  print(i)"
      ],
      "metadata": {
        "colab": {
          "base_uri": "https://localhost:8080/"
        },
        "id": "NYfDZjKDJYug",
        "outputId": "101e2653-217a-4599-f774-142a06b96f16"
      },
      "execution_count": null,
      "outputs": [
        {
          "output_type": "stream",
          "name": "stdout",
          "text": [
            "0\n",
            "1\n",
            "3\n",
            "4\n"
          ]
        }
      ]
    },
    {
      "cell_type": "markdown",
      "source": [
        "* **Pass Statement**\n",
        "* The pass statement is a placeholder that does nothing. It is used to when syntax requires statement but no action is needed.\n",
        "* if we have nothing to write for now but wan't to update / write something there then  we can  use pass. which do nothing.\n",
        "* like Some time we declare the method but we don't complete them for now then we can use pass. so after some time we can update this method."
      ],
      "metadata": {
        "id": "U7D7WXKNK1KP"
      }
    },
    {
      "cell_type": "code",
      "source": [
        "for i in range(1, 5):\n",
        "  if i==2:\n",
        "    pass\n",
        "  print(i)"
      ],
      "metadata": {
        "colab": {
          "base_uri": "https://localhost:8080/"
        },
        "id": "IpttipNNMJKL",
        "outputId": "d79d590e-bc8c-4d5f-bb07-9cad0e6ee5f6"
      },
      "execution_count": null,
      "outputs": [
        {
          "output_type": "stream",
          "name": "stdout",
          "text": [
            "1\n",
            "2\n",
            "3\n",
            "4\n"
          ]
        }
      ]
    },
    {
      "cell_type": "markdown",
      "source": [
        "* Control loop execution with break, continue, and pass."
      ],
      "metadata": {
        "id": "_uZbENNwNE_J"
      }
    },
    {
      "cell_type": "markdown",
      "source": [
        "#String\n",
        "**Introduction**\n",
        "* strings are one of the most fundamental data types in Python. A string is a sequence of characters enclosed withing either singl quotes('), dubole quotes(\"), for triple quotes (''' or \"\"\").\n",
        "* **Creating String**\n",
        "You can create strings in python using different type of quotes\n",
        "\n"
      ],
      "metadata": {
        "id": "bY-4Qeooy8D9"
      }
    },
    {
      "cell_type": "markdown",
      "source": [
        "## Single-quoted string\n",
        "\n"
      ],
      "metadata": {
        "id": "LqEVrCMzzgvp"
      }
    },
    {
      "cell_type": "code",
      "source": [
        "a ='Hello, Python!'"
      ],
      "metadata": {
        "id": "hNJjyYBYzqqp"
      },
      "execution_count": null,
      "outputs": []
    },
    {
      "cell_type": "markdown",
      "source": [
        "### Double-quoted String\n"
      ],
      "metadata": {
        "id": "tBfU7uC3z8MB"
      }
    },
    {
      "cell_type": "code",
      "source": [
        "b =\"Hello, World!\""
      ],
      "metadata": {
        "id": "rNR9qN6o0CI0"
      },
      "execution_count": null,
      "outputs": []
    },
    {
      "cell_type": "markdown",
      "source": [
        "* **Note:** By using single quotes or double quotes if we try to create multiline string then it's not allowed in python."
      ],
      "metadata": {
        "id": "Rj7H7Lm-0mea"
      }
    },
    {
      "cell_type": "markdown",
      "source": [
        "## Triple-quoted string (useful for multi-line strings)\n",
        "By using triple quotes we can write formated string also.\n"
      ],
      "metadata": {
        "id": "ZHeznaOe0F2H"
      }
    },
    {
      "cell_type": "code",
      "source": [
        "c = '''This\n",
        " is multiline  String'''\n",
        "\n",
        "d = \"\"\"This is\n",
        "multiline\n",
        " String\"\n"
      ],
      "metadata": {
        "id": "wKS44jI10Ohl"
      },
      "execution_count": null,
      "outputs": []
    },
    {
      "cell_type": "markdown",
      "source": [
        "## String Indexing in python\n",
        "* Each character in a string has an index. And string indexes are starts with 0.\n",
        "* In pythn we can fetch the characters using negative indexes also so we can get character for end / last like -1 means last character.\n",
        "* to handel with negative index /  we can get positive index by using negative_index + length_of_string\n",
        "I.e. name[-1+2]"
      ],
      "metadata": {
        "id": "8CygU9St0coA"
      }
    },
    {
      "cell_type": "code",
      "source": [
        "\"\"\"\n",
        "T     o   m\n",
        "0     1   2\n",
        "-3    -2  -1\n",
        "\"\"\"\n",
        "name = \"Tom\"\n",
        "print(name[0])\n",
        "print(name[-1])\n"
      ],
      "metadata": {
        "colab": {
          "base_uri": "https://localhost:8080/"
        },
        "id": "tx0AlEFG1QC5",
        "outputId": "a76b39cc-2e36-403d-b7cd-e622f3c5bd39"
      },
      "execution_count": null,
      "outputs": [
        {
          "output_type": "stream",
          "name": "stdout",
          "text": [
            "T\n",
            "m\n"
          ]
        }
      ]
    },
    {
      "cell_type": "markdown",
      "source": [
        "**Note:** If we try to get value which is greater than it's index then it throw error\n"
      ],
      "metadata": {
        "id": "UiJM0PRk3lrQ"
      }
    },
    {
      "cell_type": "code",
      "source": [
        "name = 'Tom'\n",
        "print(name[4])\n"
      ],
      "metadata": {
        "colab": {
          "base_uri": "https://localhost:8080/",
          "height": 159
        },
        "id": "xrzJEZtg3m9V",
        "outputId": "4e26905f-fe20-4008-8cd6-44f68136328f"
      },
      "execution_count": null,
      "outputs": [
        {
          "output_type": "error",
          "ename": "IndexError",
          "evalue": "string index out of range",
          "traceback": [
            "\u001b[0;31m---------------------------------------------------------------------------\u001b[0m",
            "\u001b[0;31mIndexError\u001b[0m                                Traceback (most recent call last)",
            "\u001b[0;32m<ipython-input-2-e3f1055b70ad>\u001b[0m in \u001b[0;36m<cell line: 0>\u001b[0;34m()\u001b[0m\n\u001b[1;32m      1\u001b[0m \u001b[0mname\u001b[0m \u001b[0;34m=\u001b[0m \u001b[0;34m'Tom'\u001b[0m\u001b[0;34m\u001b[0m\u001b[0;34m\u001b[0m\u001b[0m\n\u001b[0;32m----> 2\u001b[0;31m \u001b[0mprint\u001b[0m\u001b[0;34m(\u001b[0m\u001b[0mname\u001b[0m\u001b[0;34m[\u001b[0m\u001b[0;36m4\u001b[0m\u001b[0;34m]\u001b[0m\u001b[0;34m)\u001b[0m\u001b[0;34m\u001b[0m\u001b[0;34m\u001b[0m\u001b[0m\n\u001b[0m",
            "\u001b[0;31mIndexError\u001b[0m: string index out of range"
          ]
        }
      ]
    },
    {
      "cell_type": "markdown",
      "source": [
        "## String Slicing\n",
        "* You can extract parts of a string using slicing. we can get sub string\n",
        "by using string_obj[start_index + end_index+1]\n"
      ],
      "metadata": {
        "id": "I4GH_bhO6pQZ"
      }
    },
    {
      "cell_type": "code",
      "source": [
        "text = \"hello, Python!\"\n",
        "print(text[0:5]) #Hello\n",
        "print(text[7:13]) #Python\n",
        "print(text[7:]) #Replace the second empty number with length i.e. still end\n",
        "print(text[:4]) # Replace the first empty number with 0. from start to 3 which\n",
        "print(text[2:-3]) # from 2 to  [-3+13] =10 i.e. [2 : 10]\n"
      ],
      "metadata": {
        "colab": {
          "base_uri": "https://localhost:8080/"
        },
        "id": "NWwok46I6o3-",
        "outputId": "2d4e1a0c-94a8-4f6a-ef52-ba6bf8587875"
      },
      "execution_count": null,
      "outputs": [
        {
          "output_type": "stream",
          "name": "stdout",
          "text": [
            "hello\n",
            "Python\n",
            "Python!\n",
            "hell\n",
            "llo, Pyth\n"
          ]
        }
      ]
    },
    {
      "cell_type": "markdown",
      "source": [
        "* text = [:4] means Replace the first empty number with 0. which similar to [0:4]. So it will get character from start to 3 index.\n",
        "* text = [1:] means Replace the second empty number with length. so it will get character from 1 to still end."
      ],
      "metadata": {
        "id": "9L1YOuQLAqLv"
      }
    },
    {
      "cell_type": "markdown",
      "source": [
        "* slcing using three [0:10:n] means it will start with 0 and end on 9th index and skip n-1 character."
      ],
      "metadata": {
        "id": "dij9GiaQ8zko"
      }
    },
    {
      "cell_type": "code",
      "source": [
        "name = \"0123456789\"\n",
        "print(name[0:5:2]) # as we use skipping number 2 i.e. 2-1=1 so it will 1 character\n",
        "#from selected string"
      ],
      "metadata": {
        "colab": {
          "base_uri": "https://localhost:8080/"
        },
        "id": "Qw-ZDB-x_ILu",
        "outputId": "2b4c5ebc-e925-42db-f4d0-bec1ae2167b2"
      },
      "execution_count": null,
      "outputs": [
        {
          "output_type": "stream",
          "name": "stdout",
          "text": [
            "024\n"
          ]
        }
      ]
    },
    {
      "cell_type": "markdown",
      "source": [
        "## String Methods and functions\n",
        "* Python provides several built-in mehtods to manipulate string.\n",
        "* **Strings are immutable in nature** means we can't make any changes into original string value in memory. Whenever we try to make any changes then it will made in new object of string and update and make changes in that.\n",
        "* We assign the new value to str_variable, we can use this String to create new string but we can't make changes in actual string after declare once.  \n",
        "* When we use any string method then actual string value is never, this method create new string obj in memory."
      ],
      "metadata": {
        "id": "hqPK3ysaCGVc"
      }
    },
    {
      "cell_type": "code",
      "source": [
        "name = \"Tom\"\n",
        "name[0]=\"R\" #this is not possible in string"
      ],
      "metadata": {
        "colab": {
          "base_uri": "https://localhost:8080/",
          "height": 159
        },
        "id": "LrzhwLznC-eS",
        "outputId": "be947881-d087-488c-9e2c-05916ba7ccc5"
      },
      "execution_count": null,
      "outputs": [
        {
          "output_type": "error",
          "ename": "TypeError",
          "evalue": "'str' object does not support item assignment",
          "traceback": [
            "\u001b[0;31m---------------------------------------------------------------------------\u001b[0m",
            "\u001b[0;31mTypeError\u001b[0m                                 Traceback (most recent call last)",
            "\u001b[0;32m<ipython-input-22-0c1938bcdff8>\u001b[0m in \u001b[0;36m<cell line: 0>\u001b[0;34m()\u001b[0m\n\u001b[1;32m      1\u001b[0m \u001b[0mname\u001b[0m \u001b[0;34m=\u001b[0m \u001b[0;34m\"Tom\"\u001b[0m\u001b[0;34m\u001b[0m\u001b[0;34m\u001b[0m\u001b[0m\n\u001b[0;32m----> 2\u001b[0;31m \u001b[0mname\u001b[0m\u001b[0;34m[\u001b[0m\u001b[0;36m0\u001b[0m\u001b[0;34m]\u001b[0m\u001b[0;34m=\u001b[0m\u001b[0;34m\"R\"\u001b[0m\u001b[0;34m\u001b[0m\u001b[0;34m\u001b[0m\u001b[0m\n\u001b[0m",
            "\u001b[0;31mTypeError\u001b[0m: 'str' object does not support item assignment"
          ]
        }
      ]
    },
    {
      "cell_type": "markdown",
      "source": [
        "1. **leng(obj)**\n",
        "* this method return the number of character in string i.e. length of string"
      ],
      "metadata": {
        "id": "vp15oB_oEaQF"
      }
    },
    {
      "cell_type": "code",
      "source": [
        "name = \"Tom\"\n",
        "a = len(name)\n",
        "print(\"Type of a is \", type(a))\n",
        "print(a)"
      ],
      "metadata": {
        "colab": {
          "base_uri": "https://localhost:8080/"
        },
        "id": "yeD4MmcdEvW1",
        "outputId": "e9d99947-e827-4f20-a97d-a30420848105"
      },
      "execution_count": null,
      "outputs": [
        {
          "output_type": "stream",
          "name": "stdout",
          "text": [
            "Type of a is  <class 'int'>\n",
            "3\n"
          ]
        }
      ]
    },
    {
      "cell_type": "markdown",
      "source": [
        "2. upper()\n",
        "* This method will return the given string into upper string.\n",
        "* **Note:** does not make any changes in atcual string it will create new string."
      ],
      "metadata": {
        "id": "UScSV6YDFvvU"
      }
    },
    {
      "cell_type": "code",
      "source": [
        "print(name.upper())\n",
        "print(name)"
      ],
      "metadata": {
        "colab": {
          "base_uri": "https://localhost:8080/"
        },
        "id": "8wO22UdfGJK1",
        "outputId": "b84e2b1c-345b-477b-950e-551991e655f7"
      },
      "execution_count": null,
      "outputs": [
        {
          "output_type": "stream",
          "name": "stdout",
          "text": [
            "TOM\n",
            "Tom\n"
          ]
        }
      ]
    },
    {
      "cell_type": "markdown",
      "source": [
        "3. lower()\n",
        "* This method will return the given string into lower case character.\n"
      ],
      "metadata": {
        "id": "fDGyIEqOGtcs"
      }
    },
    {
      "cell_type": "code",
      "source": [
        "name = \"TOM\"\n",
        "print(name.lower())"
      ],
      "metadata": {
        "colab": {
          "base_uri": "https://localhost:8080/"
        },
        "id": "OzC3hETlG7ZC",
        "outputId": "736d5099-089e-4311-fe41-160ac995ec50"
      },
      "execution_count": null,
      "outputs": [
        {
          "output_type": "stream",
          "name": "stdout",
          "text": [
            "tom\n"
          ]
        }
      ]
    },
    {
      "cell_type": "markdown",
      "source": [
        "4. capitalize()\n",
        "* This method will convert only first letter of string into Upper case."
      ],
      "metadata": {
        "id": "sV7PODqeHEyu"
      }
    },
    {
      "cell_type": "code",
      "source": [
        "name='''hello\n",
        "kumar\n",
        "don'''\n",
        "print(name.capitalize())"
      ],
      "metadata": {
        "colab": {
          "base_uri": "https://localhost:8080/"
        },
        "id": "-QDgJi9CHD9k",
        "outputId": "04204c6a-9ecb-42d5-fee5-0a7a50b2343c"
      },
      "execution_count": null,
      "outputs": [
        {
          "output_type": "stream",
          "name": "stdout",
          "text": [
            "Hello \n",
            "kumar\n",
            "don\n"
          ]
        }
      ]
    },
    {
      "cell_type": "markdown",
      "source": [
        "5. title()\n",
        "* this method will convert the first letter of each word to the upper case.\n"
      ],
      "metadata": {
        "id": "sJV2U0ZBHraw"
      }
    },
    {
      "cell_type": "code",
      "source": [
        "name=\"bunny money home, honey\"\n",
        "print(name.title())"
      ],
      "metadata": {
        "colab": {
          "base_uri": "https://localhost:8080/"
        },
        "id": "qHAvU-fUHyWN",
        "outputId": "7b4d34c8-badc-4140-b2a4-12009ba48174"
      },
      "execution_count": null,
      "outputs": [
        {
          "output_type": "stream",
          "name": "stdout",
          "text": [
            "Bunny Money Home, Honey\n"
          ]
        }
      ]
    },
    {
      "cell_type": "markdown",
      "source": [
        "6. strip()\n",
        "* this method will remove white spaces and new line from start and end i.e left and right."
      ],
      "metadata": {
        "id": "1w7c-QR5IErc"
      }
    },
    {
      "cell_type": "code",
      "source": [
        "name= \"\\n   Hello kumar   \\n\"\n",
        "print(name.strip())"
      ],
      "metadata": {
        "colab": {
          "base_uri": "https://localhost:8080/"
        },
        "id": "fUbeuGlrIOSa",
        "outputId": "8b7c346b-b900-4afa-8600-7f94f9e55956"
      },
      "execution_count": null,
      "outputs": [
        {
          "output_type": "stream",
          "name": "stdout",
          "text": [
            "Hello kumar\n"
          ]
        }
      ]
    },
    {
      "cell_type": "markdown",
      "source": [],
      "metadata": {
        "id": "p1aIwUyRJVcI"
      }
    },
    {
      "cell_type": "markdown",
      "source": [
        "7. lstrip()\n",
        "* This method will remove the white spaces and new line from left only."
      ],
      "metadata": {
        "id": "MZfkY9w0Imme"
      }
    },
    {
      "cell_type": "code",
      "source": [
        "name=\"\\n   Hello world     \\n\"\n",
        "print(name.lstrip())"
      ],
      "metadata": {
        "colab": {
          "base_uri": "https://localhost:8080/"
        },
        "id": "2IyqvbaDIx9j",
        "outputId": "3a4e6efd-cdce-465c-958c-4f7806c8ac21"
      },
      "execution_count": null,
      "outputs": [
        {
          "output_type": "stream",
          "name": "stdout",
          "text": [
            "Hello world     \n",
            "\n"
          ]
        }
      ]
    },
    {
      "cell_type": "code",
      "source": [],
      "metadata": {
        "id": "5mkms0PGJ0ix"
      },
      "execution_count": null,
      "outputs": []
    },
    {
      "cell_type": "markdown",
      "source": [
        "8. rstrip()\n",
        "* This method will remove the withe spaces and new line from only right.\n"
      ],
      "metadata": {
        "id": "j8vlJi9ZI8Rt"
      }
    },
    {
      "cell_type": "code",
      "source": [
        "name=\"\\n    Hello World      \\n\"\n",
        "print(name.rstrip())"
      ],
      "metadata": {
        "colab": {
          "base_uri": "https://localhost:8080/"
        },
        "id": "3sDtGTQdJD3U",
        "outputId": "d5d84747-fa01-4e20-e616-c62bbae52b4e"
      },
      "execution_count": null,
      "outputs": [
        {
          "output_type": "stream",
          "name": "stdout",
          "text": [
            "\n",
            "    Hello World\n"
          ]
        }
      ]
    },
    {
      "cell_type": "markdown",
      "source": [
        "9. find()\n",
        "* This method will index number of character where character is occurs first.\n"
      ],
      "metadata": {
        "id": "Ee0uaGEIJ8LC"
      }
    },
    {
      "cell_type": "code",
      "source": [
        "text = \"Python is fun\"\n",
        "print(text.find('is'))"
      ],
      "metadata": {
        "colab": {
          "base_uri": "https://localhost:8080/"
        },
        "id": "OmzHugyQKLXG",
        "outputId": "7d5dbbaf-e50e-4471-e6e3-e9083d4ad01e"
      },
      "execution_count": null,
      "outputs": [
        {
          "output_type": "stream",
          "name": "stdout",
          "text": [
            "7\n"
          ]
        }
      ]
    },
    {
      "cell_type": "markdown",
      "source": [
        "10. replace(value_to_replce, new_value)\n",
        "* This method will replace the particular characters in given string with new character on all the occurences.\n"
      ],
      "metadata": {
        "id": "bD0oRE3NKhiE"
      }
    },
    {
      "cell_type": "code",
      "source": [
        "text = \"Python is fun, Java is fun\"\n",
        "print(text.replace('fun', 'awesome'))"
      ],
      "metadata": {
        "colab": {
          "base_uri": "https://localhost:8080/"
        },
        "id": "PKptvbLSK56N",
        "outputId": "3f71ab13-6d90-479e-db60-cc56330f3756"
      },
      "execution_count": null,
      "outputs": [
        {
          "output_type": "stream",
          "name": "stdout",
          "text": [
            "Python is awesome, Java is awesome\n"
          ]
        }
      ]
    },
    {
      "cell_type": "markdown",
      "source": [
        "11. split(charcter)\n",
        "* This method will split the given string into list of string just we have to specify from which character we have to split. We have to pass the delimiter."
      ],
      "metadata": {
        "id": "tlQLk9SQLuqy"
      }
    },
    {
      "cell_type": "code",
      "source": [
        "text= \"Apple, Mango, Banana\"\n",
        "print(text.split(','))"
      ],
      "metadata": {
        "colab": {
          "base_uri": "https://localhost:8080/"
        },
        "id": "bqH4wV01MN0w",
        "outputId": "b732f32f-dcd0-46e4-a883-fccb28022716"
      },
      "execution_count": null,
      "outputs": [
        {
          "output_type": "stream",
          "name": "stdout",
          "text": [
            "['Apple', ' Mango', ' Banana']\n"
          ]
        }
      ]
    },
    {
      "cell_type": "markdown",
      "source": [
        "12. join(iterable)\n",
        "* By using join we can convert/join the iterable like list into string."
      ],
      "metadata": {
        "id": "KSLGVWoiOdS8"
      }
    },
    {
      "cell_type": "code",
      "source": [
        "'''\n",
        "Syntax\n",
        "string.join(iterable)\n",
        "\n",
        "'''\n",
        "print(\",\".join(['Apple', 'Mango', 'Banana']))\n"
      ],
      "metadata": {
        "colab": {
          "base_uri": "https://localhost:8080/"
        },
        "id": "Y7zjGG6iOc_y",
        "outputId": "96af3d6a-c2a0-4928-e2ac-e166ab674f3e"
      },
      "execution_count": null,
      "outputs": [
        {
          "output_type": "stream",
          "name": "stdout",
          "text": [
            "Apple,Mango,Banana\n"
          ]
        }
      ]
    },
    {
      "cell_type": "markdown",
      "source": [
        "## Checking String property\n",
        "13. isalpha()\n",
        "* This method will check that all the characters in givin string is alphabest or not. return bool values.\n",
        "* If string containing any number or space of special character then it return false."
      ],
      "metadata": {
        "id": "9zsmE8AePdX5"
      }
    },
    {
      "cell_type": "code",
      "source": [
        "text = \"Hello\"\n",
        "print(text.isalpha())\n",
        "text = \"Hello123\"\n",
        "print(text.isalpha())"
      ],
      "metadata": {
        "colab": {
          "base_uri": "https://localhost:8080/"
        },
        "id": "-TmJ9W4mP3g1",
        "outputId": "3c0d7faa-ebe3-420e-f92a-1493e4077c2f"
      },
      "execution_count": null,
      "outputs": [
        {
          "output_type": "stream",
          "name": "stdout",
          "text": [
            "True\n",
            "False\n"
          ]
        }
      ]
    },
    {
      "cell_type": "markdown",
      "source": [
        "14. isdigi()\n",
        "* This method will check that givn string is having only digit or not. return the bool values."
      ],
      "metadata": {
        "id": "ToixSxZBQSxI"
      }
    },
    {
      "cell_type": "code",
      "source": [
        "text='12345'\n",
        "print(text.isdigit())\n",
        "text='12345abc'\n",
        "print(text.isdigit())"
      ],
      "metadata": {
        "colab": {
          "base_uri": "https://localhost:8080/"
        },
        "id": "D8ZdI-DXQeVv",
        "outputId": "7ffae4dd-537a-4b70-90c4-1ab752cd5ecb"
      },
      "execution_count": null,
      "outputs": [
        {
          "output_type": "stream",
          "name": "stdout",
          "text": [
            "True\n",
            "False\n"
          ]
        }
      ]
    },
    {
      "cell_type": "markdown",
      "source": [
        "15. isalnum()\n",
        "* This method will check that given string contain  alphanumberic(alphabets, number and combination of both) values or not.\n",
        "* This method will return false if given string contain value other than alphanumeric like space or any special character."
      ],
      "metadata": {
        "id": "ebNQutxUQt4P"
      }
    },
    {
      "cell_type": "code",
      "source": [
        "text=\"abc\"\n",
        "print(text.isalnum())\n",
        "text= \"1245\"\n",
        "print(text.isalnum())\n",
        "text= \"1245abc\"\n",
        "print(text.isalnum())"
      ],
      "metadata": {
        "colab": {
          "base_uri": "https://localhost:8080/"
        },
        "id": "yFPU9eDHQteY",
        "outputId": "67be95d4-e870-49bf-fc1e-9b36919f6e24"
      },
      "execution_count": null,
      "outputs": [
        {
          "output_type": "stream",
          "name": "stdout",
          "text": [
            "False\n",
            "True\n",
            "True\n"
          ]
        }
      ]
    },
    {
      "cell_type": "markdown",
      "source": [
        "16. isspace()\n",
        "* This method will check that given string having only space character's  or not."
      ],
      "metadata": {
        "id": "HFZDNZmkRt5H"
      }
    },
    {
      "cell_type": "code",
      "source": [
        "text = \"   \"\n",
        "print(text.isspace())\n",
        "text = \" Hello \"\n",
        "print(text.isspace())"
      ],
      "metadata": {
        "colab": {
          "base_uri": "https://localhost:8080/"
        },
        "id": "8L4Bndt4R2_6",
        "outputId": "35758189-68e2-4c27-cc9a-7752710cee1b"
      },
      "execution_count": null,
      "outputs": [
        {
          "output_type": "stream",
          "name": "stdout",
          "text": [
            "True\n",
            "False\n"
          ]
        }
      ]
    },
    {
      "cell_type": "markdown",
      "source": [
        "## f-string / string formatting\n",
        "* String formatting is a powerful feature in Python that allows you to insert variable and expression into strings in a structured way. Python provides multiple ways to format strings, including the older .format() method and the modern f-string.\n",
        "\n",
        "1. Using .format() method\n",
        "* The .format() method allows inserting values into placeholders {}. this is use before the 3.6 version of python"
      ],
      "metadata": {
        "id": "nmeQ4_-rSfi7"
      }
    },
    {
      "cell_type": "code",
      "source": [
        "print(\"{1} is learning {0}\".format(\"Python\", \"Tom\"))\n",
        "print(\"{name} is  {age} years old\".format(name=\"Tom\", age=25))"
      ],
      "metadata": {
        "colab": {
          "base_uri": "https://localhost:8080/"
        },
        "id": "hp0LZm3ITmLJ",
        "outputId": "d1e0bdd7-3141-44c6-b5af-dbaf13c072ec"
      },
      "execution_count": null,
      "outputs": [
        {
          "output_type": "stream",
          "name": "stdout",
          "text": [
            "Tom is learning Python\n",
            "Tom is  25 years old\n"
          ]
        }
      ]
    },
    {
      "cell_type": "markdown",
      "source": [
        "2. **f-string**\n",
        "* Introduced in Python 3.6, f-strings are the most concise and readble way to format strings.\n",
        "* we can, directly put variable in f-string.\n"
      ],
      "metadata": {
        "id": "VgCyVq9FUZAr"
      }
    },
    {
      "cell_type": "code",
      "source": [
        "name= \"Tom\"\n",
        "age= 25\n",
        "print(f\"{name} is {age} years old\")"
      ],
      "metadata": {
        "colab": {
          "base_uri": "https://localhost:8080/"
        },
        "id": "pKUzhF5sUzfE",
        "outputId": "d61934c0-a837-4670-88de-e2f5aaef4b0f"
      },
      "execution_count": null,
      "outputs": [
        {
          "output_type": "stream",
          "name": "stdout",
          "text": [
            "Tom is 25 years old\n"
          ]
        }
      ]
    },
    {
      "cell_type": "markdown",
      "source": [
        "* Using Expressions in f-String\n",
        "you can perform calulations directly inside f-string:\n"
      ],
      "metadata": {
        "id": "Fs_wU6PYYw2f"
      }
    },
    {
      "cell_type": "code",
      "source": [
        "x = 10\n",
        "y = 20\n",
        "print(f\"The sum of {x} and {y} is {x + y}\")"
      ],
      "metadata": {
        "colab": {
          "base_uri": "https://localhost:8080/"
        },
        "id": "Y66EsSe6Y8_j",
        "outputId": "c6c1e792-8cbe-4e7f-d4ae-0d24dd997cf7"
      },
      "execution_count": null,
      "outputs": [
        {
          "output_type": "stream",
          "name": "stdout",
          "text": [
            "The sum of 10 and 20 is 30\n"
          ]
        }
      ]
    },
    {
      "cell_type": "markdown",
      "source": [
        "Formatting Numbers"
      ],
      "metadata": {
        "id": "sXWfNcwuZH1u"
      }
    },
    {
      "cell_type": "code",
      "source": [
        "pi = 3.14159265\n",
        "print(f\"Pi rounded to 2 decimal places : {pi:.2f}\")"
      ],
      "metadata": {
        "colab": {
          "base_uri": "https://localhost:8080/"
        },
        "id": "p_K5NyrVZJ6K",
        "outputId": "64436bb8-0076-42be-ba25-2c9ab24a36bf"
      },
      "execution_count": null,
      "outputs": [
        {
          "output_type": "stream",
          "name": "stdout",
          "text": [
            "Pi rounded to 2 decimal places : 3.14\n"
          ]
        }
      ]
    },
    {
      "cell_type": "markdown",
      "source": [
        "Padding and Alignment\n"
      ],
      "metadata": {
        "id": "X-qKDPZtZcDL"
      }
    },
    {
      "cell_type": "code",
      "source": [
        "text = \"Python\"\n",
        "print(f\"{text:>10}\")  # Right-aligned with 10 spaces\n",
        "print(f\"{text:<10}\")  # Left-aligned with 10 spaces\n",
        "print(f\"{text:^10}\")  # Center-aligned with 10 spaces"
      ],
      "metadata": {
        "colab": {
          "base_uri": "https://localhost:8080/"
        },
        "id": "Kdl2WvxbZkoV",
        "outputId": "0595cee2-ea05-47ff-942a-d79be85e7126"
      },
      "execution_count": null,
      "outputs": [
        {
          "output_type": "stream",
          "name": "stdout",
          "text": [
            "    Python\n",
            "Python    \n",
            "  Python  \n"
          ]
        }
      ]
    },
    {
      "cell_type": "markdown",
      "source": [
        "17. ord()\n",
        "* This method which return the ASCII value of character. We have to pass the character. this method will return the ASCII value in number."
      ],
      "metadata": {
        "id": "VSwiqlKkWp3j"
      }
    },
    {
      "cell_type": "code",
      "source": [
        "print(ord('A'))"
      ],
      "metadata": {
        "colab": {
          "base_uri": "https://localhost:8080/"
        },
        "id": "qptZsNg9Wz-p",
        "outputId": "c7318d32-7b61-4124-c569-b3f194db5bd6"
      },
      "execution_count": null,
      "outputs": [
        {
          "output_type": "stream",
          "name": "stdout",
          "text": [
            "65\n"
          ]
        }
      ]
    },
    {
      "cell_type": "markdown",
      "source": [
        "18. chr()\n",
        "* The method will return the character present on that perticular ASCII value. We have to pass the number then this method will return the character present on that number.  "
      ],
      "metadata": {
        "id": "KolKMwLsW5G5"
      }
    },
    {
      "cell_type": "code",
      "source": [
        "print(chr(65))"
      ],
      "metadata": {
        "colab": {
          "base_uri": "https://localhost:8080/"
        },
        "id": "OAp6RWJ0XBv-",
        "outputId": "b8e4a9f9-fbd6-46c6-dab0-32dbb15c6e19"
      },
      "execution_count": null,
      "outputs": [
        {
          "output_type": "stream",
          "name": "stdout",
          "text": [
            "A\n"
          ]
        }
      ]
    },
    {
      "cell_type": "markdown",
      "source": [
        "## **Important Note**\n",
        "* **Escape Sequences:** Use \\n, \\t, \\', and \\\\ to handle special characters in strings.\n",
        "* Raw Strings : Use r\"string\" to prevent sequence in interpretation.\n",
        "* String Encoding & Decoding: Use .encode() and .decode() to work with different text encodings.\n",
        "* String immutability: Strings in Python are immutable, meaning they cannot be change after creation.\n",
        "* Performance Consideration: Using ''.join('list_of_strings) is more efficient than concatenation in loop.\n",
        "## Summry\n",
        "* .format() allows inserting values into placeholders.\n",
        "* f-strings provide an intuitive and readable way to format strings.\n",
        "* f-string support expression, calculations, and formatting options.\n",
        "* Python provides various string methods for modification and analysis.\n",
        "* Case conversion, trimming, finding, replacing, splitting and joinning are commonly used.\n",
        "* Functions like len(), ord(), and chr() are useful for working with string properties."
      ],
      "metadata": {
        "id": "Vbr-xuGIYZNA"
      }
    },
    {
      "cell_type": "markdown",
      "source": [
        "#Functions and Modules\n",
        "Functions helps to perform certain operation, it make code reusable and readable, maintainable.\n",
        "1. Defining functions in Python\n",
        "* functions help in resuability and modularity in python.\n",
        "\n",
        "**Key Points:**\n",
        "* Define using def keyword\n",
        "* function name should be be meaningful and follow the same rules of naming variable.\n",
        "* Use return to send a value back."
      ],
      "metadata": {
        "id": "Wws2uUa35klr"
      }
    },
    {
      "cell_type": "code",
      "source": [
        "def greet(name):\n",
        "  return f\"Hello, {name}!\"\n",
        "print(greet(\"Alice\"))"
      ],
      "metadata": {
        "colab": {
          "base_uri": "https://localhost:8080/"
        },
        "id": "UFV8PgJH6Vaf",
        "outputId": "bff8ea62-0e89-487d-ce66-c006764c89fa"
      },
      "execution_count": null,
      "outputs": [
        {
          "output_type": "stream",
          "name": "stdout",
          "text": [
            "Hello, Alice!\n"
          ]
        }
      ]
    },
    {
      "cell_type": "markdown",
      "source": [
        "2. Function Arguments & Return Values\n",
        "* Functions can take parameters and return values.\n",
        "\n",
        "**Note**: If method is not returning anything then we get none.\n",
        "\n",
        "**Types of Arguments:**\n",
        "  1. Positional Arguments\n"
      ],
      "metadata": {
        "id": "3ok8TGy77Bv8"
      }
    },
    {
      "cell_type": "code",
      "source": [
        "def add(a,b): #a,b are paramters\n",
        "  return a + b\n",
        "result=add(5,3) #5,3 are the arguments.\n",
        "print(result)\n",
        "\n",
        "def sub(a,b):\n",
        "  print(a-b)\n",
        "\n",
        "result=sub(5,3)\n",
        "print(result)"
      ],
      "metadata": {
        "colab": {
          "base_uri": "https://localhost:8080/"
        },
        "id": "qSX-ipZC7Qh9",
        "outputId": "4a1fb00c-b6e5-4cdc-8e2f-7b6a6959c811"
      },
      "execution_count": null,
      "outputs": [
        {
          "output_type": "stream",
          "name": "stdout",
          "text": [
            "8\n",
            "2\n",
            "None\n"
          ]
        }
      ]
    },
    {
      "cell_type": "markdown",
      "source": [
        " 2. Default Arguments\n",
        " * This are optional arguments and it's optional.\n",
        " * if we Assgin the value as n default argument, while calling a method if we pass the value for this default argument then then the default or previous value will get overide  when we are calling otherwise it remain same.\n",
        " * we have to palce the default Arguments after the positional argumeent."
      ],
      "metadata": {
        "id": "t0jcS3x_8odA"
      }
    },
    {
      "cell_type": "code",
      "source": [
        "def greet(name=\"Guest\"):\n",
        "  return f\"Hello, {name}!\"\n",
        "print(greet())\n",
        "\n",
        "def add(a,b=5):\n",
        "  return a+b\n",
        "print(add(5))\n",
        "print(add(5,10)) #here value of b is overide to 5 to 10\n",
        "print(add(4))"
      ],
      "metadata": {
        "colab": {
          "base_uri": "https://localhost:8080/"
        },
        "id": "a0deet-M8zqH",
        "outputId": "f52833e7-25fc-4144-f17b-1bfbdd6bda3e"
      },
      "execution_count": null,
      "outputs": [
        {
          "output_type": "stream",
          "name": "stdout",
          "text": [
            "Hello, Guest!\n",
            "10\n",
            "15\n",
            "9\n"
          ]
        }
      ]
    },
    {
      "cell_type": "markdown",
      "source": [
        " 3. Keyword Arguments\n",
        " * When we have to change the occurance / order then we have to use this keyword arguments, but arguments must match with parameter."
      ],
      "metadata": {
        "id": "okMP5bRw9IhY"
      }
    },
    {
      "cell_type": "code",
      "source": [
        "def student(name, age):\n",
        "  print(f\"Name: {name}, Age: {age}\")\n",
        "student(age=20, name=\"Alice\") #keyword assgin the value to argument"
      ],
      "metadata": {
        "colab": {
          "base_uri": "https://localhost:8080/"
        },
        "id": "I9LIA4bI9LcS",
        "outputId": "09c5e4ac-c531-4e92-bee8-01284ee775d0"
      },
      "execution_count": null,
      "outputs": [
        {
          "output_type": "stream",
          "name": "stdout",
          "text": [
            "Name: Alice, Age: 20\n"
          ]
        }
      ]
    },
    {
      "cell_type": "markdown",
      "source": [
        "3. Lambda Functions\n",
        "* Lambda functions are anonymous, inline(one line) functions.\n",
        "* lambda function is declare using the lambda keyword.\n",
        "\n",
        "**Syntax**\n",
        "method_name= lambda paramter: code\n",
        "* this method return the value\n",
        "\n",
        "* lambda function is used to create one liner function. Or When we have to pass function to function the we can use lambda function."
      ],
      "metadata": {
        "id": "PqZG8EQBF3ll"
      }
    },
    {
      "cell_type": "code",
      "source": [
        "square=lambda x: x*x\n",
        "#methodname=lambda paramter: code\n",
        "print(square(5))\n",
        "sq=square(4)\n",
        "print(sq)\n",
        "\n",
        "#lambda function with two argument\n",
        "add=lambda x,y: x+y\n",
        "print(add(5,3))\n"
      ],
      "metadata": {
        "colab": {
          "base_uri": "https://localhost:8080/"
        },
        "id": "TU_0K34xGNWx",
        "outputId": "83947f07-59d7-4fa3-ff71-79357e4ecd1d"
      },
      "execution_count": null,
      "outputs": [
        {
          "output_type": "stream",
          "name": "stdout",
          "text": [
            "25\n",
            "16\n",
            "8\n"
          ]
        }
      ]
    },
    {
      "cell_type": "markdown",
      "source": [
        "4. Recursion in Python\n",
        "A recursion is occur when a function calling itself to solve a problem.\n",
        "* Whenver we have a formula of a function in the form of itself, we use resursion.\n",
        "\n",
        "**Note:** While using the recursion\n",
        "1. **Must have a base case to avoid infinte resurion.** If we don't use base case then loop will go into infinite loop.\n",
        "* Used in alorithms like Fibonacci, Tree traversals."
      ],
      "metadata": {
        "id": "esFwP4eXKWUj"
      }
    },
    {
      "cell_type": "code",
      "source": [
        "#Factorial\n",
        "def factorial(n):\n",
        "  if n==1:\n",
        "    return 1\n",
        "  return n*factorial(n-1)\n",
        "print(factorial(5))"
      ],
      "metadata": {
        "colab": {
          "base_uri": "https://localhost:8080/"
        },
        "id": "ZdL8eOvEc7d0",
        "outputId": "e82f9404-5e81-4c04-9d8f-73236e06a69e"
      },
      "execution_count": null,
      "outputs": [
        {
          "output_type": "stream",
          "name": "stdout",
          "text": [
            "120\n"
          ]
        }
      ]
    },
    {
      "cell_type": "markdown",
      "source": [
        "Fibonacii series mean addition of previous two value we get the new number. i.e. new number is the addition of previous two number."
      ],
      "metadata": {
        "id": "WI2GSuz3LWze"
      }
    },
    {
      "cell_type": "code",
      "source": [
        "'''\n",
        "fibonacii\n",
        "0 1 1 2 3 5 8 13\n",
        "fib (0)=0\n",
        "fib(1)=1\n",
        "fib(2)=fib(0)+fib(1)\n",
        "fib(n) = fib(n-2) + fib(n-1)\n",
        "'''\n",
        "def fib(n):\n",
        "  #Base case of recursion\n",
        "  if(n==0 or n==1):\n",
        "    return n\n",
        "  return fib(n-2)+fib(n-1)\n",
        "print(fib(5))\n",
        "\n",
        "'''\n",
        "When we pass 6 to the function then 1st it will check codition ie. n=6 i.e. condtion is false so it will\n",
        "execute the formula we get fib(4)+fib(5). fib 4 is pass to the function and + fib(5)\n",
        "remain same which resolve later. for now fib 4 it will check condition which flase again 4 is put in to\n",
        "formula we get fib(2)+fib(3)\n",
        "for fib (0) it will return 0 and for fib(1) it return 1.\n",
        "\n",
        "fib (4) + fib (5)\n",
        "fib (2) + fib (3) + fib(5) # fib(4) is break down to fib(2) + fib(3)\n",
        "fib (0) + fib (1) + fib(3) + fib(5)\n",
        "0 + 1 + fib(1) + fib(2) + fib(3) + fib(4)\n",
        "0 + 1 + 1 + fib(0) + fib(1) + fib(1) + fib(2) + fib(4)\n",
        "0 + 1 + 1 + 0 + 1 + 1 + fib (0) + fib(1) + fib(2) + fib(3)\n",
        "0 + 1 + 1 + 0 + 1 + 1 + 0 + 1 + fib(0) + fib(1) + fib(3)\n",
        "0 + 1 + 1 + 0 + 1 + 1 + 0 + 1 + 0 + 1 + fib(1) + fib(2)\n",
        "0 + 1 + 1 + 0 + 1 + 1 + 0 + 1 + 0 + 1 + 1 + fib(0) + fib(1)\n",
        "0 + 1 + 1 + 0 + 1 + 1 + 0 + 1 + 0 + 1 + 1 + 0 + 1\n",
        "'''\n"
      ],
      "metadata": {
        "colab": {
          "base_uri": "https://localhost:8080/"
        },
        "id": "XRsy3RwQLxys",
        "outputId": "d9c0c033-0cff-4959-8f3c-1d87b161de28"
      },
      "execution_count": null,
      "outputs": [
        {
          "output_type": "stream",
          "name": "stdout",
          "text": [
            "5\n"
          ]
        }
      ]
    },
    {
      "cell_type": "markdown",
      "source": [
        "5. Modules and Pip - Using External Libraries\n",
        "**Importing Modules**\n",
        "* Python provides bulit-in and third-party modules.\n",
        "\n",
        "* Python have some inbuilt and third party libraries which help us to solve our problem by using code which is written by others. Just we have to import that modules and we can use in our program.\n",
        "* By using **import** keyword we can improt code form module."
      ],
      "metadata": {
        "id": "EEQvEinvf7Xj"
      }
    },
    {
      "cell_type": "code",
      "source": [
        "import math #math is built-in module in python which have many methods to solve meathematic problem\n",
        "print(math.sqrt(16)) #math is name of module and sqrt() is method of that module."
      ],
      "metadata": {
        "colab": {
          "base_uri": "https://localhost:8080/"
        },
        "id": "RlxoIHlph9hz",
        "outputId": "8725d2e1-6753-4de5-a590-fa19a82ada58"
      },
      "execution_count": null,
      "outputs": [
        {
          "output_type": "stream",
          "name": "stdout",
          "text": [
            "4.0\n"
          ]
        }
      ]
    },
    {
      "cell_type": "markdown",
      "source": [
        "## In python there are two types of modules\n",
        "1. built-in modules\n",
        "2. External modules\n",
        "1. Buil-in modules\n",
        "* The modules which is provided by python itself.\n",
        "https://docs.python.org/3/py-modindex.html\n",
        "\n",
        "2. External Modules\n",
        "* External modules can be written by us or we can install external module written by other using pip install command.\n",
        "**syntax**\n",
        "pip install module_name\n",
        "\n",
        "**Note:** if we import module then we have to use this module other python show the warning msg.\n",
        "* we can create our own module. Just we have to create python file with .py extension. now we can import data member present inside this module whenever we needed.\n"
      ],
      "metadata": {
        "id": "-ELVIvKSi8wH"
      }
    },
    {
      "cell_type": "code",
      "source": [
        "pip install request\n",
        "# by using\n",
        "r=request.get('https://www.google.com') #this get method will get html code of any webiste\n",
        "print(r.text) # text is not method is a property.\n"
      ],
      "metadata": {
        "collapsed": true,
        "id": "VakSWXDKm4FX"
      },
      "execution_count": null,
      "outputs": []
    },
    {
      "cell_type": "markdown",
      "source": [
        "* When we install module and if that module is depending on other module then all this depending modules are get install."
      ],
      "metadata": {
        "id": "YkUR2G3zn-UR"
      }
    },
    {
      "cell_type": "markdown",
      "source": [
        "6. Function Scope and Lifetime\n",
        "* In python, variable have scope (where they can be accessed) and lifetime(how long they exist). Vriables are created when a function is called and destroyed when it returns (method stop/ return by method.). Understanding scope helps avoid unitened errors and improves code organization.\n",
        "\n",
        "* function keeps variable until it's return as soon it's return by method variable inside method will be clear or deleted from memory.\n",
        "**Types Of Scope in Python**\n",
        "1. Local Scope(inside a function) - Variables declared inside a function are accessible only within that function.\n",
        "2. Global Scope (accessible everywhere) - variable declare outside any function can be used throughout the program."
      ],
      "metadata": {
        "id": "NXTahFZPzQiL"
      }
    },
    {
      "cell_type": "code",
      "source": [
        "def sum(a,b):\n",
        "  c = a + b\n",
        "  z=1 # this is local variabl inside the method this var will destroy when this\n",
        "  # function returns\n",
        "  return c # a, b and c are the locala variables\n",
        "\n",
        "print(sum(4,5))\n",
        "\n",
        "z= 8\n",
        "print(z)\n",
        "print(sum(5,z))"
      ],
      "metadata": {
        "colab": {
          "base_uri": "https://localhost:8080/"
        },
        "id": "VMXBPwhg4GMn",
        "outputId": "f8824c58-c8f0-4293-cbd9-e68efa7bd347"
      },
      "execution_count": null,
      "outputs": [
        {
          "output_type": "stream",
          "name": "stdout",
          "text": [
            "9\n",
            "8\n",
            "13\n"
          ]
        }
      ]
    },
    {
      "cell_type": "markdown",
      "source": [
        "**Using the global keyword**\n",
        "* To modify a global variable inside a function, use the global keyword and we can declear the gloabl variable inside non-globla scope.\n",
        "1. we have to call gloabal keyword and global variable inside method then we\n",
        "2. we can assign values\n",
        "\n",
        "* like\n"
      ],
      "metadata": {
        "id": "oqqxEyGu5WHw"
      }
    },
    {
      "cell_type": "code",
      "source": [
        "def sum(a,b):\n",
        "  global c\n",
        "  c = a + b\n",
        "  z=1\n",
        "  return c\n",
        "print(sum(4,5))\n",
        "print(c)\n",
        "\n",
        "def greet(n):\n",
        "  global name\n",
        "  name = n # this will refere to global name, not creat local variable\n",
        "  return f\"Hello, {name}!\"\n",
        "\n",
        "\n",
        "name=\"ram\"\n",
        "print(name)\n",
        "print(greet(\"Alice\"))\n",
        "print(name)"
      ],
      "metadata": {
        "colab": {
          "base_uri": "https://localhost:8080/"
        },
        "id": "sUn4zeel52J6",
        "outputId": "7e683f74-a0c2-4bee-f168-0f18d35468e1"
      },
      "execution_count": null,
      "outputs": [
        {
          "output_type": "stream",
          "name": "stdout",
          "text": [
            "9\n",
            "9\n",
            "ram\n",
            "Hello, Alice!\n",
            "Alice\n"
          ]
        }
      ]
    },
    {
      "cell_type": "markdown",
      "source": [
        "**This allows functions to change global variables, but excessive use of gloabl is discourage as it can make dubugging harder.**"
      ],
      "metadata": {
        "id": "LSy-Vrzv8XUQ"
      }
    },
    {
      "cell_type": "markdown",
      "source": [
        "7. Docstrings - Writing Function Documentation\n",
        "* Docstrings are used to document functions, classes, and modules. In python, they are written in triple qoutes. They are accessible using __doc__ attribute. Here's an example\n",
        "* Docstring is writte just after declaring function i.e. just after the : i.e. starting\n",
        "* Docstring added in python because some time we have to add information along with function like which parameter its accepting, type of variable is returning. When we hover over function this docstirng information will be seen. We can write multiline docstring."
      ],
      "metadata": {
        "id": "hIXH88vD8tIp"
      }
    },
    {
      "cell_type": "code",
      "source": [
        "def sum(a,b):\n",
        "  '''This function return the sum of two numbers'''\n",
        "  return a+b\n",
        "print(sum.__doc__) #syntax to get doc string methodname.__doc__"
      ],
      "metadata": {
        "colab": {
          "base_uri": "https://localhost:8080/"
        },
        "id": "0GUAT3fz9sKk",
        "outputId": "1551dcef-d8db-429f-e6a5-917eab2911c2"
      },
      "execution_count": null,
      "outputs": [
        {
          "output_type": "stream",
          "name": "stdout",
          "text": [
            "This function return the sum of two numbers\n"
          ]
        }
      ]
    },
    {
      "cell_type": "code",
      "source": [
        "def add(a,b):\n",
        "  '''\n",
        "  Returns the sum of two numbers.\n",
        "  Parameters:\n",
        "  a (int): The first number.\n",
        "  b (int): The second number.\n",
        "  Returns:\n",
        "  int: The sum of the two numbers.\n",
        "  '''\n",
        "  return a+b\n",
        "print(add.__doc__)\n"
      ],
      "metadata": {
        "colab": {
          "base_uri": "https://localhost:8080/"
        },
        "id": "7bHNbz4k_UAu",
        "outputId": "7239e25a-6877-46c7-ce85-effa2a6051db"
      },
      "execution_count": null,
      "outputs": [
        {
          "output_type": "stream",
          "name": "stdout",
          "text": [
            "\n",
            "  Returns the sum of two numbers.\n",
            "  Parameters:\n",
            "  a (int): The first number.\n",
            "  b (int): The second number.\n",
            "  Returns:\n",
            "  int: The sum of the two numbers.\n",
            "  \n"
          ]
        }
      ]
    },
    {
      "cell_type": "markdown",
      "source": [
        "**Summary**\n",
        "* Functions help in reusability and modularity\n",
        "* Functions can take arguments and return values.\n",
        "* Lambda functions are short, inline functions.\n",
        "* Recursion is a techinque where a fucntion calls itself.\n",
        "* Modules help in organizing code usingg external libraries.\n",
        "* Scope of lifetime of variable decide their accessibility.\n",
        "* Docstring are used to document functions, classes and modules."
      ],
      "metadata": {
        "id": "zihI_2kxAAo5"
      }
    },
    {
      "cell_type": "markdown",
      "source": [
        "# Data Structure in Python\n",
        "* Python provides powerful bulit-in data structures to store and manipulate collections of data efficiently.\n",
        "\n",
        "1. List\n",
        "* Lists are odered, mutable (changeable) collections of items.\n",
        "* ordered is maintain in list throughout the program.\n",
        "* List we can store multiple values of different data types.\n",
        "* List are declare using square brackets[] and values are seprated by commas [,]\n",
        "* Mutabel means we can perform all manipulation operation like inser, update, delete operation on list.\n",
        "* All List values are placed at indexes. it strats from 0. We can access the items in list using their index values. like obj[0]. we can access using positive (fetch from start) and negative(negative fetch from end) index to get items from list.\n"
      ],
      "metadata": {
        "id": "KhU_QlZ3782f"
      }
    },
    {
      "cell_type": "code",
      "source": [
        "mark=[54, 23, 64, 93, 32]\n",
        "mixed= [43, \"Hello\", False, 2.3]\n",
        "print(mark)\n",
        "print(mixed)\n",
        "print(mark[0])\n",
        "print(mixed[-1])\n",
        "print(mixed[1:3])\n"
      ],
      "metadata": {
        "colab": {
          "base_uri": "https://localhost:8080/"
        },
        "id": "icwCkUTC-hxr",
        "outputId": "b4013e2d-fc3e-4466-82aa-f0c54cf40a3b"
      },
      "execution_count": null,
      "outputs": [
        {
          "output_type": "stream",
          "name": "stdout",
          "text": [
            "[54, 23, 64, 93, 32]\n",
            "[43, 'Hello', False, 2.3]\n",
            "54\n",
            "2.3\n",
            "['Hello', False]\n"
          ]
        }
      ]
    },
    {
      "cell_type": "markdown",
      "source": [
        "**Methods under List**\n",
        "* Any method which use on list will change the original list.\n",
        "1. append(value)\n",
        "* This method will change the original list. This method will insert value at end of list ie. on last index."
      ],
      "metadata": {
        "id": "Y6d0DFlqA0B7"
      }
    },
    {
      "cell_type": "code",
      "source": [
        "marks=[1, 3, 4, 5]\n",
        "print(marks)\n",
        "marks.append(66) ## 66 will be added and end of list after 5.\n",
        "print(marks)\n",
        "\n"
      ],
      "metadata": {
        "colab": {
          "base_uri": "https://localhost:8080/"
        },
        "id": "MuIfutA_DBi1",
        "outputId": "32488ec8-50a1-4bf2-df24-df8759153265"
      },
      "execution_count": null,
      "outputs": [
        {
          "output_type": "stream",
          "name": "stdout",
          "text": [
            "[1, 3, 4, 5]\n",
            "[1, 3, 4, 5, 66]\n"
          ]
        }
      ]
    },
    {
      "cell_type": "markdown",
      "source": [
        "2. pop()\n",
        "* This method will remove the last element from the original list by defult if we pass the index value then it will remove the item on that index.\n"
      ],
      "metadata": {
        "id": "cWHSdTJdDaxf"
      }
    },
    {
      "cell_type": "code",
      "source": [
        "l=[4, 3, \"Hulu lu\"]\n",
        "print(l)\n",
        "l.pop() # remove last item from list\n",
        "print(l)\n",
        "l.pop(0) # remove item on index 0\n",
        "print(l)"
      ],
      "metadata": {
        "colab": {
          "base_uri": "https://localhost:8080/"
        },
        "id": "0v5dixqFDlIA",
        "outputId": "2c300cab-b061-49d7-ef6c-bb96a11572e0"
      },
      "execution_count": null,
      "outputs": [
        {
          "output_type": "stream",
          "name": "stdout",
          "text": [
            "[4, 3, 'Hulu lu']\n",
            "[4, 3]\n",
            "[3]\n"
          ]
        }
      ]
    },
    {
      "cell_type": "markdown",
      "source": [
        "3. insert(index, value)\n",
        "* This method will add the inbetween values in list. we have to pass two values which are 1st index number and 2nd is value which we want to insert.\n"
      ],
      "metadata": {
        "id": "6T9w5mENETZf"
      }
    },
    {
      "cell_type": "code",
      "source": [
        "moon=[1, 2, 4]\n",
        "print(moon)\n",
        "moon.insert(1, 'VALUE INSERTED') # VALUE INSERTED is inserted on index 1.\n",
        "print(moon)"
      ],
      "metadata": {
        "colab": {
          "base_uri": "https://localhost:8080/"
        },
        "id": "rOlwlguIEs-i",
        "outputId": "9938c511-10f6-40e6-e233-fce55c3ebe24"
      },
      "execution_count": null,
      "outputs": [
        {
          "output_type": "stream",
          "name": "stdout",
          "text": [
            "[1, 2, 4]\n",
            "[1, 'VALUE INSERTED', 2, 4]\n"
          ]
        }
      ]
    },
    {
      "cell_type": "markdown",
      "source": [
        "4. extend\n",
        "* Basically extedn will take another list as an input  and it will append all the elements of that list (iterable) to the end of original list."
      ],
      "metadata": {
        "id": "OB2sdNDpFIlA"
      }
    },
    {
      "cell_type": "code",
      "source": [
        "animal=[\"monkey\", \"horse\"]\n",
        "new_animal=[\"lion\", \"fox\"]\n",
        "print(\"animal= \", animal)\n",
        "print(\"new_animal= \", new_animal)\n",
        "animal.extend(new_animal) # new_animal values are place after animal's value\n",
        "print(animal)\n"
      ],
      "metadata": {
        "colab": {
          "base_uri": "https://localhost:8080/"
        },
        "id": "sIKXVFZzFfgK",
        "outputId": "5f4149a0-c6b3-4dc2-ffb5-766cd8409e4b"
      },
      "execution_count": null,
      "outputs": [
        {
          "output_type": "stream",
          "name": "stdout",
          "text": [
            "animal=  ['monkey', 'horse']\n",
            "new_animal=  ['lion', 'fox']\n",
            "['monkey', 'horse', 'lion', 'fox']\n"
          ]
        }
      ]
    },
    {
      "cell_type": "markdown",
      "source": [
        "5. sort()\n",
        "* This method will sort the list list in acending order in case of integer, alphabetically for string. If list contain the combination of int and string then it won't sort list it throw an error."
      ],
      "metadata": {
        "id": "1dI3PoPYGz_1"
      }
    },
    {
      "cell_type": "code",
      "source": [
        "num=[2,4,5,1,0]\n",
        "print(num)\n",
        "num.sort()\n",
        "print(num)\n",
        "#string\n",
        "str=[\"zoom\", \"monkey\", \"apple\", \"fox\"]\n",
        "print(str)\n",
        "str.sort\n",
        "print(str)\n",
        "#alphnumberic\n",
        "alp=[2,\"fox\", \"humble\", 23, 2.5]\n",
        "alp.sort()\n",
        "print(alp) #TypeError: '<' not supported between instances of 'str' and 'int'\n"
      ],
      "metadata": {
        "colab": {
          "base_uri": "https://localhost:8080/"
        },
        "id": "FB8IHForHHw1",
        "outputId": "5d08010b-afc6-4c03-919a-de8f09d8571a"
      },
      "execution_count": null,
      "outputs": [
        {
          "output_type": "stream",
          "name": "stdout",
          "text": [
            "[2, 4, 5, 1, 0]\n",
            "[0, 1, 2, 4, 5]\n",
            "['zoom', 'monkey', 'apple', 'fox']\n",
            "['zoom', 'monkey', 'apple', 'fox']\n"
          ]
        }
      ]
    },
    {
      "cell_type": "markdown",
      "source": [
        "6. reverse()\n",
        "* This method will reverse the original list."
      ],
      "metadata": {
        "id": "lXcR3aHqIwKb"
      }
    },
    {
      "cell_type": "code",
      "source": [
        "l=[\"hello\", 2, 34, 23.4]\n",
        "print(l)\n",
        "l.reverse()\n",
        "print(l)"
      ],
      "metadata": {
        "colab": {
          "base_uri": "https://localhost:8080/"
        },
        "id": "2aFLrXs_I35x",
        "outputId": "79c58619-ef02-4eba-b502-cc07d26970a5"
      },
      "execution_count": null,
      "outputs": [
        {
          "output_type": "stream",
          "name": "stdout",
          "text": [
            "['hello', 2, 34, 23.4]\n",
            "[23.4, 34, 2, 'hello']\n"
          ]
        }
      ]
    },
    {
      "cell_type": "markdown",
      "source": [
        "7. remove(index)\n",
        "* this method will remove the item from list just we have to pass the index value which want to remove."
      ],
      "metadata": {
        "id": "NKXTem66JLh9"
      }
    },
    {
      "cell_type": "code",
      "source": [
        "l=[\"hello\", 2, 34, 23.4]\n",
        "print(l)\n",
        "l.remove(2)\n",
        "print(l)"
      ],
      "metadata": {
        "colab": {
          "base_uri": "https://localhost:8080/"
        },
        "id": "gjp9nN4LJYep",
        "outputId": "c546e933-bb0d-4a63-a92d-6c6aad1e9717"
      },
      "execution_count": null,
      "outputs": [
        {
          "output_type": "stream",
          "name": "stdout",
          "text": [
            "['hello', 2, 34, 23.4]\n",
            "['hello', 34, 23.4]\n"
          ]
        }
      ]
    },
    {
      "cell_type": "markdown",
      "source": [
        "##List Comperhensions (Efificient List Creation)\n",
        "* suppose we have to create the list which contain table of 5.\n"
      ],
      "metadata": {
        "id": "-VvpZU7oJrBA"
      }
    },
    {
      "cell_type": "code",
      "source": [
        "#This is the one way\n",
        "num=5\n",
        "table=[]\n",
        "for i in range(1, 11):\n",
        "  table.append(num*i) # this append will populate the number in list one after another.\n",
        "print(table)"
      ],
      "metadata": {
        "colab": {
          "base_uri": "https://localhost:8080/"
        },
        "id": "uUACDEuFKYxi",
        "outputId": "d87c9344-d298-4c9c-b502-528103d0c722"
      },
      "execution_count": null,
      "outputs": [
        {
          "output_type": "stream",
          "name": "stdout",
          "text": [
            "[5, 10, 15, 20, 25, 30, 35, 40, 45, 50]\n"
          ]
        }
      ]
    },
    {
      "cell_type": "code",
      "source": [
        "# short/ comperhensive way to do this\n",
        "table=[5*i for i in range(1,11)]\n",
        "print(table)\n",
        "\n",
        "# squred\n",
        "squared = [x**2 for x in range(6)]\n",
        "print(squared)"
      ],
      "metadata": {
        "colab": {
          "base_uri": "https://localhost:8080/"
        },
        "id": "5lIZwLadLB3F",
        "outputId": "661b9e33-ddb1-4855-a921-24a6693c580c"
      },
      "execution_count": null,
      "outputs": [
        {
          "output_type": "stream",
          "name": "stdout",
          "text": [
            "[5, 10, 15, 20, 25, 30, 35, 40, 45, 50]\n",
            "[0, 1, 4, 9, 16, 25]\n"
          ]
        }
      ]
    },
    {
      "cell_type": "markdown",
      "source": [
        "## 2. tuples and Operations on Tuples\n",
        "* Tuples are ordered but immutable collections (cannot be changed after creation)\n",
        "* We can't perform any manipulation operation on tuple like insert, update, delete.\n",
        "* tuple is declare using parenthesis () and values are seprated by commas (,). This tuple valuse are placed in index form which starts from 0. We can access the item's in tuple using index values like obj[0]\n",
        "* tuple is an immutable version of list. **Tuples are used when don't want our values in collection can not be change in any condition**\n",
        "* If we cant to create the tuple having single element then we have to use comma (,). Because the in python parenthesis () are use to group an element.\n"
      ],
      "metadata": {
        "id": "NjtdDtIlNk-v"
      }
    },
    {
      "cell_type": "code",
      "source": [
        "a = (1, 3, 4)\n",
        "print(a)\n",
        "print(a[2])\n",
        "#a[2]=34 # this throw an TypeError: 'tuple' object does not support item assignment\n",
        "str=(5)\n",
        "print(str, \"Type of str\", type(str))\n",
        "str=(5,)\n",
        "print(str, \"Type of str\", type(str))"
      ],
      "metadata": {
        "colab": {
          "base_uri": "https://localhost:8080/"
        },
        "id": "esmGkyoKOyZA",
        "outputId": "347d7b86-e72e-49d2-f381-46731cb5a0c9"
      },
      "execution_count": null,
      "outputs": [
        {
          "output_type": "stream",
          "name": "stdout",
          "text": [
            "(1, 3, 4)\n",
            "4\n",
            "5 Type of str <class 'int'>\n",
            "(5,) Type of str <class 'tuple'>\n"
          ]
        }
      ]
    },
    {
      "cell_type": "markdown",
      "source": [
        "**Tuple Unpacking**\n",
        "* In tuple unpacking, we assign certain variables wtih the content of tuple.\n"
      ],
      "metadata": {
        "id": "KzOV9AyQQ2-p"
      }
    },
    {
      "cell_type": "code",
      "source": [
        "tu = (1, 3, 5)\n",
        "a, b, c = tu\n",
        "print(a, b, c)"
      ],
      "metadata": {
        "colab": {
          "base_uri": "https://localhost:8080/"
        },
        "id": "jVjAsmryRcbk",
        "outputId": "6fd0a06d-2125-41f5-f5db-e21abba3b4be"
      },
      "execution_count": null,
      "outputs": [
        {
          "output_type": "stream",
          "name": "stdout",
          "text": [
            "1 3 5\n"
          ]
        }
      ]
    },
    {
      "cell_type": "markdown",
      "source": [
        "**Methods Under Tuple**\n",
        "1. count(value)\n",
        "* This method will returns the number of time value is appears in the tuple.\n"
      ],
      "metadata": {
        "id": "ylueDHZiRlqp"
      }
    },
    {
      "cell_type": "code",
      "source": [
        "tup= (1,2, \"Hello\", 2, 2, \"Hello\")\n",
        "print(tup.count(\"Hello\"))\n",
        "print(tup.count(2))"
      ],
      "metadata": {
        "colab": {
          "base_uri": "https://localhost:8080/"
        },
        "id": "WBdrY92yR4PY",
        "outputId": "81d705bf-2986-4d14-a858-c891b6a8a130"
      },
      "execution_count": null,
      "outputs": [
        {
          "output_type": "stream",
          "name": "stdout",
          "text": [
            "2\n",
            "3\n"
          ]
        }
      ]
    },
    {
      "cell_type": "markdown",
      "source": [
        "2. index(value)\n",
        "* This method will return index of the first occurence of value."
      ],
      "metadata": {
        "id": "6EGscqGgSYo0"
      }
    },
    {
      "cell_type": "code",
      "source": [
        "print(tup.index(2))"
      ],
      "metadata": {
        "colab": {
          "base_uri": "https://localhost:8080/"
        },
        "id": "KTuTxQf8SmE4",
        "outputId": "dc432857-f730-4e43-848c-f7961d4612b1"
      },
      "execution_count": null,
      "outputs": [
        {
          "output_type": "stream",
          "name": "stdout",
          "text": [
            "1\n"
          ]
        }
      ]
    },
    {
      "cell_type": "markdown",
      "source": [
        "**Why Use Tuples?**\n",
        "* Faster then lists (since they are immutable) thye are optimised.\n",
        "*Used as dictionary key(Since they are hashable)\n",
        "*Safe from unintened modification."
      ],
      "metadata": {
        "id": "OHUjWDDrSltp"
      }
    },
    {
      "cell_type": "markdown",
      "source": [
        "## 3. Sets and Set Methods\n",
        "* Sets are unordered, unique collections(no duplicates (values) allowed)\n",
        "* set is declear using curly braces {}.\n",
        "* In set indexes are not present. So we can't access the set elements using indexes.\n",
        "* In set there are various method to add, remove elments.\n",
        "* inside the set order is not maintain."
      ],
      "metadata": {
        "id": "sHxPqRnfVm7r"
      }
    },
    {
      "cell_type": "code",
      "source": [
        "s = {2, 23, 2, 11, \"hello\"}\n",
        "print(s, type(s))\n",
        "#print(s[2]) This is not allowed in set. TypeError: 'set' object is not subscriptable"
      ],
      "metadata": {
        "colab": {
          "base_uri": "https://localhost:8080/"
        },
        "id": "zcNHAaVPXDe1",
        "outputId": "39d25c87-a69f-4192-fb9d-c9737ada2118"
      },
      "execution_count": null,
      "outputs": [
        {
          "output_type": "stream",
          "name": "stdout",
          "text": [
            "{2, 11, 'hello', 23} <class 'set'>\n"
          ]
        }
      ]
    },
    {
      "cell_type": "markdown",
      "source": [
        "**Methods Under set**\n",
        "1. add(value)\n",
        "* This method is used to add the element in set, just we have to pass the value which we want to add then this value is added in original set at any random poisition."
      ],
      "metadata": {
        "id": "eoBvCXvbYLRV"
      }
    },
    {
      "cell_type": "code",
      "source": [
        "s = {2, 23, 34, \"Hello\"}\n",
        "print(s)\n",
        "s.add(\"moon\")\n",
        "print(s)\n",
        "s.add(11584.581)\n",
        "print(s)"
      ],
      "metadata": {
        "colab": {
          "base_uri": "https://localhost:8080/"
        },
        "id": "9v2usl4dZKjX",
        "outputId": "b9c87b8e-2a1c-4ed6-d220-e438e3ae554b"
      },
      "execution_count": null,
      "outputs": [
        {
          "output_type": "stream",
          "name": "stdout",
          "text": [
            "{'Hello', 2, 34, 23}\n",
            "{2, 34, 'moon', 23, 'Hello'}\n",
            "{11584.581, 2, 34, 'moon', 23, 'Hello'}\n"
          ]
        }
      ]
    },
    {
      "cell_type": "markdown",
      "source": [
        "2. remove(value)\n",
        "* This method will remove the element for the original set, just we have to pass the value.\n",
        "* if we try to remove the value which is not present in set then it throw an key error."
      ],
      "metadata": {
        "id": "ZHoPK8GkZuLL"
      }
    },
    {
      "cell_type": "code",
      "source": [
        "s = {1, 23, 34, 234}\n",
        "print(s)\n",
        "#s.remove(2)#KeyError: 2\n",
        "print(s)"
      ],
      "metadata": {
        "colab": {
          "base_uri": "https://localhost:8080/"
        },
        "id": "tLIRWXfCZ1c0",
        "outputId": "5ffd2d1d-826a-451f-a4d5-1515bd2aa70b"
      },
      "execution_count": null,
      "outputs": [
        {
          "output_type": "stream",
          "name": "stdout",
          "text": [
            "{1, 34, 234, 23}\n",
            "{1, 34, 234, 23}\n"
          ]
        }
      ]
    },
    {
      "cell_type": "markdown",
      "source": [
        "3. discard(value)\n",
        "* This method will remove the element from original set if it present, if element is not present then it won't throw any error."
      ],
      "metadata": {
        "id": "L-jdW6d3aqRw"
      }
    },
    {
      "cell_type": "code",
      "source": [
        "s = {1, 2, 3, 4, 32}\n",
        "print(s)\n",
        "s.discard(2342) # in set 2342 is not present but don't throw an error\n",
        "print(s)\n",
        "s.discard(1) # 1 is discarded / remove from set object.\n",
        "print(s)"
      ],
      "metadata": {
        "colab": {
          "base_uri": "https://localhost:8080/"
        },
        "id": "PhCZpH7da5l6",
        "outputId": "a1f2c56f-2ddb-4202-d79b-94d33cc95f08"
      },
      "execution_count": null,
      "outputs": [
        {
          "output_type": "stream",
          "name": "stdout",
          "text": [
            "{32, 1, 2, 3, 4}\n",
            "{32, 1, 2, 3, 4}\n",
            "{32, 2, 3, 4}\n"
          ]
        }
      ]
    },
    {
      "cell_type": "markdown",
      "source": [
        "4. pop()\n",
        "* This method will remove any item from set randomly."
      ],
      "metadata": {
        "id": "Gq0ACNrabbx-"
      }
    },
    {
      "cell_type": "code",
      "source": [
        "s ={87, 34, 34, 342, 23, 2,}\n",
        "print(s)\n",
        "s.pop()\n",
        "print(s)"
      ],
      "metadata": {
        "colab": {
          "base_uri": "https://localhost:8080/"
        },
        "id": "NCi0NUeRbsOf",
        "outputId": "f7eaa115-08f3-4329-e90e-821a54f71ad5"
      },
      "execution_count": null,
      "outputs": [
        {
          "output_type": "stream",
          "name": "stdout",
          "text": [
            "{34, 2, 342, 23, 87}\n",
            "{2, 342, 23, 87}\n"
          ]
        }
      ]
    },
    {
      "cell_type": "markdown",
      "source": [
        "**Set Operation**\n",
        "1. Union\n",
        "* This method combine two set object into one. And remove any duplicate values."
      ],
      "metadata": {
        "id": "1Vh6krpZcIdV"
      }
    },
    {
      "cell_type": "code",
      "source": [
        "set1 = {1,2,34, 534234, 234, 'moon', 'bloom'}\n",
        "set2 = {2, 23, 23,  'moon'}\n",
        "unionSet= set1.union(set2) # containse all the element in set1 along with all the\n",
        "# element in set2\n",
        "print(unionSet)"
      ],
      "metadata": {
        "colab": {
          "base_uri": "https://localhost:8080/"
        },
        "id": "0QjtGKXycvew",
        "outputId": "08a12be8-c0c8-44d5-a4d7-399e4a77cea9"
      },
      "execution_count": null,
      "outputs": [
        {
          "output_type": "stream",
          "name": "stdout",
          "text": [
            "{1, 2, 34, 234, 'bloom', 23, 'moon', 534234}\n"
          ]
        }
      ]
    },
    {
      "cell_type": "markdown",
      "source": [
        "2. intersection\n",
        "* This method return the  common values from two set or all."
      ],
      "metadata": {
        "id": "IS_gqNMmdrRg"
      }
    },
    {
      "cell_type": "code",
      "source": [
        "set_1= {\"monkey\", 1, 3, 49}\n",
        "set_2= {2, 1, 3, \"monkey\", 89}\n",
        "set_3= set_1.intersection(set_2) # contains only the element that are present in set1 as well as set2.\n",
        "print(set_3)"
      ],
      "metadata": {
        "colab": {
          "base_uri": "https://localhost:8080/"
        },
        "id": "phKAzO77eFQL",
        "outputId": "3708ae1a-314c-4447-a0fa-f76a5cf282d1"
      },
      "execution_count": null,
      "outputs": [
        {
          "output_type": "stream",
          "name": "stdout",
          "text": [
            "{1, 'monkey', 3}\n"
          ]
        }
      ]
    },
    {
      "cell_type": "markdown",
      "source": [
        "**Use Case of Sets: Sets are greate for remove duplicate values.**"
      ],
      "metadata": {
        "id": "quYlHWW9epmS"
      }
    },
    {
      "cell_type": "markdown",
      "source": [
        "## 4. dictionaries and Dictionary Methods\n",
        "* Dictionaries store values in key:value pairs and allow fast lookups.\n",
        "*  we can use any data type as a key name which are hashable in python. i.e. string, integer, tuple. we cannot use list as it is not hashable.\n",
        "* Dictionaries are deacler using curly braces, key:values pairs are separated by commas (,).\n",
        "* we can access the items in dictionary we have to pass key name obj[keyname]"
      ],
      "metadata": {
        "id": "Wti5eYAdhHLH"
      }
    },
    {
      "cell_type": "code",
      "source": [
        "mark={\"tom\":34, \"jack\":45, \"lily\":94, 1:\"moon\"}\n",
        "print(mark, type(mark))\n",
        "print(mark[\"tom\"])\n"
      ],
      "metadata": {
        "colab": {
          "base_uri": "https://localhost:8080/"
        },
        "id": "mL624Fm0i8XO",
        "outputId": "158828ea-16ac-4289-c169-a0b010983c85"
      },
      "execution_count": null,
      "outputs": [
        {
          "output_type": "stream",
          "name": "stdout",
          "text": [
            "{'tom': 34, 'jack': 45, 'lily': 94, 1: 'moon'} <class 'dict'>\n",
            "34\n"
          ]
        }
      ]
    },
    {
      "cell_type": "markdown",
      "source": [
        "* We can update the value of key also"
      ],
      "metadata": {
        "id": "l1nz5hL3jmzA"
      }
    },
    {
      "cell_type": "code",
      "source": [
        "mark['tom']=74\n",
        "print(mark)\n",
        "mark[1]=\"sun\" # value of key 1 is updated\n",
        "print(mark)"
      ],
      "metadata": {
        "colab": {
          "base_uri": "https://localhost:8080/"
        },
        "id": "AYFQdCLSjqV2",
        "outputId": "a59e89e9-07aa-41d2-f8fb-749708b0bf7a"
      },
      "execution_count": null,
      "outputs": [
        {
          "output_type": "stream",
          "name": "stdout",
          "text": [
            "{'tom': 74, 'jack': 45, 'lily': 94, 1: 'moon'}\n",
            "{'tom': 74, 'jack': 45, 'lily': 94, 1: 'sun'}\n"
          ]
        }
      ]
    },
    {
      "cell_type": "markdown",
      "source": [
        "* we can add the value in dictionary just we have to pass obj[key_name]=its_value"
      ],
      "metadata": {
        "id": "ccKU0MRukKU4"
      }
    },
    {
      "cell_type": "code",
      "source": [
        "mark[\"sohan\"]=48 # key:value pair is added\n",
        "print(mark)"
      ],
      "metadata": {
        "colab": {
          "base_uri": "https://localhost:8080/"
        },
        "id": "Ue1GNI9AkaQS",
        "outputId": "c9ce33f8-85f3-4224-b472-aee8577b7a77"
      },
      "execution_count": null,
      "outputs": [
        {
          "output_type": "stream",
          "name": "stdout",
          "text": [
            "{'tom': 74, 'jack': 45, 'lily': 94, 1: 'sun', 'sohan': 48}\n"
          ]
        }
      ]
    },
    {
      "cell_type": "markdown",
      "source": [
        "**Common Dictionary Mehtods:**\n",
        "1. keys()\n",
        "* This method will return all the keys which are present inside the dictionary.\n"
      ],
      "metadata": {
        "id": "_nPZNjpOkxYs"
      }
    },
    {
      "cell_type": "code",
      "source": [
        "print(mark.keys())"
      ],
      "metadata": {
        "colab": {
          "base_uri": "https://localhost:8080/"
        },
        "id": "1VpuogormW-N",
        "outputId": "c9029db9-dd44-4a91-e027-f380a31409fa"
      },
      "execution_count": null,
      "outputs": [
        {
          "output_type": "stream",
          "name": "stdout",
          "text": [
            "dict_keys(['tom', 'jack', 'lily', 1, 'sohan'])\n"
          ]
        }
      ]
    },
    {
      "cell_type": "markdown",
      "source": [
        "2. values()\n",
        "* This method will return all the values which are present inside the dictionary."
      ],
      "metadata": {
        "id": "1BCjm035m4-g"
      }
    },
    {
      "cell_type": "code",
      "source": [
        "print(mark.values())"
      ],
      "metadata": {
        "colab": {
          "base_uri": "https://localhost:8080/"
        },
        "id": "WBccGtCanH17",
        "outputId": "368b7997-4561-4462-ca4a-814a23c1f7da"
      },
      "execution_count": null,
      "outputs": [
        {
          "output_type": "stream",
          "name": "stdout",
          "text": [
            "dict_values([74, 45, 94, 'sun', 48])\n"
          ]
        }
      ]
    },
    {
      "cell_type": "markdown",
      "source": [
        "4. pop(key)\n",
        "* This method will remove the key from dictionary along with its value, just we have to pass the key_name as an input in same data type as key has."
      ],
      "metadata": {
        "id": "6ZMeJa6qnYZ6"
      }
    },
    {
      "cell_type": "code",
      "source": [
        "mark.pop(\"tom\")\n",
        "print(mark)"
      ],
      "metadata": {
        "colab": {
          "base_uri": "https://localhost:8080/"
        },
        "id": "u7CPDEpCniM7",
        "outputId": "d670224f-9857-449f-8a61-c3fd49d1db56"
      },
      "execution_count": null,
      "outputs": [
        {
          "output_type": "stream",
          "name": "stdout",
          "text": [
            "{'jack': 45, 'lily': 94, 1: 'sun', 'sohan': 48}\n"
          ]
        }
      ]
    },
    {
      "cell_type": "markdown",
      "source": [
        "5. clear()\n",
        "* This method will clear the dictionary, remove all keys along with values."
      ],
      "metadata": {
        "id": "t-RZ_sx3n8fy"
      }
    },
    {
      "cell_type": "code",
      "source": [
        "mark.clear()\n",
        "print(mark)"
      ],
      "metadata": {
        "colab": {
          "base_uri": "https://localhost:8080/"
        },
        "id": "81dugPFkoIao",
        "outputId": "b6bb8508-1519-4e2f-e8f8-b71d35e816ac"
      },
      "execution_count": null,
      "outputs": [
        {
          "output_type": "stream",
          "name": "stdout",
          "text": [
            "{}\n"
          ]
        }
      ]
    },
    {
      "cell_type": "markdown",
      "source": [
        "**Dictionary Comperhaensions:**\n",
        "* efficient way to create the dictionary\n"
      ],
      "metadata": {
        "id": "qV2fyXfUotLr"
      }
    },
    {
      "cell_type": "code",
      "source": [
        "table_of_5={i:5*i for i in range(1,11)}\n",
        "print(table_of_5)"
      ],
      "metadata": {
        "colab": {
          "base_uri": "https://localhost:8080/"
        },
        "id": "SPnQ_PknpFKl",
        "outputId": "c708f0f4-6017-436c-e050-d8e6781238e6"
      },
      "execution_count": null,
      "outputs": [
        {
          "output_type": "stream",
          "name": "stdout",
          "text": [
            "{1: 5, 2: 10, 3: 15, 4: 20, 5: 25, 6: 30, 7: 35, 8: 40, 9: 45, 10: 50}\n"
          ]
        }
      ]
    },
    {
      "cell_type": "code",
      "source": [
        "#dictionary of square\n",
        "square={i:i**2 for i in range(1, 6)}\n",
        "print(square)"
      ],
      "metadata": {
        "colab": {
          "base_uri": "https://localhost:8080/"
        },
        "id": "rQbOkde8qV0_",
        "outputId": "235e1175-4730-4deb-c7be-a3e0fc2fe11d"
      },
      "execution_count": null,
      "outputs": [
        {
          "output_type": "stream",
          "name": "stdout",
          "text": [
            "{1: 1, 2: 4, 3: 9, 4: 16, 5: 25}\n"
          ]
        }
      ]
    },
    {
      "cell_type": "markdown",
      "source": [
        "## 5. When to Use Each Data Structure\n",
        "1. List\n",
        "* List is orderd, Mutable. Best to use for Storing sequences, dynamic data\n",
        "* List is used when have to maintain the order, it can be change like we have to perform manipulation on data, Storing sequences mean sequence data like table, dynamic data mean data is coming and we have to store in order first come first server order. (we can't use list as dictionary key)\n",
        "\n",
        "2. Tuple\n",
        "* Ordered, immutable. Best to use for storing fixed collections, dictionary keys\n",
        "\n",
        "3. set\n",
        "* key:value paris, Best for Fast looups, structured data.\n",
        "* Unordered, Unique. Best for removing duplicates, set operations\n",
        "* When we need unorderd and unique collection, when we don't need indexing but need to store unique data or avoid duplicate data.\n",
        "\n",
        "5. Dictionary\n",
        "* Fast Lookups: Optimized for quick retrieval of values based on their associated keys.\n",
        "* Structured Data: Ideal for organizing and representing data with clear relationships between keys and values.\n",
        "* Efficiency with Large Datasets: Provide significantly faster data access compared to other structures like lists or sets when dealing with substantial amounts of data."
      ],
      "metadata": {
        "id": "1CjLdRghqxrT"
      }
    },
    {
      "cell_type": "markdown",
      "source": [
        "#Object-Oriented Programming (OOP) in Python\n",
        "* We'll now explore how to organize and structure your Python code using objects, making it more manageable, reusable, and easier to understand.\n",
        "1. What is OOP Anyway?\n",
        "* Imagine you're building with LEGOs. Instead of just having a pile of individual bricks (like in procedural programming), OOP lets you create pre-assmbed units like a car, a house, or a robot. This units have specific part (data) and things they can do (actions).\n",
        "**That's waht OOP is all about. It's a way of progamming that focuses on creating \"Objects.**\" An object is like a self-contained unti that bundles together:\n",
        "* **Data(Attributes):** Information about the object. For a car, this might its color, model, and speed.\n",
        "* **Action (Methods):** Things the object can do. A car can accelerate, break,  and turn.\n",
        "ex. suppose we want to create form boarding/book the train ticket, then this form contain the information like train number, passenger information like name, age, boarding station and destination etc. So, create this type of from we have to create class which contain this information, **Class** is blueprint / templated where we can declare the data (variable/information) and methods(action). So, using this class we can create object i.e. nothing but it is copy have class. by using Classes and object we can solve the real world problems.\n",
        "**What is Class?**\n",
        "Class is blueprint / tempate which hold the information like variables (information) and method (perform actiong using the information class have).\n",
        "Suppose, we have class car, car can have tire, body, brand, etc. calss contain all basic and needed infromation to work with real world problem.\n",
        "**What is object**\n",
        "Object is nothing but it's copy of class, by using objects we can use information call multiple time, we can modify the the tamplate provided by the class.\n",
        "ex. As we have have basic blueprint for class, so using the baisc blueprint we can create our own brand, we can modify the car model etc.\n",
        "* Why Bother with OOP?\n",
        "OOP offeres several advantages:\n",
        "* **Organization:** Your code becomes more structured and easier to navigate. Large projects become much more manageable.\n",
        "* **Reusability:** You can use the same object \"blueprints\" (Classes) multiple times, saving you from writing the same code over and over.\n",
        "* *Easier Debugging:** When something goes wrong, it's often easier to pinpoint the problem with a specific, self-contained object.\n",
        "* **Real World Modeling:** OOP allows you to present real-world things and their relationships in a natural way.\n",
        "\n",
        "## **The Four Pillars of OOP**\n",
        "OOP is built four fundamental principles:\n",
        "1. **Abstraction:** Hiding implimentaiton of of code, and providing the functionality to the user.\n",
        "* Think of driving a car, You see the steering wheel, pedals, and gearshift, but you don't need to know the complex engineering under the hood. Abstraction means hinding complex details and showing only essential information to the user.\n",
        "Ex. some time we use the methods, modules but we don't how it process it backend code for this.\n",
        "2. **Encapsulation:** This is like putting all the car's engine parts inside a protective casing. Encapsulation bundles data (attributes) and the method that opearate on the data **within a class**. This protects data from being accidentally changed or misused from outside the object. It controls access. (Bundalilng data and method together to create single entity.)\n",
        "3. ** Inheritance:** Imagine creating a \"SportsCar\" class. Instead of starting from scrattch, you can build it upon an existing \"Car\" class. The \"SportsCart\" inherits all the features of a \"Car\"* (Like wheels and engines) and adds it own special features (like a spoiler). This promotes, code reuse and reduces redundancy.\n",
        "(It just like building somthing on top of a basic stucture that's already built.)\n",
        "\n",
        "4. **Polymorphism\"**: \"Poly\" means many, and \"morph\" means forms. This means objects of different classes can respond to the the same \"message\" (method call) in their own specific way. For example, both a \"Dog\" and a \"Cat\" might have make_sound() method. The dog will bark, and the cat will mewo - same method name, different behaviour.\n",
        "\n",
        "## 2. Classes and Objects: The Blueprint and the Building\n",
        "\n",
        "* **Class:** Think of a class as a blueprint or a template. It defines what object will be like - What data it will hold and what actions it can perform. It doesn't create the object itself, just the instructions for creating it. It's like an architecutral plan for a house.\n",
        "\n",
        "* Object(Instance): An object is a specific instance / copy created from a the class blueprint. If \"Car\" is the class, then your red Honda Civic is and Object (an instance) of the \"Car\" class. Each Object has its own unique set of data. It's like the actual house built from the architectural plan."
      ],
      "metadata": {
        "id": "af1mGKX_bQND"
      }
    },
    {
      "cell_type": "code",
      "source": [
        "# Class\n",
        "class Employee:\n",
        "  company = \"HP\"\n",
        "  def get_salary(self):\n",
        "    print(self)# referes the current object. this print statement print memory location of objects.\n",
        "    return 34000\n",
        "# Object creation\n",
        "emp1 = Employee()\n",
        "print(f\"Salary of Employee1 {emp1.get_salary()}\")\n",
        "emp2 = Employee()\n",
        "print(f\"Salary of Employee2 {emp2.get_salary()}\")\n"
      ],
      "metadata": {
        "id": "dfjLc2XXqV71"
      },
      "execution_count": null,
      "outputs": []
    },
    {
      "cell_type": "markdown",
      "source": [
        "## Self\n",
        "* Inside a class, self is like saying \"this particular object.\" It's a way for the object ot refer to itself. It's always the first parameter in a method definiation, but python handles it automatically when you call the method. You don't type self when calling the method. Python inserts it for you.\n",
        "**Self** is basically references to the object which is being talked aobut i.e. current object suppose if we create objec1 then self is object1. **self referes the current object on which we are working or calling for**. suppose we create another object object2 then self is object2.\n",
        "* self is a way to reference the object of the class which is being created.\n",
        "* It is mandatory to use self as first parameter while creating the method inside the class."
      ],
      "metadata": {
        "id": "pUj517wBrrnm"
      }
    },
    {
      "cell_type": "markdown",
      "source": [
        "# Constructors in python: Setting Things UP (__init__)\n",
        "* The __init__ method is special. It's called the constructor. It's automatically run whenever you create a new object from a class.\n",
        "* **What's it for?**\n",
        "- constructor are used to initionlize the object. The constructors' job is to initialize the objets attributes - to give them their starting values. It sets up the inital state of the object."
      ],
      "metadata": {
        "id": "eo0YvYyBtils"
      }
    },
    {
      "cell_type": "code",
      "source": [
        "class Dog:\n",
        "  def __init__(self, name, breed): #the constructor\n",
        "  self.name=name # create an instance attibute / variable of self.name and assign it with name\n",
        "  self.breed=breed # setting the breed instance variable/ attribute\n",
        "\n",
        "  #when we do this:\n",
        "my_dog = Dog(\"Buddy\", \"Golden Retriever\") # The __init__ method is automatically called when we create object\n",
        "# it's like we're saying\n",
        "#1. create a new Dog class object i.e. my_dog and pass value to it\n",
        "#2. Run the __init__ method on this new object:\n",
        "# now it will set My_dog.name to 'Buddy' which is self.name in constructor.\n",
        "# and set my_dog.breed to \"Golden Retriver\""
      ],
      "metadata": {
        "id": "NVT7RfrwtiQL"
      },
      "execution_count": null,
      "outputs": []
    },
    {
      "cell_type": "markdown",
      "source": [
        "You can also set **default Values** for parameters in the constructor, making them optional when creating an object:"
      ],
      "metadata": {
        "id": "2fFUz-RP4km2"
      }
    },
    {
      "cell_type": "code",
      "source": [
        "class Dog:\n",
        "  def __init__(self, name=\"Unknown\", breed=\"mixed\"):\n",
        "    self.name=name\n",
        "    self.breed= breed\n",
        "dog1 = Dog() # name will be \"Unknown\", breed will be \"Mixed\"\n",
        "dog2= Dog(\"Rex\") #name will be \"Rex\", breed will be \"Mixed\"\n",
        "dog3= Dog(\"Max\", \"Labrador\") # name will be \"Max\", breed will be \"Labrador\""
      ],
      "metadata": {
        "id": "enVqzyMu461K"
      },
      "execution_count": null,
      "outputs": []
    },
    {
      "cell_type": "markdown",
      "source": [
        "##Instance attribute/variable and Class attibute/Variable\n",
        "1. **Class Attributes/Variables:** These are shared by all objects of the class. like speices in our Dob class. They are defined outside of any method, directly within the class. This are same for the all the objects which are created.\n",
        "* The class variable is access using classname.variblename\n",
        "2. **Instance Attributes/Variable:** These are specific to each individual object. It is belong's to particualr object. like name and breed are instance attribute/variable. Each dog has its own name and breed. They are usually defined within the __init__ mehtod. This are belong to particular object itself.   \n",
        "* The class variable is access using self.variblename"
      ],
      "metadata": {
        "id": "HKcdCRPo6EkG"
      }
    },
    {
      "cell_type": "code",
      "source": [
        "class Dog: # define a class called \"Dog\"\n",
        "  species = \"canis familiaris\" # define a class attribute called \"species\" with the value \"canis familiaris\" which is shared by all the objects of the class.\n",
        "\n",
        "  def __init__(self, name, breed): #The constructor\n",
        "    self.name=name\n",
        "    self.breed=breed\n",
        "\n",
        "  def bark(self):\n",
        "    print(f\"{self.name} syas Woof!\")\n",
        "\n",
        "#now, let's create some Dog Objects:\n",
        "my_dog=Dog(\"Buddy\", \"Golden Retriever\")\n",
        "another_dog=Dog(\"Lucky\", \"Labrador\")\n",
        "# We can access their attribute/variable\n",
        "print(my_dog.name) #Output: Buddy\n",
        "print(another_dog.breed) #output Larador\n",
        "#And make them perform actions:\n",
        "my_dog.bark() #Output: Buddy says Woof!\n",
        "\n",
        "print(Dog.species) # Accessing Class Attribute/ variable"
      ],
      "metadata": {
        "colab": {
          "base_uri": "https://localhost:8080/"
        },
        "id": "Kf7xgByt7evf",
        "outputId": "652fedd9-8e92-40c7-e364-19609a0c5ea3"
      },
      "execution_count": null,
      "outputs": [
        {
          "output_type": "stream",
          "name": "stdout",
          "text": [
            "Buddy\n",
            "Labrador\n",
            "Buddy syas Woof!\n",
            "canis familiaris\n"
          ]
        }
      ]
    },
    {
      "cell_type": "markdown",
      "source": [
        "**Object Introspection**\n",
        "is way to find all the methods and attribute which are present inside the method using dir() function."
      ],
      "metadata": {
        "id": "YkWAMT9e_SlE"
      }
    },
    {
      "cell_type": "code",
      "source": [
        "print(dir(my_dog))"
      ],
      "metadata": {
        "colab": {
          "base_uri": "https://localhost:8080/"
        },
        "id": "aHOFf8Eg_f5p",
        "outputId": "389abb52-a0df-44c1-f711-192715161f3d"
      },
      "execution_count": null,
      "outputs": [
        {
          "output_type": "stream",
          "name": "stdout",
          "text": [
            "['__class__', '__delattr__', '__dict__', '__dir__', '__doc__', '__eq__', '__format__', '__ge__', '__getattribute__', '__getstate__', '__gt__', '__hash__', '__init__', '__init_subclass__', '__le__', '__lt__', '__module__', '__ne__', '__new__', '__reduce__', '__reduce_ex__', '__repr__', '__setattr__', '__sizeof__', '__str__', '__subclasshook__', '__weakref__', 'bark', 'breed', 'name', 'species']\n"
          ]
        }
      ]
    },
    {
      "cell_type": "markdown",
      "source": [
        "##4. Inheritance: Building Upon Existing Classes.\n",
        "* Inheritance is like a family tree. A child class (or subclass) inheritts traits(attributes and methods) from its parent class(or superclass). This allows you to create new classes that are specilized versions of existing classes, without rewriting all the code.\n",
        "* Sub class have all the properties of it's super class.\n",
        "* In python we create subclass, and inside parenthesis we pass the Parent class Name. So, this subclass inherit the property from its parent. So, do need to declare them we just directly use them or we can overried them as per need of supclass.\n"
      ],
      "metadata": {
        "id": "m8XED3QFd8s8"
      }
    },
    {
      "cell_type": "code",
      "source": [
        "class Animal: #Parent Class(Super Class)\n",
        "  def __init__(self,name):\n",
        "    self.name=name\n",
        "\n",
        "  def speak(self):\n",
        "    print(\"Generic Animal Sound\")\n",
        "\n",
        "class Dog(Animal): #Child Class(Sub Class) inherits from animal (Dog is subclass)\n",
        "\n",
        "  def speak(self):# We Override the speak method\n",
        "    print(f\" says Woof!\")\n",
        "\n",
        "class Cat(Animal):\n",
        "  def speak(self):\n",
        "    print(f\" Sys Meow!)\")\n",
        "#create object of Animal\n",
        "animal= Animal(\"Generic\")\n",
        "animal.speak()\n",
        "\n",
        "#create objects of Dog class.\n",
        "my_dog= Dog(\"Tom\") # this contains all attributes in Animal class and it's own properties also.\n",
        "my_dog.speak() # This is method present in animal class which is override in Dog class."
      ],
      "metadata": {
        "colab": {
          "base_uri": "https://localhost:8080/"
        },
        "id": "40tX7SMpelOg",
        "outputId": "b1459471-58b7-492b-e789-896e36095783"
      },
      "execution_count": null,
      "outputs": [
        {
          "output_type": "stream",
          "name": "stdout",
          "text": [
            "Generic Animal Sound\n",
            " says Woof!\n"
          ]
        }
      ]
    },
    {
      "cell_type": "markdown",
      "source": [
        "* **Super()**\n",
        "Inside Child class, super() lets you call methods from the parent class. This is useful when you want to extend the parent's behavior instead of completely replacing it. It's especially important when intializing the parent class' part of child object.\n",
        "* In, python by using super() function/method we can call the method of superclass in sub class. Basically super() methd getting the instance of parent class and calling its method. (Super() method get the instance of parent class then call it's method. )\n",
        "* this method returns temporary object of superclass so we can call the methods and attributes without explicitly nameing the parent class. We can initialize the parent attribute from sub class using super()."
      ],
      "metadata": {
        "id": "Wk2jJ25GlyTH"
      }
    },
    {
      "cell_type": "code",
      "source": [
        "class Tiger(Animal):\n",
        "  def speak(self):\n",
        "    super().speak() # We are using the speak function of the parent class.\n",
        "tg=Tiger(\"King\")\n",
        "tg.speak()"
      ],
      "metadata": {
        "colab": {
          "base_uri": "https://localhost:8080/"
        },
        "id": "Yiny2zM8msLb",
        "outputId": "5a2b46f6-942e-4971-a54d-f2fcc1edf417"
      },
      "execution_count": null,
      "outputs": [
        {
          "output_type": "stream",
          "name": "stdout",
          "text": [
            "Generic Animal Sound\n"
          ]
        }
      ]
    },
    {
      "cell_type": "code",
      "source": [
        "''' Multiple inheritance\n",
        "\n",
        "The primary advantage of using super() becomes more apparent in\n",
        "multiple inheritance scenarios, where it helps to resolve\n",
        "the Method Resolution Order (MRO) and ensures that the\n",
        "correct next class's method is called in the MRO.\n",
        "'''\n",
        "class Animal:\n",
        "    def __init__(self, animal_type):\n",
        "        print(animal_type, 'is an animal.')\n",
        "\n",
        "class Mammal(Animal):\n",
        "    def __init__(self, mammalName):\n",
        "        print(mammalName, 'is a warm-blooded animal.')\n",
        "        super().__init__(mammalName)\n",
        "\n",
        "class NonWingedMammal(Mammal):\n",
        "    def __init__(self, NonWingedMammal):\n",
        "        print(NonWingedMammal, \"can't fly.\")\n",
        "        super().__init__(NonWingedMammal)\n",
        "\n",
        "class NonMarineMammal(Mammal):\n",
        "    def __init__(self, NonMarineMammal):\n",
        "        print(NonMarineMammal, \"can't swim.\")\n",
        "        super().__init__(NonMarineMammal)\n",
        "\n",
        "class Dog(NonMarineMammal, NonWingedMammal):\n",
        "    def __init__(self):\n",
        "        print('Dog has 4 legs.')\n",
        "        super().__init__('Dog')\n",
        "\n",
        "d = Dog()"
      ],
      "metadata": {
        "colab": {
          "base_uri": "https://localhost:8080/"
        },
        "id": "dIppxUQ54ZYv",
        "outputId": "877936b1-85d4-45fe-b38e-cd89ca19a3f1"
      },
      "execution_count": null,
      "outputs": [
        {
          "output_type": "stream",
          "name": "stdout",
          "text": [
            "Dog has 4 legs.\n",
            "Dog can't swim.\n",
            "Dog can't fly.\n",
            "Dog is a warm-blooded animal.\n",
            "Dog is an animal.\n"
          ]
        }
      ]
    },
    {
      "cell_type": "markdown",
      "source": [
        "## Operator Overloading\n",
        "* Python lets you define how standard operators(Like +, -, ==) behave when used with objects of your own classes. This is done using special methods called \"magic methods\" (or \"Dunder methods\" because they have double undersocres before and after the name).\n"
      ],
      "metadata": {
        "id": "tYXUNHD3oGOX"
      }
    },
    {
      "cell_type": "code",
      "source": [
        "class point:\n",
        "    def __init__(self, x, y):\n",
        "        self.x=x\n",
        "        self.y=y\n",
        "\n",
        "    def sum(self, p):\n",
        "\n",
        "        return point((self.x + p.x), (self.y + p.y))\n",
        "    def print_point(self):\n",
        "        return f\"x is {self.x} and y is {self.y}\"\n",
        "    def __add__(self, p): #overloading the + operator\n",
        "        return point((self.x + p.x), (self.y+p.y))\n",
        "p1=point(1,2)\n",
        "p2 =point(2,4)\n",
        "# p = p1.sum(p2) #Returns a new point which is sum of p1 and p2.\n",
        "p = p1 + p2 # We overloaded the + Operator by writing __add__() function\n",
        "print(p.print_point())"
      ],
      "metadata": {
        "colab": {
          "base_uri": "https://localhost:8080/"
        },
        "id": "Reho-hJauNFi",
        "outputId": "ff9edbad-9015-4074-e037-dda0f5b14ecd"
      },
      "execution_count": null,
      "outputs": [
        {
          "output_type": "stream",
          "name": "stdout",
          "text": [
            "x is 3 and y is 6\n"
          ]
        }
      ]
    },
    {
      "cell_type": "markdown",
      "source": [
        "* **Other Useful magic methods:** (You don't need memorize them all, but be aware they exist!)\n",
        "* __sub__(-), __mul__(*), __truediv__(/), __eq___(==), __ne__(!=), __lt__(<), __gt__(>), __len__(len()), __getitem__, __setitem__, __delitem__ (for list/dictionary-like behavior - allowing you to use [] with your objects.)\n"
      ],
      "metadata": {
        "id": "qxP12l3buUlw"
      }
    },
    {
      "cell_type": "markdown",
      "source": [
        "#Python: Advanced Concept\n",
        "This section convers several advanced concepts in Python, including decorators, getters and setter, static and class methods, magic methods, exception handling, map/filter/reduce, the walrus operator, and *args/**kwargs.\n",
        "\n",
        "#Decorators in Python\n",
        "**Introduction**\n",
        "* Decoratros in python are a powerful and expressive feature that allows you to modify or enhance functions and methods in a clean and readable way. They provide a way to wrap additional functionality around an existing function without parmanetly modifying it. This is often reffered to as metaprogramming, where one part of the program tries to modify another part of the program at compile time.\n",
        "* Decorators use python's higher-order functtion capability, meaning functions can accept other functions as argumetns and return new functions.\n",
        "###Understanding Decorators\n",
        "A decomrator is simply a callable (usually a function) that make another function as an argument and return a replacement function. The replacement function typically extends or alters the behavior of the original function.\n",
        "* **Decorators in python are a very powerful feautre because they allow us to enhance or modify the existing functions.**\n",
        "* it's function that takes a function and creates a new function and then return that creatd function. as it return the function we have to store in some variable now this variable contain the method so we have to call this as an function.  "
      ],
      "metadata": {
        "id": "I2BhszotuuyE"
      }
    },
    {
      "cell_type": "code",
      "source": [
        "'''Syntax of decorators\n",
        "'''\n",
        "#Decorator is a function that takes a function, it create a new function inside its boyd\n",
        "# (wrapper). Then it returns that new function.\n",
        "def decoractor(func):\n",
        "  def wrapper():\n",
        "    print(\"I am about to execute a function...\")\n",
        "    func()\n",
        "    print(\"I have exectured this function...\")\n",
        "  return wrapper\n",
        "def say_hello():\n",
        "  print(\"Hello\")\n",
        "f=decoractor(say_hello) # this decoractor take function and return the function the we store this in f and then we call f as an function.\n",
        "f()\n",
        "'''f is look like inside\n",
        "  def f():\n",
        "    print(\"I am about to execute a function...\")\n",
        "    say_hello()\n",
        "    print(\"I have exectured this function...\")\n",
        "'''\n",
        "\n"
      ],
      "metadata": {
        "colab": {
          "base_uri": "https://localhost:8080/"
        },
        "id": "p21GOwpcxWNE",
        "outputId": "9b26046c-7cac-4149-d8fb-6e195d4da623"
      },
      "execution_count": null,
      "outputs": [
        {
          "output_type": "stream",
          "name": "stdout",
          "text": [
            "I am about to execute a function...\n",
            "Hello\n",
            "I have exectured this function...\n"
          ]
        }
      ]
    },
    {
      "cell_type": "markdown",
      "source": [
        "####How it's work\n",
        "1. when we call decorator() and when we pass say_hello as an argument to func in decorator. then it return the wrapper().\n",
        "2. we store this wrappr() in f variable, it containing the wrapper(). when we call the f() then it run wrappr() execute the 1 satement then run the method which we pass and then run the 2nd statement."
      ],
      "metadata": {
        "id": "W6zy4DiI3xSZ"
      }
    },
    {
      "cell_type": "markdown",
      "source": [
        "* Decorating the the function simply changes that function forever. So sometime we use docorators to change the functionalities fo existing funcitons."
      ],
      "metadata": {
        "id": "xq4GAMto6Vxg"
      }
    },
    {
      "cell_type": "code",
      "source": [
        "@decoractor # we use @decorator to decorate the function.\n",
        "def say_hello():\n",
        "  print(\"hello\")\n",
        "say_hello()"
      ],
      "metadata": {
        "colab": {
          "base_uri": "https://localhost:8080/"
        },
        "id": "yY62U0Xu6szy",
        "outputId": "5c6be3db-7452-4a9e-8d11-9d4885aaa942"
      },
      "execution_count": null,
      "outputs": [
        {
          "output_type": "stream",
          "name": "stdout",
          "text": [
            "I am about to execute a function...\n",
            "hello\n",
            "I have exectured this function...\n"
          ]
        }
      ]
    },
    {
      "cell_type": "markdown",
      "source": [
        "* Here, @deocrator is syntatic sugar for say_hello=decorator(say_hello). it modifies the behavior of say_hello by wripping it inside wrapper(). The wrapper function adds behavior before and after original fucntion."
      ],
      "metadata": {
        "id": "qkkFyUna7P80"
      }
    },
    {
      "cell_type": "markdown",
      "source": [
        "## Using Decorators with Arguments\n",
        "* Decorators themselves can also accept arguments. This requries another level of nesting: an outer function that take the decorator's arguments and the returns the actual decorator function."
      ],
      "metadata": {
        "id": "XApzSqin9Dl5"
      }
    },
    {
      "cell_type": "code",
      "source": [
        "def repeate(n):\n",
        "    def decorator(fun):\n",
        "        def wrapper(a):\n",
        "            for i in range(n):\n",
        "                fun(a)\n",
        "        return wrapper\n",
        "    return decorator\n",
        "\n",
        "@repeate(7)\n",
        "def say_hello(a):\n",
        "    print(f\"Hello, {a}\")\n",
        "\n",
        "say_hello(\"Saurav\")\n",
        "\n",
        "'''\n",
        "def decorator(fun):\n",
        "    def wrapper(a):\n",
        "        for i in range(n):\n",
        "            say_hello(a)\n",
        "    return wrapper\n",
        "'''"
      ],
      "metadata": {
        "id": "On47XPbw_f4S"
      },
      "execution_count": null,
      "outputs": []
    },
    {
      "cell_type": "markdown",
      "source": [
        "###How it works\n",
        "* As, we are accepting the argument so we wrap/nested the decorator inside the repate() which accept the argument. Then decorator accept the function as an arguement, then we create the wrapper method which accept the argument from function we are passing to decorator, then we pass this argument to method itself. now decorator method will return the wrapper method and repate method will return the decorator."
      ],
      "metadata": {
        "id": "GaGdxSgy_gzn"
      }
    },
    {
      "cell_type": "markdown",
      "source": [
        "In This example, repeat(7) returns the decorator function. The @ syntax then applies that returned decorator to say_hello. The argument in the wrapper function ensures that the decorator can be used with function that take any number of poisitonal and keyword argument."
      ],
      "metadata": {
        "id": "N3gwMn5OBKSm"
      }
    },
    {
      "cell_type": "markdown",
      "source": [
        "##Chaining Multiple Decorators\n",
        "Your can apply multiple decorators to a single function. Decorators are applied from bottom to top (or, equivlently, from the innermost to the outermost)"
      ],
      "metadata": {
        "id": "ctwzHB9IByp3"
      }
    },
    {
      "cell_type": "code",
      "source": [
        "def uppercase(func):\n",
        "  def wrapper():\n",
        "    return func().upper()\n",
        "  return wrapper\n",
        "\n",
        "def exclaim(func):\n",
        "  def wrapper():\n",
        "    return func()+\"!!!\"\n",
        "  return wrapper\n",
        "@uppercase\n",
        "@exclaim\n",
        "def greet():\n",
        "  return \"hello\"\n",
        "\n",
        "print(greet())"
      ],
      "metadata": {
        "colab": {
          "base_uri": "https://localhost:8080/"
        },
        "id": "KcVx7X2gCFOj",
        "outputId": "795e5bcf-e7ac-45d0-fb44-da50bc50dad9"
      },
      "execution_count": null,
      "outputs": [
        {
          "output_type": "stream",
          "name": "stdout",
          "text": [
            "HELLO!!!\n"
          ]
        }
      ]
    },
    {
      "cell_type": "markdown",
      "source": [
        "Here, greet is first decorated by exclaim, and then the result of that is decorated by uppercase. It's equivalent to greet=uppercase(exclaim(greet))."
      ],
      "metadata": {
        "id": "NISkCTYDCqvZ"
      }
    },
    {
      "cell_type": "markdown",
      "source": [
        "###Recap\n",
        "Decorator are a key feature in python that enable code reusability and cleaner function modification. They are commonly used for:\n",
        "* **Logging**: Recording when a function is called and it's arguments.\n",
        "* **Timing**: Measuring how long a function takes to execute.\n",
        "* **Authentication and Authorization**: Checking if a user has permission to access a function.\n",
        "* **Caching**: Storing the results of a function call so that subsequent calls with the same arguments can be returned quickly.\n",
        "* **Rate Limitation**: Controlling how often a function can be called.\n",
        "* **Input Validation**: Checking if the argumnets to a function meet certain criteria.\n",
        "* **Instrumentation**: Adding monitoring and profiling to functions. What is happening when functiion inside the function is taking cup usage and time etc."
      ],
      "metadata": {
        "id": "tzjHIqYCC3v8"
      }
    },
    {
      "cell_type": "markdown",
      "source": [
        "Framework like flask and Django use decorators extensively for routing, authentication, and defining middleware."
      ],
      "metadata": {
        "id": "euG5SZKBD6yu"
      }
    },
    {
      "cell_type": "markdown",
      "source": [
        "# Geeters and Setters: Controlling Access to Attribute/variable\n",
        "* In Objec-oriented programming, getter and setters are methods used to control access to an object's attributes (also know as properties or instance vriables.) They provide a way to encapsulate the internal represntaion of an object, allowing you to validate data, enforce constraints, and perform other operations when an attibute is accessed or modified. While python donesn't have private variable in the same way as languatges like Java, the convention is to use a lead (double underscore __) to indicate than an attribute is inted for interal use.\n",
        "Using getters and setter helps:\n",
        "* Encapsulate data and enforce validation: You can check if the new value meets certain criteria before assigning it.\n",
        "* **Control access to \"private\" attributes:** By convention, attributes starting with an double conderscore are considered private, and external code should use getter/setter insetad of direct access.\n",
        "* **Make the code more maintainable:** Changes to the internal representation of an object don't necessarily require changes to code that uses the objects.\n",
        "* **Add additional logic:** Logic can be added when getting or setting attributes.\n",
        "\n",
        "Getters and setter are methods that you create to control how attributes/variable of your class are accessed and modified. They are a key part of the principle of *encapsulation*. Instead of directly accessing an attribute (like my_object.attribute), you use methods to get and set its values. This might seem like extra work, but it provides significant advantages"
      ],
      "metadata": {
        "id": "Np1YJalNFNK6"
      }
    },
    {
      "cell_type": "markdown",
      "source": [
        "###Why use them\n",
        "* **Validation:** You can add checks within the setter to make sure the attribute is set to a valid value. For example, you could prevent an age from being negative.\n",
        "* **Read-Only Attributes:** You can create a getter without a setter, making the attibute effectively read-only from outside the class. This protects the attibutes from being changes accidentally.\n",
        "* **Side Effects:** You can perform other actions when an attriubute is accessed or modified. For instance, you could update a disply or log change whenever a value is set.\n",
        "* **Maintainability and Felxibility:** If you decide to change how an attribute is sotred internally (maybe you switch from storing degrees Celsius to Fahrenheit), you only need to update the getter and setter methods. You don't need to change every other part of your code that uses the attribute. This make your code much easier to maintain and modify in the future."
      ],
      "metadata": {
        "id": "sPLdbqkzQAv3"
      }
    },
    {
      "cell_type": "code",
      "source": [
        "class Person:\n",
        "  def __init__(self, name, age):\n",
        "    self.name=name\n",
        "    self.__age=age #define private attribute / variable using the dobule undersocre\n",
        "  def get_age(self): #getter for age\n",
        "    return self.__age\n",
        "  def set_age(self, new_age): #setter for age\n",
        "    if new_age>=0 and new_age<=120: #Validation\n",
        "      self.__age=new_age\n",
        "    else:\n",
        "      print(\"Age cannot be negative\")\n",
        "person = Person(\"Ram Kumar\", 23)\n",
        "print(person.get_age())\n",
        "person.set_age(25)\n",
        "print(person.get_age())\n",
        "person.set_age(-5)\n",
        "print(person.get_age())\n",
        "\n"
      ],
      "metadata": {
        "colab": {
          "base_uri": "https://localhost:8080/"
        },
        "id": "HeJBqNsjRSCr",
        "outputId": "25f0cb23-26cf-4055-d256-f4c2f616730c"
      },
      "execution_count": null,
      "outputs": [
        {
          "output_type": "stream",
          "name": "stdout",
          "text": [
            "23\n",
            "25\n",
            "Age cannot be negative\n",
            "25\n"
          ]
        }
      ]
    },
    {
      "cell_type": "markdown",
      "source": [
        "## The Pythonic Way: @property Decorator\n",
        "Python  provides a more elegant and concise way to impelments getters and setters using the @property decorator. This allows you to access and modify attributes using the usual dot notation(eg. p.name) while stil havin the benefits of getter and setter methods.\n"
      ],
      "metadata": {
        "id": "xMTG0DqMS4r3"
      }
    },
    {
      "cell_type": "code",
      "source": [
        "class Person:\n",
        "  def __init__(self, name, age):\n",
        "    self.name=name\n",
        "    self.__age=age\n",
        "  @property # this makes 'age' a property (the getter)\n",
        "  def age(self):\n",
        "    return self.__age\n",
        "  @age.setter #this defines the setter for the 'age' property\n",
        "  def age(self, new_age):\n",
        "    if new_age>=0 and new_age<=120:\n",
        "      self.__age=new_age\n",
        "    else:\n",
        "      print(\"Age is not updated. Invalid Age\")\n",
        "person = Person(\"Mukesh Kumar\", 53)\n",
        "print(person.age)\n",
        "person.age=25\n",
        "print(person.age)\n",
        "person.age=-5\n",
        "print(person.age)\n"
      ],
      "metadata": {
        "colab": {
          "base_uri": "https://localhost:8080/"
        },
        "id": "50BKNj8sTPOy",
        "outputId": "67b6b130-2586-48af-bbce-c0fe6e7ebab6"
      },
      "execution_count": null,
      "outputs": [
        {
          "output_type": "stream",
          "name": "stdout",
          "text": [
            "53\n",
            "25\n",
            "Age is not updated. Invalid Age\n",
            "25\n"
          ]
        }
      ]
    },
    {
      "cell_type": "markdown",
      "source": [
        "With @property, accessing and setting the age attribute looks like you're working directly with a regular attribute, but you're actually using the getter and setter method behind the secenes. This combines the convenience of direct access with the control and protection of encapsulation.\n",
        "\n",
        "**@property** convert the getter function to attribute which look like attribute but it method. to set the setter we have to use the same name as we gave to the getter method. then @method_name.setter convert the setter method to the attribute/property."
      ],
      "metadata": {
        "id": "9rx-2C6kUaE3"
      }
    },
    {
      "cell_type": "markdown",
      "source": [
        "To make an attibute read-only, define just @property decorator (the getter) and leave out the name @name.setter method. Trying to set the attibute will result in an AttributeError.  "
      ],
      "metadata": {
        "id": "bNjfKgcZJVk6"
      }
    },
    {
      "cell_type": "markdown",
      "source": [
        "**Benefits of @property:**\n",
        "* **Attribute-like access:** You can use obj.name instead of obj.get_name() and obj.set_name(), making the code cleaner and more readable\n",
        "* **Consistent interface:** The external interface of your class remains consistent even if you later decide to add validation or other logic to the getter or setter.\n",
        "* **Read-only properties:** You can create read-only properties by simply omitting the @property.setter method (see the next section).\n",
        "* @property.deleter:** deletes a property. here is an example"
      ],
      "metadata": {
        "id": "MZAoOxhb-R5T"
      }
    },
    {
      "cell_type": "code",
      "source": [
        "class Person:\n",
        "  def __init__(self, name):\n",
        "    self.__name=name\n",
        "  @property\n",
        "  def name(self):\n",
        "    return self.__name\n",
        "  @name.setter\n",
        "  def name(self, name):\n",
        "    self.__name=name\n",
        "\n",
        "  @name.deleter\n",
        "  def name(self):\n",
        "    del self.__name\n",
        "\n",
        "p = Person(\"Johan\")\n",
        "print(p.name)\n",
        "del p.name #property  is deleted.\n",
        "print(p.name)\n",
        "\n"
      ],
      "metadata": {
        "id": "9wbY05I1_FLl"
      },
      "execution_count": null,
      "outputs": []
    },
    {
      "cell_type": "markdown",
      "source": [
        "###**Read_Only Properties**\n",
        "If you want an attribute to be read-only the @proprety decorator (the getter) and omit the @name.setter method. Attempting to set the attribute well then rise an AttributeError.\n",
        "\n"
      ],
      "metadata": {
        "id": "Gtl2vDrvA5Gg"
      }
    },
    {
      "cell_type": "code",
      "source": [
        "class Circle:\n",
        "  def __init__(self,radius):\n",
        "    self.__radius = radius\n",
        "\n",
        "  @property\n",
        "  def radius(self):\n",
        "    return self.__radius\n",
        "  @property\n",
        "  def area(self):#Read-only computed property\n",
        "    return 3.14 * self.__radius **2\n",
        "\n",
        "c = Circle(5)\n",
        "print(c.radius)\n",
        "print(c.area)\n",
        "#c.radius = 10 Raises AttriubteError: can't set attribute\n",
        "#c.area=20 Raises attributeError: Can't set attribute\n"
      ],
      "metadata": {
        "id": "v_8A3wSEBNdW"
      },
      "execution_count": null,
      "outputs": []
    },
    {
      "cell_type": "markdown",
      "source": [
        "####Recap\n",
        "* **Getter and Setters:** Provide controlled access to an object's attriubtes, promoting encapsulation and data validation.\n",
        "* The @property decorator offers a cleanre and more Pythonic way to implements getters, and setters, allowing attriubte-like access.\n",
        "* You can create Read-Only properties by defining only a getter(using @property without a corresponding @attribute.setter)\n",
        "*Using @property, you can dynamically compute values (Like the area in cirlce example) while maintaining an attribute-like syntax."
      ],
      "metadata": {
        "id": "eakF-07vCB1B"
      }
    },
    {
      "cell_type": "markdown",
      "source": [
        "#Static and Class Methods in Python\n",
        "* When we declare the class variable then we can access it using classname or using objects also. We can access the instance variable using the classname if we try then it will throw an error.\n",
        "###Introduction\n",
        "In Python, methods withing a class can be of three main types:\n",
        "* **Instance Methods:** These are the most common type of method. They operate on instances of the class (objects) and have access to the instance's data through the self parameter.\n",
        "* **Class Methods:** These methods are bound to the class itself, not to any particular instance. They have access to class-level attribute and can be used to modify the class state. They recive the class itself(Conventionally name cls) as the first argument.\n",
        "* **Static methods:** These methods are associated with the class, but they don't have access to either the instance (slef) or the class (cls). They are essentially regurlar functions that are logically grouped within a class for organizational purpose.\n",
        "\n"
      ],
      "metadata": {
        "id": "Nd3ZDC6-CwCm"
      }
    },
    {
      "cell_type": "code",
      "source": [
        "class Employee:\n",
        "  company=\"HP\" #class variable\n",
        "  def __init__(self, name, salary):\n",
        "    self.salary=salary\n",
        "\n",
        "  def print_info(self): #instance method\n",
        "    return f\"Name is {self.name} and salary is {self.salary}\"\n",
        "\n",
        "\n",
        "e1= Employee(\"Jack\", 4000)\n",
        "e2=Employee(\"Jill\", 5000)\n",
        "print(e1.company) #accessing class variable using the object\n",
        "print(e2.company)\n",
        "print(Employee.company) #accessing class variable using the class.\n",
        "# print(Employee.name) throw error while calling instance variable using class. AttributeError: type object 'Employee' has no attribute 'name'\n",
        "\n"
      ],
      "metadata": {
        "colab": {
          "base_uri": "https://localhost:8080/"
        },
        "id": "N6gaWTyPSUHm",
        "outputId": "ab323f71-4661-4dfc-8c6f-bee8435309e9"
      },
      "execution_count": 19,
      "outputs": [
        {
          "output_type": "stream",
          "name": "stdout",
          "text": [
            "HP\n",
            "HP\n",
            "HP\n"
          ]
        }
      ]
    },
    {
      "cell_type": "markdown",
      "source": [
        "1. Instance Method (Default Behavior)\n",
        "* Intance methods are default type of method in Python classes. They require an instance of the class to be called, and they automatically receive the instance as the first argument(self)."
      ],
      "metadata": {
        "id": "T2OzreWAUIDE"
      }
    },
    {
      "cell_type": "code",
      "source": [
        "class Employee:\n",
        "  company=\"HP\" #class variable\n",
        "  def __init__(self, name, salary):\n",
        "    self.salary=salary\n",
        "    self.name=name\n",
        "\n",
        "  def print_info(self): #instance method\n",
        "    return f\"Name is {self.name} and salary is {self.salary}\"\n",
        "\n",
        "e = Employee(\"John\", 5000)\n",
        "info=e.print_info()\n",
        "print(info)"
      ],
      "metadata": {
        "colab": {
          "base_uri": "https://localhost:8080/"
        },
        "id": "dYFD_MTtUf7K",
        "outputId": "cebf3bea-94f0-4b1a-ec77-f945db94c540"
      },
      "execution_count": 20,
      "outputs": [
        {
          "output_type": "stream",
          "name": "stdout",
          "text": [
            "Name is John and salary is 5000\n"
          ]
        }
      ]
    },
    {
      "cell_type": "markdown",
      "source": [
        "When we have a situation where we don't want to pass the instance tobe passed to the method then we can the static method. *In a case of instance method first arguement is always the self i.e. reference to instance which pass automatically while calling instance method*\n",
        "2. Static Method (@staticmethod)\n",
        "* Static method are marked with the @staticmethod decoarator. They are similar to regular functions, except they are defined withing the scope of a class.\n",
        "* They don't take self or cls as parameters.\n",
        "* They are useful when a method is logically related to a class but doesn't need to access or modify the instance or class state.\n",
        "* Often used for utility functions that are related to the class.\n",
        "* we write the static method when we don't want any association with the instance of class."
      ],
      "metadata": {
        "id": "zsny_xetVwIp"
      }
    },
    {
      "cell_type": "code",
      "source": [
        "class Math:\n",
        "  __company=\"HP\"\n",
        "  @staticmethod\n",
        "  def add(x,y):\n",
        "    return x+y\n",
        "  @property\n",
        "  def company(self):\n",
        "    return self.__company\n",
        "  @company.setter\n",
        "  def company(self, name):\n",
        "    self.__company=name\n",
        "  @company.deleter\n",
        "  def company(self):\n",
        "    del self.__company\n",
        "\n",
        "print(Math.add(2,3))"
      ],
      "metadata": {
        "colab": {
          "base_uri": "https://localhost:8080/"
        },
        "id": "9DBrShZ8XSf2",
        "outputId": "f2a942c9-c4cb-4313-e183-8c853b2ad7ce"
      },
      "execution_count": 21,
      "outputs": [
        {
          "output_type": "stream",
          "name": "stdout",
          "text": [
            "5\n"
          ]
        }
      ]
    },
    {
      "cell_type": "code",
      "source": [],
      "metadata": {
        "id": "TAb_H801XWRa"
      },
      "execution_count": 21,
      "outputs": []
    },
    {
      "cell_type": "markdown",
      "source": [
        "3. Class Methods(@classmethod)\n",
        "* A class method is marked with the @classmethod decorator. It takes the class itself (cls) as its first parameter, rather than the instance (self). Class method are often used for:\n",
        "* **Modifying class attributes:** They can change the state of the class, which affects all instances of the class.\n",
        "* **Factory methods** They can be used as alternative constructor to create instance of the class in different ways.\n",
        "* cls refers the class. we can access the class variable using cls in class method.\n",
        "* When we try to find an attribute inside the object then it will look for instance variable if not found then it will look for class varialbe.  "
      ],
      "metadata": {
        "id": "MicGr17fZ148"
      }
    },
    {
      "cell_type": "code",
      "source": [
        "class Animal:\n",
        "  species= \"Mammal\" #class attribute\n",
        "\n",
        "  @classmethod\n",
        "  def set_species(cls, species):\n",
        "    cls.species=species\n",
        "  @classmethod\n",
        "  def get_species(cls):\n",
        "    return cls.species\n",
        "print(Animal.get_species())\n",
        "Animal.set_species(\"Reptile\")\n",
        "print(Animal.get_species())\n",
        "\n",
        "a = Animal()\n",
        "print(a.species)\n",
        "\n",
        "Animal.set_species(\"Fungies\")\n",
        "print(a.species)"
      ],
      "metadata": {
        "colab": {
          "base_uri": "https://localhost:8080/"
        },
        "id": "PNZfh3Y4am8k",
        "outputId": "252e6e8c-3a1f-4736-fa1a-47d4646f6c2a"
      },
      "execution_count": 23,
      "outputs": [
        {
          "output_type": "stream",
          "name": "stdout",
          "text": [
            "Mammal\n",
            "Reptile\n",
            "Reptile\n",
            "Fungies\n"
          ]
        }
      ]
    },
    {
      "cell_type": "code",
      "source": [
        "#Alternative Constructor\n",
        "class Person:\n",
        "  def __init__(self,name, age):\n",
        "    self.name=name\n",
        "    self.age=age\n",
        "\n",
        "  @classmethod\n",
        "  def from_string(cls, string):\n",
        "    name, age = string.split(\"_\")\n",
        "    return cls(name, int(age)) #created a new Person instance\n",
        "p = Person.from_string(\"John_25\")\n",
        "print(p.name)\n",
        "print(p.age)"
      ],
      "metadata": {
        "colab": {
          "base_uri": "https://localhost:8080/"
        },
        "id": "fxYZkrMOdBr6",
        "outputId": "83327eee-e4dd-4d40-b950-363d16a08718"
      },
      "execution_count": 25,
      "outputs": [
        {
          "output_type": "stream",
          "name": "stdout",
          "text": [
            "John\n",
            "25\n"
          ]
        }
      ]
    },
    {
      "cell_type": "markdown",
      "source": [
        "In the above example, from_string acts as a factory method, providing an alternative way to create Person objects from a string."
      ],
      "metadata": {
        "id": "yRm7xvDwduTw"
      }
    },
    {
      "cell_type": "markdown",
      "source": [
        "###When to Use Static Methods?\n",
        "* When a method is logically realted to class but doesn't require access to instance-specific or class-pecific data.\n",
        "* For utility functions that perform operationn realted to the class's purpose(e.g. mathematical claculation, string formatting, validation checks.)\n",
        "\n"
      ],
      "metadata": {
        "id": "KHTnbcLJeE2g"
      }
    },
    {
      "cell_type": "markdown",
      "source": [
        "| Method Type      | Requires self ? | Requires cls ? | Can Access Instance Attributes? | Can Modify Class Attributes? |\n",
        "|------------------|-----------------|-----------------|---------------------------------|------------------------------|\n",
        "| Instance Method  | ✅ Yes          | ❌ No          | ✅ Yes                          | ✅ Yes (indirectly)           |\n",
        "| Class Method     | ❌ No           | ✅ Yes          | ❌ No (directly)               | ✅ Yes                       |\n",
        "| Static Method    | ❌ No           | ❌ No          | ❌ No                           | ❌ No                        |\n"
      ],
      "metadata": {
        "id": "GaD5mAk3hRRP"
      }
    }
  ]
}