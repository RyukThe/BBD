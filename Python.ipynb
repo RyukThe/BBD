{
  "nbformat": 4,
  "nbformat_minor": 0,
  "metadata": {
    "colab": {
      "provenance": [],
      "authorship_tag": "ABX9TyPmSwiy/4q97j47kf2225Hs",
      "include_colab_link": true
    },
    "kernelspec": {
      "name": "python3",
      "display_name": "Python 3"
    },
    "language_info": {
      "name": "python"
    }
  },
  "cells": [
    {
      "cell_type": "markdown",
      "metadata": {
        "id": "view-in-github",
        "colab_type": "text"
      },
      "source": [
        "<a href=\"https://colab.research.google.com/github/RyukThe/BBD/blob/master/Python.ipynb\" target=\"_parent\"><img src=\"https://colab.research.google.com/assets/colab-badge.svg\" alt=\"Open In Colab\"/></a>"
      ]
    },
    {
      "cell_type": "markdown",
      "source": [
        "print(\"Hello Wrold!!!\")"
      ],
      "metadata": {
        "id": "y2SrN0vTWygA"
      }
    },
    {
      "cell_type": "markdown",
      "source": [
        "print() method is used to print something on the console"
      ],
      "metadata": {
        "id": "b113sWECXEec"
      }
    },
    {
      "cell_type": "code",
      "source": [
        "a=3\n",
        "print(a)"
      ],
      "metadata": {
        "colab": {
          "base_uri": "https://localhost:8080/"
        },
        "id": "n3WydFAyW-LS",
        "outputId": "38bcadad-2d56-4231-df63-f1a6b8f09709"
      },
      "execution_count": null,
      "outputs": [
        {
          "output_type": "stream",
          "name": "stdout",
          "text": [
            "3\n"
          ]
        }
      ]
    },
    {
      "cell_type": "code",
      "source": [
        "#comment\n",
        "\"\"\"multiline comment\"\"\""
      ],
      "metadata": {
        "id": "5Ibk2rNqXT61"
      },
      "execution_count": null,
      "outputs": []
    },
    {
      "cell_type": "code",
      "source": [
        "str=\"Hello world!\"\n",
        "print(str)"
      ],
      "metadata": {
        "colab": {
          "base_uri": "https://localhost:8080/"
        },
        "id": "Re6mz8TXXd30",
        "outputId": "8f0906fc-2cf7-4ba4-bb70-6375ece079cd"
      },
      "execution_count": null,
      "outputs": [
        {
          "output_type": "stream",
          "name": "stdout",
          "text": [
            "Hello world!\n"
          ]
        }
      ]
    },
    {
      "cell_type": "code",
      "source": [
        "a, b, c = 1, 2, \"Hello new\"\n",
        "print(f\"value of a, b, c is  a ={a}, b={b}, c= {c}\")"
      ],
      "metadata": {
        "colab": {
          "base_uri": "https://localhost:8080/"
        },
        "id": "3uIbaRinXkv3",
        "outputId": "da152b25-541f-4000-dcb7-f612e3f7f39b"
      },
      "execution_count": null,
      "outputs": [
        {
          "output_type": "stream",
          "name": "stdout",
          "text": [
            "value of a, b, c is  a =1, b=2, c= Hello new\n"
          ]
        }
      ]
    },
    {
      "cell_type": "code",
      "source": [
        "print(\"{},{}\".format('str ', 13))\n",
        "print(\"{} {}\".format(\"Value is \", b))"
      ],
      "metadata": {
        "colab": {
          "base_uri": "https://localhost:8080/"
        },
        "id": "6V-2GDciYBmU",
        "outputId": "8fcb03b7-5605-472e-c93c-075be06d2fb1"
      },
      "execution_count": null,
      "outputs": [
        {
          "output_type": "stream",
          "name": "stdout",
          "text": [
            "str ,13\n",
            "Value is  2\n"
          ]
        }
      ]
    },
    {
      "cell_type": "code",
      "source": [
        "print(type(b))"
      ],
      "metadata": {
        "colab": {
          "base_uri": "https://localhost:8080/"
        },
        "id": "3baCQs6gZaRO",
        "outputId": "8f48a6a5-c914-4b2d-8552-05938f36cf5b"
      },
      "execution_count": null,
      "outputs": [
        {
          "output_type": "stream",
          "name": "stdout",
          "text": [
            "<class 'int'>\n"
          ]
        }
      ]
    },
    {
      "cell_type": "code",
      "source": [
        "#create Int value\n",
        "a=45\n",
        "print(f\"value of a = {a} & and type of a is {type(a)}\")\n",
        "#float value\n",
        "b=45.54\n",
        "print(f\"value of b = {b} & and type of b is {type(b)}\")\n",
        "#complex value\n",
        "c=345+2j\n",
        "print(f\"value of c = {c} & and type of c is {type(c)}\")\n",
        "#string value\n",
        "str,str1=\"hello\", \"World\"\n",
        "print(f\"value of str ={str} and type of str is {type(str)}\")\n",
        "print(str+str1)"
      ],
      "metadata": {
        "colab": {
          "base_uri": "https://localhost:8080/"
        },
        "id": "nGsdUEkmbedy",
        "outputId": "95574c2c-ca2c-4b41-f906-fd327b3951be"
      },
      "execution_count": null,
      "outputs": [
        {
          "output_type": "stream",
          "name": "stdout",
          "text": [
            "value of a = 45 & and type of a is <class 'int'>\n",
            "value of b = 45.54 & and type of b is <class 'float'>\n",
            "value of c = (345+2j) & and type of c is <class 'complex'>\n",
            "value of str =hello and type of str is <class 'str'>\n",
            "helloWorld\n"
          ]
        }
      ]
    },
    {
      "cell_type": "code",
      "source": [
        "#List datatype\n",
        "ldata=[1,2,4, \"hello world\", 2.4]\n",
        "print(type(ldata))\n",
        "print(ldata[0])\n",
        "print(ldata[-1]) # erturn last index value\n",
        "print(ldata[0:3])\n",
        "print(ldata[3])\n",
        "ldata.insert(3,\"Value inserted\")\n",
        "ldata.append(\"value is added using append method\")\n",
        "print(ldata)\n",
        "ldata[2]=\"value is changed\"\n",
        "print(ldata)\n",
        "del ldata[4]\n",
        "print(ldata)"
      ],
      "metadata": {
        "colab": {
          "base_uri": "https://localhost:8080/"
        },
        "id": "71TRnZJhelih",
        "outputId": "a001bc27-5136-4b19-c806-445512f8b5b5"
      },
      "execution_count": null,
      "outputs": [
        {
          "output_type": "stream",
          "name": "stdout",
          "text": [
            "<class 'list'>\n",
            "1\n",
            "2.4\n",
            "[1, 2, 4]\n",
            "hello world\n",
            "[1, 2, 4, 'Value inserted', 'hello world', 2.4, 'value is added using append method']\n",
            "[1, 2, 'value is changed', 'Value inserted', 'hello world', 2.4, 'value is added using append method']\n",
            "[1, 2, 'value is changed', 'Value inserted', 2.4, 'value is added using append method']\n"
          ]
        }
      ]
    },
    {
      "cell_type": "code",
      "source": [
        "#Tuple\n",
        "tdata=(1,2,4, 'Hello', 45, 4.54, 487+2j)\n",
        "print(tdata)\n",
        "print(tdata[2:])"
      ],
      "metadata": {
        "colab": {
          "base_uri": "https://localhost:8080/"
        },
        "id": "T-kX0mmGoZuA",
        "outputId": "f08a4f55-d9fd-4aa6-e61b-78cc114589f7"
      },
      "execution_count": null,
      "outputs": [
        {
          "output_type": "stream",
          "name": "stdout",
          "text": [
            "(1, 2, 4, 'Hello', 45, 4.54, (487+2j))\n",
            "(4, 'Hello', 45, 4.54, (487+2j))\n"
          ]
        }
      ]
    },
    {
      "cell_type": "code",
      "source": [
        "#Dictionary\n",
        "ddata = {1:\"hello\",2:2, 3:\"Monkey\"}\n",
        "print(ddata)\n",
        "print(ddata[2])\n",
        "print(ddata[3])\n",
        "ddata[1]=\"value is changed\"\n",
        "print(ddata)\n",
        "ddata[4]=\"new value is added\"\n",
        "print(ddata)\n",
        "del ddata[2]\n",
        "print(ddata)"
      ],
      "metadata": {
        "colab": {
          "base_uri": "https://localhost:8080/"
        },
        "id": "VvWjwxRVqMmh",
        "outputId": "e5c87102-30ad-492c-853e-331778d721e7"
      },
      "execution_count": null,
      "outputs": [
        {
          "output_type": "stream",
          "name": "stdout",
          "text": [
            "{1: 'hello', 2: 2, 3: 'Monkey'}\n",
            "2\n",
            "Monkey\n",
            "{1: 'value is changed', 2: 2, 3: 'Monkey'}\n",
            "{1: 'value is changed', 2: 2, 3: 'Monkey', 4: 'new value is added'}\n",
            "{1: 'value is changed', 3: 'Monkey', 4: 'new value is added'}\n"
          ]
        }
      ]
    },
    {
      "cell_type": "code",
      "source": [
        "#Dynamic dictionary\n",
        "dict={}\n",
        "dict['FirstName']='Thomas'\n",
        "dict['LastName']='Shelby'\n",
        "dict['Gender']=\"Male\"\n",
        "print(dict)\n",
        "print(dict['FirstName'])\n",
        "print(dict['LastName'])"
      ],
      "metadata": {
        "colab": {
          "base_uri": "https://localhost:8080/"
        },
        "id": "KsCNSJ70sXeC",
        "outputId": "65135ebd-c2dd-4328-b241-b67e6fc67e90"
      },
      "execution_count": null,
      "outputs": [
        {
          "output_type": "stream",
          "name": "stdout",
          "text": [
            "{'FirstName': 'Thomas', 'LastName': 'Shelby', 'Gender': 'Male'}\n",
            "Thomas\n",
            "Shelby\n"
          ]
        }
      ]
    },
    {
      "cell_type": "code",
      "source": [
        "#if condition\n",
        "greeting=\"Good Morning\"\n",
        "if greeting==\"Good Morning\":\n",
        "  print(\"Condition is true\")\n"
      ],
      "metadata": {
        "colab": {
          "base_uri": "https://localhost:8080/"
        },
        "id": "KSw8L9yDucxG",
        "outputId": "d31bb950-1ba1-4e32-b0c3-9d66cdc72668"
      },
      "execution_count": null,
      "outputs": [
        {
          "output_type": "stream",
          "name": "stdout",
          "text": [
            "Condition is true\n"
          ]
        }
      ]
    },
    {
      "cell_type": "code",
      "source": [
        "#if else\n",
        "greeting=\"Good Night\"\n",
        "if greeting==\"Good Morning\":\n",
        "  print(\"Condition is true\")\n",
        "  print(\"Second line\")\n",
        "else:\n",
        "  print(\"Condition is false\")\n",
        "\n",
        "print(\"If else block is executed\")"
      ],
      "metadata": {
        "colab": {
          "base_uri": "https://localhost:8080/"
        },
        "id": "lX8o2PTKvFMy",
        "outputId": "b75c27ca-d982-45eb-8dce-2edeb57fe494"
      },
      "execution_count": null,
      "outputs": [
        {
          "output_type": "stream",
          "name": "stdout",
          "text": [
            "Condition is false\n",
            "If else block is executed\n"
          ]
        }
      ]
    },
    {
      "cell_type": "code",
      "source": [
        "# for loop\n",
        "ldata=[78,78,\"hello\",4.5]\n",
        "for i in ldata:\n",
        "  print(i)"
      ],
      "metadata": {
        "colab": {
          "base_uri": "https://localhost:8080/"
        },
        "id": "-Zkr5b7cx1vy",
        "outputId": "2881bcee-0c57-4f8a-96fd-3956ac326b6b"
      },
      "execution_count": null,
      "outputs": [
        {
          "output_type": "stream",
          "name": "stdout",
          "text": [
            "78\n",
            "78\n",
            "hello\n",
            "4.5\n"
          ]
        }
      ]
    },
    {
      "cell_type": "code",
      "source": [
        "#print table of two\n",
        "num=int(input(\"Enter Number\"))\n",
        "for i in range(num,(num*10)+1,num):\n",
        "  print(i)"
      ],
      "metadata": {
        "colab": {
          "base_uri": "https://localhost:8080/"
        },
        "id": "xzKBpT12y3ET",
        "outputId": "d7af4306-01b6-4864-947a-65ecf58a3cb1"
      },
      "execution_count": null,
      "outputs": [
        {
          "output_type": "stream",
          "name": "stdout",
          "text": [
            "Enter Number75\n",
            "75\n",
            "150\n",
            "225\n",
            "300\n",
            "375\n",
            "450\n",
            "525\n",
            "600\n",
            "675\n",
            "750\n"
          ]
        }
      ]
    },
    {
      "cell_type": "code",
      "source": [
        "#Sum of first 5 natural number i.e. 1+2+3+4+5\n",
        "num=0\n",
        "for i in range(1,6):\n",
        "  num+=i\n",
        "\n",
        "print(\"Sum of first five natural number is \", num)"
      ],
      "metadata": {
        "colab": {
          "base_uri": "https://localhost:8080/"
        },
        "id": "hulPCscPzmgT",
        "outputId": "11e52b48-b32c-48b7-c65a-619dc2029fc2"
      },
      "execution_count": null,
      "outputs": [
        {
          "output_type": "stream",
          "name": "stdout",
          "text": [
            "Sum of first five natural number is  15\n"
          ]
        }
      ]
    }
  ]
}