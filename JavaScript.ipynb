{
  "nbformat": 4,
  "nbformat_minor": 0,
  "metadata": {
    "colab": {
      "provenance": [],
      "authorship_tag": "ABX9TyOegOam4t+/MITXCVUseP7m",
      "include_colab_link": true
    },
    "kernelspec": {
      "name": "python3",
      "display_name": "Python 3"
    },
    "language_info": {
      "name": "python"
    }
  },
  "cells": [
    {
      "cell_type": "markdown",
      "metadata": {
        "id": "view-in-github",
        "colab_type": "text"
      },
      "source": [
        "<a href=\"https://colab.research.google.com/github/RyukThe/BBD-python-selenium-notebook/blob/master/JavaScript.ipynb\" target=\"_parent\"><img src=\"https://colab.research.google.com/assets/colab-badge.svg\" alt=\"Open In Colab\"/></a>"
      ]
    },
    {
      "cell_type": "code",
      "execution_count": null,
      "metadata": {
        "id": "cyHXA8wLsS5C"
      },
      "outputs": [],
      "source": [
        "!sudo apt-get update\n",
        "!sudo apt-get install -y nodejs npm"
      ]
    },
    {
      "cell_type": "code",
      "source": [
        "!node -v\n",
        "!npm -v"
      ],
      "metadata": {
        "colab": {
          "base_uri": "https://localhost:8080/"
        },
        "id": "2DAAZ-eCt5KR",
        "outputId": "da78185d-6278-4268-d2dc-7590ee0ba432"
      },
      "execution_count": null,
      "outputs": [
        {
          "output_type": "stream",
          "name": "stdout",
          "text": [
            "v12.22.9\n",
            "8.5.1\n"
          ]
        }
      ]
    },
    {
      "cell_type": "code",
      "source": [
        "!node test.js"
      ],
      "metadata": {
        "colab": {
          "base_uri": "https://localhost:8080/"
        },
        "id": "Givbp5znucgj",
        "outputId": "9d4acb94-f8b3-4d5c-b1a5-3fbefa1999c7"
      },
      "execution_count": null,
      "outputs": [
        {
          "output_type": "stream",
          "name": "stdout",
          "text": [
            "Hello Js World!!\n"
          ]
        }
      ]
    },
    {
      "cell_type": "markdown",
      "source": [
        "#JavaScript\n",
        "###What is JavaScript?\n",
        "JavaScript is a programming language is used to create any type of software like web base, mobile base, AI ML, frontend, backend, desktop application.\n",
        "* In 1995, when js is introduce first time then it is only use to add intractivity in web base application. This is develop in colaboration with Netscape and Sun Mirosystem. For just creating web fronted to add the intractivity.\n",
        "* After some period of time, by using the **node.js **module it provide the runtime envoirnment which have **JavaScript engine** so using this we can run javascript on your local machine. (Every browser have JavaScript Engine builtin)\n",
        "* Computer only understand the binary  (machine code) i.e. 0s and 1s so compiler or interpreter convert code into machine language for other languages like java, c,c++, python. *For js it is done by using JavaScript Engine, In js, Js engine conveert the code into machine code.*\n",
        "\n",
        "####console.log(): this will write / log/ show messages on console.\n"
      ],
      "metadata": {
        "id": "lt0beh5cyAXp"
      }
    },
    {
      "cell_type": "code",
      "source": [
        "!node test.js"
      ],
      "metadata": {
        "colab": {
          "base_uri": "https://localhost:8080/"
        },
        "id": "XuvU36DK25e1",
        "outputId": "c455221b-3911-4e1c-d291-cffc8fa287c3"
      },
      "execution_count": null,
      "outputs": [
        {
          "output_type": "stream",
          "name": "stdout",
          "text": [
            "Hello Js World!!\n"
          ]
        }
      ]
    },
    {
      "cell_type": "markdown",
      "source": [
        "Mostly Js is used to create the frontend of web pages."
      ],
      "metadata": {
        "id": "f1xIQ7mT4LhF"
      }
    },
    {
      "cell_type": "markdown",
      "source": [
        "#Variable\n",
        "Variables is nothing but is pice of memory which is used store / hold data/information temporary.\n",
        "* Variable is used for information reusability.\n",
        "* In js, by using variable name and assigning the value to we can create the variable. like\n"
      ],
      "metadata": {
        "id": "WJ4mSFFR6ZpE"
      }
    },
    {
      "cell_type": "markdown",
      "source": [
        "num = 45 // this allowed but not recommended"
      ],
      "metadata": {
        "id": "TZrFRq-p8JyU"
      }
    },
    {
      "cell_type": "markdown",
      "source": [
        "* we can declare the variable by using let keyword and followed by the variable name. let is keyword to creat an variable like"
      ],
      "metadata": {
        "id": "VhLX85AM8h9P"
      }
    },
    {
      "cell_type": "markdown",
      "source": [
        "let num = 45"
      ],
      "metadata": {
        "id": "Llm13bdV8qAI"
      }
    },
    {
      "cell_type": "markdown",
      "source": [
        "* In js, while assigning the string value to the variable we have enclosed the infromation / value in double or single quote. like"
      ],
      "metadata": {
        "id": "qTXjF9FX90ck"
      }
    },
    {
      "cell_type": "markdown",
      "source": [
        "username= \"tom\"\n",
        "name='shelby'"
      ],
      "metadata": {
        "id": "eAPja9iB-CQ-"
      }
    },
    {
      "cell_type": "markdown",
      "source": [
        "When we have situation we have to use the single qoute inbetween string value then we have to enclose the string value in double quotes to avoid the confusion and similarly for visevers for if we are using double qoutes inbetween the string then we have to enclosed string value in single qoute like"
      ],
      "metadata": {
        "id": "_klwxOJS_CsX"
      }
    },
    {
      "cell_type": "markdown",
      "source": [
        "##let keyword\n",
        "1. let keyword is used to declare the variable.\n",
        "2. variable declare using let keyword can intialize at time of declaration or can be initialize later.\n",
        "3. Varibale declare using let keyword, it's value can be change or updated.\n",
        "4. Variable which declare using let keyword can be re-initialize or value can be change or update but we can not re-declare the same variable again."
      ],
      "metadata": {
        "id": "824Uys1hJkuu"
      }
    },
    {
      "cell_type": "markdown",
      "source": [
        "let info= \"Hey!!, How's going?\"    \n",
        "let dialoge = 'ram said, \"He was not playing.\"'"
      ],
      "metadata": {
        "id": "7BK-zqH3_KO4"
      }
    },
    {
      "cell_type": "markdown",
      "source": [
        "* **In variable, we can change the values. **\n",
        "* When we use let to declare the variable then we can update / change the value of the variable but we can't redeclare the variable with the same name. like"
      ],
      "metadata": {
        "id": "8UYkv5V_AnOw"
      }
    },
    {
      "cell_type": "markdown",
      "source": [
        "**update value of date variable it allowed**   \n",
        "let date = '25-05-2025'   \n",
        "date = '25 may 2025'"
      ],
      "metadata": {
        "id": "BHpZk9Y5BntM"
      }
    },
    {
      "cell_type": "markdown",
      "source": [
        "re-declaration is not allowed\n",
        "let date = \"25-05-2025\"  \n",
        "let date = \"may 23, 2025\" \\\\\n",
        "this is not allowed it throw an error : \"Identifier 'date' has already been declared\""
      ],
      "metadata": {
        "id": "n-j7y_cTB76v"
      }
    },
    {
      "cell_type": "markdown",
      "source": [
        "##Rules for Naming an variable\n",
        "1. keyword can not be used as variable name.\n",
        "2. variable  name can contain the combination of character, numbers and special characters. only two special character's are allowed i.e. underscore and dollar sign. other than this are not allowed\n",
        "3. variable name should start with letter, or special character like underscore or dollar sign not with number.\n",
        "4. Variable name should be meaningful.\n",
        "5. We can use snake casing rule, when we have more than one word to declare the variable then we can use _ (underscore) as spaces are not allowed while declering the variable.  \n",
        "let user_name=\"tom\"   \n",
        "or we can use cammel case rules, in which firstword in lower case and first character of second word start with capital letter like   \n",
        "let stdName='name'"
      ],
      "metadata": {
        "id": "tMbHTB8eDlDC"
      }
    },
    {
      "cell_type": "markdown",
      "source": [
        "## const keyword\n",
        "* **const keyword is used to declare the constant values.**\n",
        "\n",
        "1. const keyword is used to declare constants.\n",
        "2. variable declare using const keyword can intialize at time of declaration only.\n",
        "3. Varibale declare using const keyword, it's value can not be change or updated.\n",
        "4. Variable which declare using const keyword can not be re-initialize or value can not be change or update and we can not re-declare the same variable again.   \n",
        "ex: when we try to update value of const variable then it throw an error : Assignment to constant variable."
      ],
      "metadata": {
        "id": "rHvSVC6JIHwi"
      }
    },
    {
      "cell_type": "markdown",
      "source": [
        "# Data Types\n",
        "Data type represent the type of data we are working with. It can be number, string, boolean\n",
        "\n",
        "* In JavaScript there are two type of data type\n",
        "1. Primitive\n",
        "2. Object\n",
        "\n",
        "In primitive we have\n",
        "1. Number\n",
        "2. String\n",
        "3. Boolean\n",
        "4. Null\n",
        "5. Undefined\n",
        "6. symbol\n",
        "\n",
        "##1. Number\n",
        "Number data type contains all number like integer number, floating point number, positive / negative.   \n",
        "When we have to work with very very large number then we can use **BigInt** while working with bigInt we have to end the number with n. when we want to perform the operation with the bigint then we need to convert the number into the bigint by adding n to the end.\n",
        "* We use the _ underscore inbetween the number to differentiate the number how many zeros are there.    \n",
        "like let num = 1_00_000\n",
        "* we can store deciaml number, hexa decimal number, exponetial number, octal number.\n",
        "* when we do some mathematical operation like 5/0 then we recive  **infinity** in js. the typeof infinity is number. we have positive inifinty and negative infinity range. when we divide -5/0 negative number with 0 then we get -infinity.\n",
        "* When we get the beyound range of maximum range of number then we get inifinity.   \n",
        "Note: by using Number.MAX_VALUE it return the max number which store in number."
      ],
      "metadata": {
        "id": "Io-XpNCNL3iC"
      }
    },
    {
      "cell_type": "markdown",
      "source": [
        "## typeof operator\n",
        "By using typeof operator we get the type of the variable.   \n",
        "typeof num   \n",
        "it will return the type of variable num"
      ],
      "metadata": {
        "id": "J9l0z_yeOeTi"
      }
    },
    {
      "cell_type": "markdown",
      "source": [
        "## 2.  String\n",
        "String data type is used to store the text information, in string we can store combination of alphabets, number and special characters.\n",
        "#####literal\n",
        "JavaScript, literals are fixed values that you directly write in your code. They represent values of different primitive types.   \n",
        "let user_name= \"tom Shelby\"\n",
        "* string concatenation is done using plus operator. (+ operator check the data type if it number then it perform addition if it string then it will concatenate them)\n",
        "\n",
        "## Escape Character\n",
        "Escape character is start with \\(back slash) as in js there are some character which speical meaning to differentiate them we can use the escape charater like\n",
        "1. \\n : it will add new line\n",
        "2. \\\" : it will add double qoute\n",
        "3. \\' : it will add single qoute\n",
        "4. \\t : it will add Tab\n",
        "5. \\b : it will give backspace (if we add extra character want to remove then we can use \\b)\n",
        "\n",
        "##3. Boolean\n",
        "Boolean data type can hold only one value which either true or false.  \n",
        "Boolean is used make decision based on the codition if true or false.\n",
        "##4. null\n",
        "Null means it does not contain any thing for now. but we can reserve the space for future values.  \n",
        "**null is keyword. and type of null is object**\n",
        "\n",
        "let number=null // assign null     \n",
        "console.log(number) //null  \n",
        "console.log(typeof number)//object  \n",
        "##5. undefined\n",
        "when we declare the variable and does not provide assign any value then the type of that variable is undefined. means value is not defined for that variable.   \n",
        "type of undfined is undefined\n",
        "let name   \n",
        "console.log(name) //undefined   \n",
        "console.log(typeof name)//undefined   \n",
        "\n",
        "##NaN\n",
        "when we perform the operation between number and string then it return NaN (Not a Number). The type of NaN is number.\n",
        "let num1=5  \n",
        "let na=\"Tom\"  \n",
        "let total= num1 / na  \n",
        "console.log(total)// NaN    \n",
        "console.log(typeof total)//number  \n",
        "\n",
        "#History of JavaScript\n",
        "* In 1990, the internet is got famous that time. Internet is used to share the information between the different machine. So, compaines want to share their information for that they start creating website to promot and share the information. So, compaines hire the HTML author to create the HTML pages for them. So, HTML author design the web site using HTML and CSS this pages are static pages. It's a simple page there are hyperlinks are present so by using them user can jump from one page to another. So, That time web pages are not intractive.  \n",
        "So, in 1993, a good browser have come to view the web page, mosac is the popular browser that time, then developers of mosac start their own company i.e. netscape. So Netscape create their own browser called Netscape navigator, this is paid broswer. Then big comapines like microsoft create it's browser i.e. Internet explore which is free. So, to compete with the microsoft Netscape collab with Sun microsystem (Java developer) they come with idea can we add interactivity to static web page. So they come with idea to create new lanuage so Netscape hire Brendan Eich who is working on Scheme Programming Language. They told to Brendan to create new langague by which user an interact with page page. So, Brendan create a new language in just 10 days. As it develope in just short period their some bugs, issues and awesome features. From then to now many advancment is done in this language. But there still bug in this which come from due to backward compatibility. The Name of  **Language is Mocha** While launching the they Change the name to the LiveScript. After that promot and market in Language in market. This is only use in Netscape browser, so to use this you pay. After sometime in 1995 they change the name  to JavaScript. Due to popularity of Java that time they use this name, and  this Language have some features of java, c, cpp, still in 1995 this only use in Netscape navigator.\n",
        "\n",
        "So, Microsoft perform reverse enginnering on JavaScritp, create their own Language and they give name to  this Language JScript. So that time, there two lanugage 1. JavaScript which work on only Netscape and 2. JScript is  work only IE. So, while developing the lanauge this website only work on specific browser i.e. best viewed in IE and best viewed netscape. As IE is free so mostly user are using IE Jscript.   \n",
        "Then Netscape go to the ECMA internationl (Eupropian computer Manifature association) this are responsible to create standard so, that there tow language to do one thing, there nothig common, so to create standard JavaScript become the standarad language so that can be use by anyone. Then ECMA use JavaScript and create standard called ECMAScript, so the ECMAScript have standard rules, defination and protocol. Means if your using any laugange which following ECMAScript weather it is JavaScript or JScript it will work on any browser.\n",
        "ECMAScript give standard to C#, dart, C, CPP.  \n",
        "So, in 1997 ES1 (ECMAScript 1) is introduce. when ES 3 is introduce, So microsoft is using the javascript.  \n",
        "In 2000, dot come bubul is burst. To develope and manage your won website the market cap of comapnies needs to very high. So, Netscape got sold to Aol. Before selling company them make source of Netcape and make it open source so that anyone can use it. Morzella FireFox is recranation of Netscape navigator.   \n",
        "After this peroid ES3.1 is introduce and many feaures were added not any major.  \n",
        "A comapnay called Macromdia create new language called ActionScript and added major feautures which are not added in ES3.1 called ES4.\n",
        "previously when we want to change any data we have to navigate from one page to another, but In 2004, AJAX is itroduces due to this we can create single page webpages. This is added in JavaScript which give boost.  \n",
        "In 2008, in JavaScript AJAX and jQuery is getting famous but to run the JavaScript code we need JavaScript engine.\n",
        "**JavaScript is interpreted Language mean it execute the code line by line. it is slow in performance.**\n",
        "**In Compiled languages entire code get compiled while compiling it check for error if it successfuly compiled it means it does not have any sytax error. Then it create a executable file which can run on machine which bit faster.**  \n",
        "In 2008, Google come with there browser each companies have there own Engine. IE have there own different engine. So, Google introduce new engine i.e. V8 engine, now JavaScript file have both compiled file and interpreted file also. They introduce Just In Time Compiler. So, now they come up with idea can we use JavaScript on our machine / OS as it is easy and fast, to do this the new environment is introduce i.e. nodejs it's environment which have JavaScript engine which help to run Js code on our machine. In the same year of 2009 we get ES5 version, from this js is used to create web frontend, backend, desktop application, web application, server site inshort all kind of application.\n",
        "In 2015 ES6 is introduce, from this we get yearly new version of Es  \n",
        "Js is Backward Compatible mean we can use old features. Not forward compatible mean we can't use new features in old version of browser.\n"
      ],
      "metadata": {
        "id": "WMd9QiPcVxBh"
      }
    },
    {
      "cell_type": "markdown",
      "source": [
        "#type conversion and type Coercion\n",
        "Some type we have to convert our data from one type of data to another for this we have to perform type conversion. Like  \n",
        "Number -> String  \n",
        "String -> Number  \n",
        "Number -> Boolean    \n",
        "when we don't want to  perform any calculation we can store the number in text.\n",
        "1. String(Number_value) : this will convert the number value to the string.   \n",
        "let num = String(6)  \n",
        "console.log(typeof num) //string   \n",
        "2. Number(\"String_value\"): This will convert the string number value to the number. Like  \n",
        "let num = Number(\"234\")   \n",
        "console.log(typeof num)   \n",
        "\n",
        "3. Boolean(value) : this will convert the value to the boolean.  \n",
        "if we convert the number to the boolean then it value is true all negative and positive number is true by default only 0 is false.\n",
        "Truthy and falsy  when we convert any value if it give true then it truty and if it gives false then its falsy value.   \n",
        "When  we convert the null to the boolean then we get value false.    \n",
        "console.log(Boolean(4)) // true\n",
        "\n",
        "Above conversion is called as Explicit Conversion mean as developer we are explicitly convert data from one format to another.\n",
        "\n",
        "##type corecsion\n",
        "Type coercion in JavaScript refers to the automatic or implicit conversion of values from one data type to another, such as strings to numbers. This process is often used during operations or comparisons involving different data types to make them compatible.\n",
        "\n",
        "suppose, we declare the variable and don't assign the value. like  \n",
        "let x  \n",
        "console.log(x, typeof x) // undefined undefined  \n",
        "when we assign the number to the variable   \n",
        "x = 5\n",
        "console.log(x, typeof x) // 5 number  \n",
        "Here the type is automatically converted from undefined to number,  \n",
        "Similarly, when we add string with number  \n",
        "x = x + \"\"  \n",
        "console.log(x, typeof x) // 5 string  \n",
        "here variable type is convert from number to string.  \n",
        "when **we use the subtract opeartor with string it convert to the number ** like   \n",
        "x = x-2\n",
        "console.log(x, typeof  x), //3 number   \n",
        "Type coercion can be observed in various scenarios, such as using the loose equality == operator, which behaves differently based on the types of its operands   \n",
        "In type corecison based on the operator we are using the it will convert type base on condition.  \n",
        "WE can manipulate the boolean by using operator, one of operator is (!) By using ! (not operator) we can reverse the boolean value from true to false and false to true.  \n",
        "When we use ! operator wiht the number it will convert the number to boolean and the value is get false as we use ! so mean by default value of number is true.    \n",
        "Due to this type corecison it leads the bug and create confusion.   \n",
        "Note: if we want to convert string number to number type then we can use unarry plus + like     \n",
        "let x =\"5\"  \n",
        "console.log(+x, typeof +x) // 5, number  \n",
        "#### parseInt()\n",
        "when we have text which start with number and have text within then it fetch the number from the start to the next alphabet or character. If text is start with other character then it return / convert to the NaN.\n"
      ],
      "metadata": {
        "id": "vXnBjeQII3AU"
      }
    },
    {
      "cell_type": "markdown",
      "source": [
        "#Artihmatic operators\n",
        "Arithmatic operators are used to perform arithmatic operation like add, sub, mul, div, mod, expoential  \n",
        "when we do true + true we get 2 because 0 means false and true mean 1.\n",
        "###shrot-hand operation\n",
        "num= num+1   \n",
        "we can write as   \n",
        "num +=1\n",
        "##Unarray Operator\n",
        "++ this will increment the value by one. Similarly, -- will decrement the value by one.\n",
        "##Post increment/decrement\n",
        "i++ : this is called post increment first it will fetch and assign the value and then increment the value by one.   \n",
        "##pre increment/dcrement\n",
        "--i: this is called pre decrement first it will decrement the value then fetch the value.\n",
        "\n",
        "**Note:** by using Math module we can perform mathematical operation like. Math.pow(base,power). this will return the square. like   \n",
        "console.log(Math.pow(2,3)) //8   \n",
        "We can find the power by ** also.\n",
        "\n",
        "## Relational operators\n",
        "When we want to perform compair two values then we can relational operators. When we compair two value then we get output in boolean format like true or false.  \n",
        "1. greater than(>)\n",
        "2. greater than equal to(>=)\n",
        "3. less than (<)\n",
        "4. less than equal to(<=)\n",
        "Note: When we compair string value using above oprators with string in string it perform comparision on ascii value assign to each character.   \n",
        "console.log(\"pen\">\"pencil\")   \n",
        "Note: When we compair number and number string like. 3>\"4\" o/p is false when we do this then it will convert string number into the number and then it will compair the values.   \n",
        "\n",
        "Note: javascript is loosly typed language. **If we have empty string and when we convert it into boolean it would return false.**\n",
        "\n",
        "5. loose equal (==): this will compair two values it don't check for the type of data.\n",
        "6. **strick equality(===):** This will compair two values as well as the type of data.\n",
        "\n",
        "##Logical Operators\n",
        "Logical Operators are used to perform operations on boolean values, Logical operators\n",
        "basically help us operate two booleans ex. let result = 7<8 && 7>6   \n",
        "logical operators are\n",
        "1. & : it will return the result in 0 and 1 if expersion result or operands are true then it return 1 otherwise 0\n",
        "2. && : it will return the result in true or false if both or all  expersion result or operands are true then return true otherwise false.\n",
        "3. | : it will return the result in 0 and 1 if one of condition is true then it will return 1. it return false if both condition are 0.\n",
        "4. || : It will reutrn the result in true or false. if one of condition is true then it return true. When both condition is false then only it return false.\n",
        "5. ! : it will reverse the boolean values like true to false and false to true.\n",
        "\n",
        "## Conditional Statement\n",
        "Conditional statement is used to check the condition. based on the condition it will control the execution of the block of code.\n",
        "1. if (): When condition is true then only block of code will get executed.\n",
        "2. if else: When we have two condition to check at same time, but at time only one condition will get executed if it's true then if block will get executed otherwise else block will get executed.\n",
        "Note: While using the if else if we don't use the {} braces then only one statement will get associtate with block. **So when we have multiple statement then we have to make use {culry braces}**\n",
        "3. else if: When we have more than two condition to check at same time but only one condition will get executed.\n",
        "4. (condition)?true:false - Ternary operator used  when we have to get result based condition true or false it return the value.    \n",
        "ex.    \n",
        "let num =6     \n",
        "let result = (num%2 ===0)?\"Even\": \"Odd\"   \n",
        "console.log(result)  \n"
      ],
      "metadata": {
        "id": "a5I5FDAMY4Z-"
      }
    },
    {
      "cell_type": "markdown",
      "source": [
        "## switch case statement\n",
        "In switch case statment we check the input comes from the user based on the input the case associate with the input only be executed.  \n",
        "* we have to break the case using break keyword at the end of each case where we want to close that case. break keyword jump out from the switch as soon as case is match with the input.\n",
        "* we can add default statement to show message to the user when user enter invalid input."
      ],
      "metadata": {
        "id": "QnO4eZXEnMNF"
      }
    },
    {
      "cell_type": "markdown",
      "source": [
        "##Template Literal (``) backtick\n",
        "a way to create more dynamic and readable strings in JavaScript by easily embedding variables and handling multi-line text. They make working with strings.   \n",
        "* by using ${} we can add variable and expersion in string."
      ],
      "metadata": {
        "id": "A9Ca4sXKru7U"
      }
    },
    {
      "cell_type": "markdown",
      "source": [
        "#Loops\n",
        "When we have to execute the code repeatedly then we can make use of loops.  \n",
        "while working with loop we need three thing we have to initialization, check the condition and increment. i.e. counter, check for condition and incrment.\n",
        "1. while(): we can use the while loop when we don't know the exact number iteration we want to execute until condition is true then we can use while loop. If the condition is true then only compiler will enter the while body. add execute the loop body until condition turns to false.\n",
        "2. do while : In do while loop for the first iteration it won't check for the condition is true or not it directly enter in do body and execute the code and from the second iteration it check the condition given in while if it's true then it enter to do body and execute the this executed repeatedly until condition become false.\n",
        "*Note: by using Ctrl + C we can stop the loop if it goes in infinte loop.*  \n",
        "3. for: we can use for loop when we know the exact number iteration(start number and end number) then we can use for loop. mostly used. for, for loop we have to pass three parameters and this are seprated by selmicolon."
      ],
      "metadata": {
        "id": "R6AEvnJzvwxS"
      }
    },
    {
      "cell_type": "markdown",
      "source": [
        "# Objects\n",
        "Objects is most important because by using object we can represent real worl entities in virtual world. Object can have state and behaviour.   \n",
        "State means information it has i.e. variable and behaviour means what it can do using the information it have i.e. functions.  \n",
        "ex. suppose we have object laptop then it have state/properties CPU, RAM, Storage, brand   \n",
        "suppose it's bank, and bank have one object called user which balance, password, name, etc.\n",
        "In Js there are many way's to define objects.   \n",
        "##1. Object Literal : In this we directly mention all properties of an object.  \n",
        "we declare the object by using let or const keyword follwing with object name. In object values are store in pair of key:value pair inside the curly braceses and key is seprated by (,).   \n",
        "**Object is non-primitive data type**\n",
        "let obj= {} // empty object\n",
        "let obj = {  \n",
        "  property:value,   \n",
        "\"name\": \"tom\",   \n",
        "\"dob\":\"24-03-2023\",     \n",
        "  userName: \"moon\",  \n",
        "  'work-Experience': '3Years'\n",
        "}      \n",
        "we can get fect values from object by using obj_name.key_name. Or we can use obj_name['key'] when key value have more than one words and when we want to fetch the value from object based on user input or using variable then also we can obj_name['key'].\n",
        "Note: we can use (,) and the end of last property also it won't give any error.\n",
        "### inner-object\n",
        "we can declare the object inside the object.   \n",
        "let alien = {\n",
        "  name:\"moon\",\n",
        "  laptop:{   \n",
        "    cup: 'i7',   \n",
        "    ram: 4,   \n",
        "    brand: 'asus',   \n",
        "  }  \n",
        "}     \n",
        "Note: When we have to get length of string value of property then we use length property like  \n",
        "console.log(alien.laptop.brand.length)  \n",
        "**Note: When we try to fetch the property which is not present inside the object then it return undfined**. *If property is not defined and we try to get the length then in this case it throw an error to overcome this if we are not sure about the property is present then we can use ? along with property if property is present it will get the lenght of value otherwise show undefined not throw any error. like  \n",
        "console.log(alien.laptop.brand1?.length)\n",
        "Note: Nullish Coalescing operator is denoted as (??) Double question Mark.\n",
        "### insert property in object\n",
        "obj_name.key = value\n",
        "obj_name['key']= value\n",
        "similarly, we can update the value\n",
        "obj_name['key']=updated value\n",
        "### delete property for object\n",
        "To delete the property from object we can use delete keyword following with the obj.key like  \n",
        "delete alien.name // it will delete name property/key from object.\n",
        "\n",
        "##For in loop\n",
        "When we want to print property in object one by one then we can use,    \n",
        "for in loop is used to iterate over the object. As we know the we can fetch the value from object we have to make use of key.\n",
        "sytnax  \n",
        "for (let key in obj_name)   \n",
        "{\n",
        "    console.log(key)  // this will get all key from object one by one\n",
        "}\n",
        "this key will represent the key of an object. it will get one key at time.\n"
      ],
      "metadata": {
        "id": "t_8Ynyv3a5dd"
      }
    },
    {
      "cell_type": "markdown",
      "source": [
        "#Functions\n",
        "functions are use to perform certain operation.  \n",
        "functions are useful for reusebility of code and maintain the code.  \n",
        "While coding we have to follow the DRY i.e. do not repete yourself.   \n",
        "functions are useful to break the biger task into smaller and can call multiple times.\n",
        "#### function declaration\n",
        "Function is declare using function keyword followed by function name and parenthesis. like  \n",
        "function greet(){    \n",
        "  console.log(\"Hello\")   \n",
        "}    \n",
        "once function is define we can call them multiple time by using function_name().  \n",
        "## return statement\n",
        "When we want to store result generated by function then we have to return it. To return from method we have to make use of return keyword. In one function only one return type is allowed, But in if else we can use multiple return statement.       \n",
        "* When a return statement is used in function body the execution of the function is stopped.\n",
        "\n",
        "## method with parameter/input\n",
        "We can pass the parameter/input to the method   \n",
        "syntx :  \n",
        "function add(a,b)   \n",
        "{  \n",
        "  return a + b  \n",
        "}  \n",
        "While calling function with parameter we have to pass the input to this method.   \n",
        "## Function expression\n",
        "expression means first it evaluate/solve the expersion then assigned. like\n",
        "let num = 5 + 5  // here 1st expression is solve then it's result is store in variable.\n",
        "* **In Js, functions are treated as an object, function is non-primitve data type of object type**\n",
        "* function expression     \n",
        "Assigning anonyms function to the variable.     \n",
        "let add = function(num1,num2)  \n",
        "{  \n",
        "  return a +b  \n",
        "}   \n",
        "Here, above we assign anonyms function to the variable it called function expression, first function is evaluated then the result is assign in variable.\n",
        "anonyms function means function which don't have function_name. like   \n",
        "function()  \n",
        "while calling this function expression we have to call variable and pass the parameter the variable, so varible is act like an function. And as function is returning something we have to store it in variable.   \n",
        "let result = add(5,6)   \n",
        "## default argument / default variable\n",
        "while defining the method we can add some default values if user not pass value for that then it use default value if user pass the value then default values is get overried.   \n",
        "function add(num1, num2,num3=1)  \n",
        "{  \n",
        "  console.log(num1,num2,num3)  \n",
        "  return num1+ num2+ num3  \n",
        "}   \n",
        "Note: default value is only applicable when your not passing any value.  \n",
        "#Type of Variable\n",
        "There are two types of variable\n",
        "1. Global variable\n",
        "2. Local variable\n",
        "1. Global Variable : variable which is declare out side of block is called golbal variable which is accessiable in thourghout all blocks and methods. Also called as permentant variable\n",
        "2. Local variable: Variable which is declare inside block is called as local variable. Which is only accessible in partical block out side block we can't access them it also called temporary variable.\n",
        "\n",
        "##arrow function\n",
        "it will reduce the number of line or number of words in the code.\n",
        "While declaring the arrow function we did not have to mention function keyword, we just use   \n",
        " let add = () => {  \n",
        "  //method body\n",
        " }   \n",
        "so compiler will treat this as an function. (function i.e. behaviour we are assigning to the variable, so we did not mention function keyword)  \n",
        "* in arrow function we can, pass the parameters also in parenthesis.\n",
        "* in arrow function if we have only one statment then we did not have to mention curly  braces as well as return statement. it automatically return the result in variable.\n",
        "\n"
      ],
      "metadata": {
        "id": "mTY9efBVz4XB"
      }
    }
  ]
}