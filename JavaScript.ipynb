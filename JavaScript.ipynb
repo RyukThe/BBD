{
  "nbformat": 4,
  "nbformat_minor": 0,
  "metadata": {
    "colab": {
      "provenance": [],
      "authorship_tag": "ABX9TyMF87HnaFcuoIBQxmn4deQ+",
      "include_colab_link": true
    },
    "kernelspec": {
      "name": "python3",
      "display_name": "Python 3"
    },
    "language_info": {
      "name": "python"
    }
  },
  "cells": [
    {
      "cell_type": "markdown",
      "metadata": {
        "id": "view-in-github",
        "colab_type": "text"
      },
      "source": [
        "<a href=\"https://colab.research.google.com/github/RyukThe/BBD-python-selenium-notebook/blob/master/JavaScript.ipynb\" target=\"_parent\"><img src=\"https://colab.research.google.com/assets/colab-badge.svg\" alt=\"Open In Colab\"/></a>"
      ]
    },
    {
      "cell_type": "code",
      "execution_count": null,
      "metadata": {
        "id": "cyHXA8wLsS5C"
      },
      "outputs": [],
      "source": [
        "!sudo apt-get update\n",
        "!sudo apt-get install -y nodejs npm"
      ]
    },
    {
      "cell_type": "code",
      "source": [
        "!node -v\n",
        "!npm -v"
      ],
      "metadata": {
        "colab": {
          "base_uri": "https://localhost:8080/"
        },
        "id": "2DAAZ-eCt5KR",
        "outputId": "da78185d-6278-4268-d2dc-7590ee0ba432"
      },
      "execution_count": 9,
      "outputs": [
        {
          "output_type": "stream",
          "name": "stdout",
          "text": [
            "v12.22.9\n",
            "8.5.1\n"
          ]
        }
      ]
    },
    {
      "cell_type": "code",
      "source": [
        "!node test.js"
      ],
      "metadata": {
        "colab": {
          "base_uri": "https://localhost:8080/"
        },
        "id": "Givbp5znucgj",
        "outputId": "9d4acb94-f8b3-4d5c-b1a5-3fbefa1999c7"
      },
      "execution_count": 12,
      "outputs": [
        {
          "output_type": "stream",
          "name": "stdout",
          "text": [
            "Hello Js World!!\n"
          ]
        }
      ]
    },
    {
      "cell_type": "markdown",
      "source": [
        "#JavaScript\n",
        "###What is JavaScript?\n",
        "JavaScript is a programming language is used to create any type of software like web base, mobile base, AI ML, frontend, backend, desktop application.\n",
        "* In 1995, when js is introduce first time then it is only use to add intractivity in web base application. This is develop in colaboration with Netscape and Sun Mirosystem. For just creating web fronted to add the intractivity.\n",
        "* After some period of time, by using the **node.js **module it provide the runtime envoirnment which have **JavaScript engine** so using this we can run javascript on your local machine. (Every browser have JavaScript Engine builtin)\n",
        "* Computer only understand the binary  (machine code) i.e. 0s and 1s so compiler or interpreter convert code into machine language for other languages like java, c,c++, python. *For js it is done by using JavaScript Engine, In js, Js engine conveert the code into machine code.*\n",
        "\n",
        "####console.log(): this will write / log/ show messages on console.\n"
      ],
      "metadata": {
        "id": "lt0beh5cyAXp"
      }
    },
    {
      "cell_type": "code",
      "source": [
        "!node test.js"
      ],
      "metadata": {
        "colab": {
          "base_uri": "https://localhost:8080/"
        },
        "id": "XuvU36DK25e1",
        "outputId": "c455221b-3911-4e1c-d291-cffc8fa287c3"
      },
      "execution_count": 14,
      "outputs": [
        {
          "output_type": "stream",
          "name": "stdout",
          "text": [
            "Hello Js World!!\n"
          ]
        }
      ]
    },
    {
      "cell_type": "markdown",
      "source": [
        "Mostly Js is used to create the frontend of web pages."
      ],
      "metadata": {
        "id": "f1xIQ7mT4LhF"
      }
    },
    {
      "cell_type": "markdown",
      "source": [
        "#Variable\n",
        "Variables is nothing but is pice of memory which is used store / hold data/information temporary.\n",
        "* Variable is used for information reusability.\n",
        "* In js, by using variable name and assigning the value to we can create the variable. like\n"
      ],
      "metadata": {
        "id": "WJ4mSFFR6ZpE"
      }
    },
    {
      "cell_type": "markdown",
      "source": [
        "num = 45 // this allowed but not recommended"
      ],
      "metadata": {
        "id": "TZrFRq-p8JyU"
      }
    },
    {
      "cell_type": "markdown",
      "source": [
        "* we can declare the variable by using let keyword and followed by the variable name. let is keyword to creat an variable like"
      ],
      "metadata": {
        "id": "VhLX85AM8h9P"
      }
    },
    {
      "cell_type": "markdown",
      "source": [
        "let num = 45"
      ],
      "metadata": {
        "id": "Llm13bdV8qAI"
      }
    },
    {
      "cell_type": "markdown",
      "source": [
        "* In js, while assigning the string value to the variable we have enclosed the infromation / value in double or single quote. like"
      ],
      "metadata": {
        "id": "qTXjF9FX90ck"
      }
    },
    {
      "cell_type": "markdown",
      "source": [
        "username= \"tom\"\n",
        "name='shelby'"
      ],
      "metadata": {
        "id": "eAPja9iB-CQ-"
      }
    },
    {
      "cell_type": "markdown",
      "source": [
        "When we have situation we have to use the single qoute inbetween string value then we have to enclose the string value in double quotes to avoid the confusion and similarly for visevers for if we are using double qoutes inbetween the string then we have to enclosed string value in single qoute like"
      ],
      "metadata": {
        "id": "_klwxOJS_CsX"
      }
    },
    {
      "cell_type": "markdown",
      "source": [
        "let info= \"Hey!!, How's going?\"\n",
        "let dialoge = 'ram said, \"He was not playing.\"'"
      ],
      "metadata": {
        "id": "7BK-zqH3_KO4"
      }
    },
    {
      "cell_type": "markdown",
      "source": [
        "* **In variable, we can change the values. **\n",
        "* When we use let to declare the variable then we can update / change the value of the variable but we can't redeclare the variable with the same name. like"
      ],
      "metadata": {
        "id": "8UYkv5V_AnOw"
      }
    },
    {
      "cell_type": "markdown",
      "source": [
        "**update value of date variable it allowed**   \n",
        "let date = '25-05-2025'   \n",
        "date = '25 may 2025'"
      ],
      "metadata": {
        "id": "BHpZk9Y5BntM"
      }
    },
    {
      "cell_type": "markdown",
      "source": [
        "re-declaration is not allowed\n",
        "let date = \"25-05-2025\"  \n",
        "let date = \"may 23, 2025\" \\\\\n",
        "this is not allowed it throw an error : \"Identifier 'date' has already been declared\""
      ],
      "metadata": {
        "id": "n-j7y_cTB76v"
      }
    },
    {
      "cell_type": "markdown",
      "source": [
        "##Rules for Namin an variable\n",
        "1. keyword can not be used as variable.\n",
        "2. variable  name can contain the combination of character, numbers and special characters. only two special character's are allowed i.e. underscore and dollar sign. other than this are not allowed\n",
        "3. variable name should start with letter, or special character like underscore or dollar sign not with number.\n",
        "4. Variable name should be meaningful.\n",
        "5. We can use snake casing rule, when we have more than one word to declare the variable then we can use _ (underscore) as spaces are not allowed while declering the variable.  \n",
        "let user_name=\"tom\"   \n",
        "or we can use cammel case rules, in which firstword in lower case and first character of second word start with capital letter like   \n",
        "let stdName='name'"
      ],
      "metadata": {
        "id": "tMbHTB8eDlDC"
      }
    }
  ]
}